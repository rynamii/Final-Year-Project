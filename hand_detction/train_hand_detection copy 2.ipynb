{
 "cells": [
  {
   "cell_type": "code",
   "execution_count": 1,
   "metadata": {},
   "outputs": [],
   "source": [
    "import models\n",
    "import model_setup\n",
    "import numpy as np\n",
    "import torch\n",
    "from sklearn.metrics import confusion_matrix\n",
    "import matplotlib.pyplot as plt\n",
    "import seaborn as sns\n",
    "from torch.utils.data import random_split, DataLoader\n",
    "from tqdm import tqdm\n",
    "from itertools import product\n",
    "from datetime import datetime\n",
    "from torchvision import transforms"
   ]
  },
  {
   "cell_type": "markdown",
   "metadata": {},
   "source": [
    "# Setup data"
   ]
  },
  {
   "cell_type": "code",
   "execution_count": 2,
   "metadata": {},
   "outputs": [
    {
     "name": "stderr",
     "output_type": "stream",
     "text": [
      "Processing Data: 100%|██████████| 30000/30000 [01:23<00:00, 361.06image/s]\n"
     ]
    }
   ],
   "source": [
    "# Load new data\n",
    "loader = model_setup.load_data(max_files=30_000)\n",
    "# torch.save(loader, \"preprocessed_data_30_000.pt\")\n",
    "\n",
    "# Load from preprocessed data\n",
    "# preprocessed_data_path = \"preprocessed_data_30_000.pt\"\n",
    "# loader = torch.load(preprocessed_data_path)"
   ]
  },
  {
   "cell_type": "markdown",
   "metadata": {},
   "source": [
    "Split the data into training, testing, and validation sets"
   ]
  },
  {
   "cell_type": "code",
   "execution_count": 3,
   "metadata": {},
   "outputs": [],
   "source": [
    "train_subset, test_subset, val_subset = random_split(loader.dataset,[0.7,0.2,0.1])\n",
    "val_size = len(val_subset.indices)\n",
    "del loader"
   ]
  },
  {
   "cell_type": "code",
   "execution_count": 4,
   "metadata": {},
   "outputs": [
    {
     "name": "stderr",
     "output_type": "stream",
     "text": [
      "100%|██████████| 21000/21000 [04:31<00:00, 77.38it/s]\n"
     ]
    }
   ],
   "source": [
    "train_transform = transforms.Compose([\n",
    "            transforms.ToPILImage(),\n",
    "            transforms.RandomRotation(degrees=15),\n",
    "            transforms.ColorJitter(brightness=0.2, contrast=0.2, saturation=0.2, hue=0.2),\n",
    "            transforms.GaussianBlur(kernel_size=3),\n",
    "            transforms.RandomPerspective(distortion_scale=0.5, p=0.5),\n",
    "            transforms.RandomAffine(degrees=0, translate=(0.1, 0.1), scale=(0.8, 1.2), shear=15),\n",
    "            transforms.ToTensor()\n",
    "            # Add any additional preprocessing steps here\n",
    "        ])\n",
    "\n",
    "for idx in tqdm(train_subset.indices, total=len(train_subset.indices)):\n",
    "    input, label = train_subset.dataset.data[idx]\n",
    "    new_input = train_transform(input)\n",
    "    train_subset.dataset.data[idx] = (new_input, label)\n"
   ]
  },
  {
   "cell_type": "code",
   "execution_count": 5,
   "metadata": {},
   "outputs": [],
   "source": [
    "train = DataLoader(train_subset, batch_size=32, shuffle=True, num_workers=4, pin_memory=True)\n",
    "test = DataLoader(test_subset,batch_size=32, shuffle=True, num_workers=4, pin_memory=True)\n",
    "val = DataLoader(val_subset, batch_size=32, shuffle=True, num_workers=4, pin_memory=True)"
   ]
  },
  {
   "cell_type": "markdown",
   "metadata": {},
   "source": [
    "# Training"
   ]
  },
  {
   "cell_type": "markdown",
   "metadata": {},
   "source": [
    "Make a parameter grid"
   ]
  },
  {
   "cell_type": "code",
   "execution_count": 6,
   "metadata": {},
   "outputs": [
    {
     "data": {
      "text/plain": [
       "[(32, 1),\n",
       " (32, 2),\n",
       " (32, 4),\n",
       " (64, 1),\n",
       " (64, 2),\n",
       " (64, 4),\n",
       " (128, 1),\n",
       " (128, 2),\n",
       " (128, 4)]"
      ]
     },
     "execution_count": 6,
     "metadata": {},
     "output_type": "execute_result"
    }
   ],
   "source": [
    "param_grid = {\n",
    "    'filters': [32, 64, 128],\n",
    "    'num_conv_layers': [2, 4, 8]\n",
    "}\n",
    "\n",
    "# Get all combinations of parameters\n",
    "combinations = list(product(*param_grid.values()))\n",
    "combinations"
   ]
  },
  {
   "cell_type": "markdown",
   "metadata": {},
   "source": [
    "Train all combinations"
   ]
  },
  {
   "cell_type": "code",
   "execution_count": 7,
   "metadata": {},
   "outputs": [
    {
     "name": "stdout",
     "output_type": "stream",
     "text": [
      "--------------------------------------------------------\n",
      "Testing with \"32 filters\" and \"1 layers\"\n"
     ]
    },
    {
     "name": "stderr",
     "output_type": "stream",
     "text": [
      "Epoch 1/50 (Training): 100%|██████████| 657/657 [01:21<00:00,  8.04it/s]\n"
     ]
    },
    {
     "name": "stdout",
     "output_type": "stream",
     "text": [
      "Loss: 1.0991, Validation Accuracy: 0.3438, Time remaining: 1:17:41.900621\n"
     ]
    },
    {
     "name": "stderr",
     "output_type": "stream",
     "text": [
      "Epoch 2/50 (Training): 100%|██████████| 657/657 [00:36<00:00, 17.93it/s]\n"
     ]
    },
    {
     "name": "stdout",
     "output_type": "stream",
     "text": [
      "Loss: 1.0983, Validation Accuracy: 0.3447, Time remaining: 0:57:45.359568\n"
     ]
    },
    {
     "name": "stderr",
     "output_type": "stream",
     "text": [
      "Epoch 3/50 (Training): 100%|██████████| 657/657 [00:33<00:00, 19.41it/s]\n"
     ]
    },
    {
     "name": "stdout",
     "output_type": "stream",
     "text": [
      "Loss: 1.0977, Validation Accuracy: 0.3600, Time remaining: 0:49:40.867041\n"
     ]
    },
    {
     "name": "stderr",
     "output_type": "stream",
     "text": [
      "Epoch 4/50 (Training): 100%|██████████| 657/657 [00:35<00:00, 18.26it/s]\n"
     ]
    },
    {
     "name": "stdout",
     "output_type": "stream",
     "text": [
      "Loss: 1.0971, Validation Accuracy: 0.3550, Time remaining: 0:45:42.227210\n"
     ]
    },
    {
     "name": "stderr",
     "output_type": "stream",
     "text": [
      "Epoch 5/50 (Training): 100%|██████████| 657/657 [00:35<00:00, 18.75it/s]\n"
     ]
    },
    {
     "name": "stdout",
     "output_type": "stream",
     "text": [
      "Loss: 1.0965, Validation Accuracy: 0.3700, Time remaining: 0:42:53.294805\n"
     ]
    },
    {
     "name": "stderr",
     "output_type": "stream",
     "text": [
      "Epoch 6/50 (Training): 100%|██████████| 657/657 [00:33<00:00, 19.55it/s]\n"
     ]
    },
    {
     "name": "stdout",
     "output_type": "stream",
     "text": [
      "Loss: 1.0959, Validation Accuracy: 0.3715, Time remaining: 0:40:32.247664\n"
     ]
    },
    {
     "name": "stderr",
     "output_type": "stream",
     "text": [
      "Epoch 7/50 (Training): 100%|██████████| 657/657 [00:33<00:00, 19.54it/s]\n"
     ]
    },
    {
     "name": "stdout",
     "output_type": "stream",
     "text": [
      "Loss: 1.0953, Validation Accuracy: 0.3880, Time remaining: 0:38:37.729068\n"
     ]
    },
    {
     "name": "stderr",
     "output_type": "stream",
     "text": [
      "Epoch 8/50 (Training): 100%|██████████| 657/657 [00:33<00:00, 19.47it/s]\n"
     ]
    },
    {
     "name": "stdout",
     "output_type": "stream",
     "text": [
      "Loss: 1.0945, Validation Accuracy: 0.4017, Time remaining: 0:37:01.624902\n"
     ]
    },
    {
     "name": "stderr",
     "output_type": "stream",
     "text": [
      "Epoch 9/50 (Training): 100%|██████████| 657/657 [00:33<00:00, 19.69it/s]\n"
     ]
    },
    {
     "name": "stdout",
     "output_type": "stream",
     "text": [
      "Loss: 1.0936, Validation Accuracy: 0.3997, Time remaining: 0:35:33.801991\n"
     ]
    },
    {
     "name": "stderr",
     "output_type": "stream",
     "text": [
      "Epoch 10/50 (Training): 100%|██████████| 657/657 [00:33<00:00, 19.72it/s]\n"
     ]
    },
    {
     "name": "stdout",
     "output_type": "stream",
     "text": [
      "Loss: 1.0928, Validation Accuracy: 0.4050, Time remaining: 0:34:15.322440\n"
     ]
    },
    {
     "name": "stderr",
     "output_type": "stream",
     "text": [
      "Epoch 11/50 (Training): 100%|██████████| 657/657 [00:33<00:00, 19.74it/s]\n"
     ]
    },
    {
     "name": "stdout",
     "output_type": "stream",
     "text": [
      "Loss: 1.0918, Validation Accuracy: 0.3928, Time remaining: 0:33:02.328036\n"
     ]
    },
    {
     "name": "stderr",
     "output_type": "stream",
     "text": [
      "Epoch 12/50 (Training): 100%|██████████| 657/657 [00:33<00:00, 19.87it/s]\n"
     ]
    },
    {
     "name": "stdout",
     "output_type": "stream",
     "text": [
      "Loss: 1.0908, Validation Accuracy: 0.3790, Time remaining: 0:31:53.454394\n"
     ]
    },
    {
     "name": "stderr",
     "output_type": "stream",
     "text": [
      "Epoch 13/50 (Training): 100%|██████████| 657/657 [00:33<00:00, 19.71it/s]\n"
     ]
    },
    {
     "name": "stdout",
     "output_type": "stream",
     "text": [
      "Loss: 1.0896, Validation Accuracy: 0.4155, Time remaining: 0:30:48.522997\n"
     ]
    },
    {
     "name": "stderr",
     "output_type": "stream",
     "text": [
      "Epoch 14/50 (Training): 100%|██████████| 657/657 [00:33<00:00, 19.78it/s]\n"
     ]
    },
    {
     "name": "stdout",
     "output_type": "stream",
     "text": [
      "Loss: 1.0885, Validation Accuracy: 0.4183, Time remaining: 0:29:46.557780\n"
     ]
    },
    {
     "name": "stderr",
     "output_type": "stream",
     "text": [
      "Epoch 15/50 (Training): 100%|██████████| 657/657 [00:33<00:00, 19.69it/s]\n"
     ]
    },
    {
     "name": "stdout",
     "output_type": "stream",
     "text": [
      "Loss: 1.0874, Validation Accuracy: 0.4123, Time remaining: 0:28:47.050185\n"
     ]
    },
    {
     "name": "stderr",
     "output_type": "stream",
     "text": [
      "Epoch 16/50 (Training): 100%|██████████| 657/657 [00:32<00:00, 19.93it/s]\n"
     ]
    },
    {
     "name": "stdout",
     "output_type": "stream",
     "text": [
      "Loss: 1.0859, Validation Accuracy: 0.4207, Time remaining: 0:27:48.459152\n"
     ]
    },
    {
     "name": "stderr",
     "output_type": "stream",
     "text": [
      "Epoch 17/50 (Training): 100%|██████████| 657/657 [00:33<00:00, 19.56it/s]\n"
     ]
    },
    {
     "name": "stdout",
     "output_type": "stream",
     "text": [
      "Loss: 1.0848, Validation Accuracy: 0.4090, Time remaining: 0:26:52.859127\n"
     ]
    },
    {
     "name": "stderr",
     "output_type": "stream",
     "text": [
      "Epoch 18/50 (Training): 100%|██████████| 657/657 [00:33<00:00, 19.75it/s]\n"
     ]
    },
    {
     "name": "stdout",
     "output_type": "stream",
     "text": [
      "Loss: 1.0833, Validation Accuracy: 0.3975, Time remaining: 0:25:57.708768\n"
     ]
    },
    {
     "name": "stderr",
     "output_type": "stream",
     "text": [
      "Epoch 19/50 (Training): 100%|██████████| 657/657 [00:33<00:00, 19.63it/s]\n"
     ]
    },
    {
     "name": "stdout",
     "output_type": "stream",
     "text": [
      "Loss: 1.0821, Validation Accuracy: 0.4057, Time remaining: 0:25:04.131346\n"
     ]
    },
    {
     "name": "stderr",
     "output_type": "stream",
     "text": [
      "Epoch 20/50 (Training): 100%|██████████| 657/657 [00:33<00:00, 19.74it/s]\n"
     ]
    },
    {
     "name": "stdout",
     "output_type": "stream",
     "text": [
      "Loss: 1.0809, Validation Accuracy: 0.4135, Time remaining: 0:24:11.031000\n"
     ]
    },
    {
     "name": "stderr",
     "output_type": "stream",
     "text": [
      "Epoch 21/50 (Training): 100%|██████████| 657/657 [00:33<00:00, 19.59it/s]\n"
     ]
    },
    {
     "name": "stdout",
     "output_type": "stream",
     "text": [
      "Loss: 1.0806, Validation Accuracy: 0.4133, Time remaining: 0:23:18.628646\n"
     ]
    },
    {
     "name": "stderr",
     "output_type": "stream",
     "text": [
      "Epoch 22/50 (Training): 100%|██████████| 657/657 [00:33<00:00, 19.71it/s]\n"
     ]
    },
    {
     "name": "stdout",
     "output_type": "stream",
     "text": [
      "Loss: 1.0795, Validation Accuracy: 0.4123, Time remaining: 0:22:26.743524\n"
     ]
    },
    {
     "name": "stderr",
     "output_type": "stream",
     "text": [
      "Epoch 23/50 (Training): 100%|██████████| 657/657 [00:33<00:00, 19.50it/s]\n"
     ]
    },
    {
     "name": "stdout",
     "output_type": "stream",
     "text": [
      "Loss: 1.0789, Validation Accuracy: 0.4073, Time remaining: 0:21:35.990469\n"
     ]
    },
    {
     "name": "stderr",
     "output_type": "stream",
     "text": [
      "Epoch 24/50 (Training): 100%|██████████| 657/657 [00:33<00:00, 19.83it/s]\n"
     ]
    },
    {
     "name": "stdout",
     "output_type": "stream",
     "text": [
      "Loss: 1.0785, Validation Accuracy: 0.4098, Time remaining: 0:20:44.815286\n"
     ]
    },
    {
     "name": "stderr",
     "output_type": "stream",
     "text": [
      "Epoch 25/50 (Training): 100%|██████████| 657/657 [00:33<00:00, 19.79it/s]\n"
     ]
    },
    {
     "name": "stdout",
     "output_type": "stream",
     "text": [
      "Loss: 1.0782, Validation Accuracy: 0.4120, Time remaining: 0:19:54.198575\n"
     ]
    },
    {
     "name": "stderr",
     "output_type": "stream",
     "text": [
      "Epoch 26/50 (Training): 100%|██████████| 657/657 [00:33<00:00, 19.86it/s]\n"
     ]
    },
    {
     "name": "stdout",
     "output_type": "stream",
     "text": [
      "Loss: 1.0779, Validation Accuracy: 0.4087, Time remaining: 0:19:03.973776\n",
      "Early stopping at epoch 26 due to no improvement in validation accuracy.\n",
      "Best Validation Accuracy: 0.4207 at epoch 16\n",
      "--------------------------------------------------------\n",
      "Testing with \"32 filters\" and \"2 layers\"\n"
     ]
    },
    {
     "name": "stderr",
     "output_type": "stream",
     "text": [
      "Epoch 1/50 (Training): 100%|██████████| 657/657 [00:36<00:00, 17.81it/s]\n"
     ]
    },
    {
     "name": "stdout",
     "output_type": "stream",
     "text": [
      "Loss: 1.0954, Validation Accuracy: 0.4283, Time remaining: 0:40:07.092513\n"
     ]
    },
    {
     "name": "stderr",
     "output_type": "stream",
     "text": [
      "Epoch 2/50 (Training): 100%|██████████| 657/657 [00:35<00:00, 18.65it/s]\n"
     ]
    },
    {
     "name": "stdout",
     "output_type": "stream",
     "text": [
      "Loss: 1.0768, Validation Accuracy: 0.4378, Time remaining: 0:38:36.672960\n"
     ]
    },
    {
     "name": "stderr",
     "output_type": "stream",
     "text": [
      "Epoch 3/50 (Training): 100%|██████████| 657/657 [00:34<00:00, 18.79it/s]\n"
     ]
    },
    {
     "name": "stdout",
     "output_type": "stream",
     "text": [
      "Loss: 1.0592, Validation Accuracy: 0.4350, Time remaining: 0:37:29.189465\n"
     ]
    },
    {
     "name": "stderr",
     "output_type": "stream",
     "text": [
      "Epoch 4/50 (Training): 100%|██████████| 657/657 [00:34<00:00, 19.07it/s]\n"
     ]
    },
    {
     "name": "stdout",
     "output_type": "stream",
     "text": [
      "Loss: 1.0449, Validation Accuracy: 0.4627, Time remaining: 0:36:27.760000\n"
     ]
    },
    {
     "name": "stderr",
     "output_type": "stream",
     "text": [
      "Epoch 5/50 (Training): 100%|██████████| 657/657 [00:34<00:00, 18.92it/s]\n"
     ]
    },
    {
     "name": "stdout",
     "output_type": "stream",
     "text": [
      "Loss: 1.0317, Validation Accuracy: 0.4590, Time remaining: 0:35:33.661320\n"
     ]
    },
    {
     "name": "stderr",
     "output_type": "stream",
     "text": [
      "Epoch 6/50 (Training): 100%|██████████| 657/657 [00:34<00:00, 18.92it/s]\n"
     ]
    },
    {
     "name": "stdout",
     "output_type": "stream",
     "text": [
      "Loss: 1.0212, Validation Accuracy: 0.4868, Time remaining: 0:34:41.648228\n"
     ]
    },
    {
     "name": "stderr",
     "output_type": "stream",
     "text": [
      "Epoch 7/50 (Training): 100%|██████████| 657/657 [00:34<00:00, 18.85it/s]\n"
     ]
    },
    {
     "name": "stdout",
     "output_type": "stream",
     "text": [
      "Loss: 1.0125, Validation Accuracy: 0.4697, Time remaining: 0:33:52.492653\n"
     ]
    },
    {
     "name": "stderr",
     "output_type": "stream",
     "text": [
      "Epoch 8/50 (Training): 100%|██████████| 657/657 [00:34<00:00, 18.99it/s]\n"
     ]
    },
    {
     "name": "stdout",
     "output_type": "stream",
     "text": [
      "Loss: 1.0067, Validation Accuracy: 0.4852, Time remaining: 0:33:01.463064\n"
     ]
    },
    {
     "name": "stderr",
     "output_type": "stream",
     "text": [
      "Epoch 9/50 (Training): 100%|██████████| 657/657 [00:34<00:00, 19.10it/s]\n"
     ]
    },
    {
     "name": "stdout",
     "output_type": "stream",
     "text": [
      "Loss: 0.9963, Validation Accuracy: 0.4923, Time remaining: 0:32:11.891464\n"
     ]
    },
    {
     "name": "stderr",
     "output_type": "stream",
     "text": [
      "Epoch 10/50 (Training): 100%|██████████| 657/657 [00:34<00:00, 18.92it/s]\n"
     ]
    },
    {
     "name": "stdout",
     "output_type": "stream",
     "text": [
      "Loss: 0.9913, Validation Accuracy: 0.4882, Time remaining: 0:31:23.043960\n"
     ]
    },
    {
     "name": "stderr",
     "output_type": "stream",
     "text": [
      "Epoch 11/50 (Training): 100%|██████████| 657/657 [00:34<00:00, 19.01it/s]\n"
     ]
    },
    {
     "name": "stdout",
     "output_type": "stream",
     "text": [
      "Loss: 0.9876, Validation Accuracy: 0.5015, Time remaining: 0:30:35.117115\n"
     ]
    },
    {
     "name": "stderr",
     "output_type": "stream",
     "text": [
      "Epoch 12/50 (Training): 100%|██████████| 657/657 [00:34<00:00, 18.92it/s]\n"
     ]
    },
    {
     "name": "stdout",
     "output_type": "stream",
     "text": [
      "Loss: 0.9856, Validation Accuracy: 0.4900, Time remaining: 0:29:47.139430\n"
     ]
    },
    {
     "name": "stderr",
     "output_type": "stream",
     "text": [
      "Epoch 13/50 (Training): 100%|██████████| 657/657 [00:34<00:00, 18.94it/s]\n"
     ]
    },
    {
     "name": "stdout",
     "output_type": "stream",
     "text": [
      "Loss: 0.9797, Validation Accuracy: 0.4920, Time remaining: 0:28:59.560513\n"
     ]
    },
    {
     "name": "stderr",
     "output_type": "stream",
     "text": [
      "Epoch 14/50 (Training): 100%|██████████| 657/657 [00:34<00:00, 18.86it/s]\n"
     ]
    },
    {
     "name": "stdout",
     "output_type": "stream",
     "text": [
      "Loss: 0.9749, Validation Accuracy: 0.5095, Time remaining: 0:28:12.537840\n"
     ]
    },
    {
     "name": "stderr",
     "output_type": "stream",
     "text": [
      "Epoch 15/50 (Training): 100%|██████████| 657/657 [00:34<00:00, 18.87it/s]\n"
     ]
    },
    {
     "name": "stdout",
     "output_type": "stream",
     "text": [
      "Loss: 0.9714, Validation Accuracy: 0.5070, Time remaining: 0:27:25.705215\n"
     ]
    },
    {
     "name": "stderr",
     "output_type": "stream",
     "text": [
      "Epoch 16/50 (Training): 100%|██████████| 657/657 [00:34<00:00, 18.86it/s]\n"
     ]
    },
    {
     "name": "stdout",
     "output_type": "stream",
     "text": [
      "Loss: 0.9670, Validation Accuracy: 0.5083, Time remaining: 0:26:38.383962\n"
     ]
    },
    {
     "name": "stderr",
     "output_type": "stream",
     "text": [
      "Epoch 17/50 (Training): 100%|██████████| 657/657 [00:34<00:00, 19.01it/s]\n"
     ]
    },
    {
     "name": "stdout",
     "output_type": "stream",
     "text": [
      "Loss: 0.9653, Validation Accuracy: 0.5097, Time remaining: 0:25:50.580636\n"
     ]
    },
    {
     "name": "stderr",
     "output_type": "stream",
     "text": [
      "Epoch 18/50 (Training): 100%|██████████| 657/657 [00:35<00:00, 18.76it/s]\n"
     ]
    },
    {
     "name": "stdout",
     "output_type": "stream",
     "text": [
      "Loss: 0.9607, Validation Accuracy: 0.5162, Time remaining: 0:25:03.858528\n"
     ]
    },
    {
     "name": "stderr",
     "output_type": "stream",
     "text": [
      "Epoch 19/50 (Training): 100%|██████████| 657/657 [00:34<00:00, 18.96it/s]\n"
     ]
    },
    {
     "name": "stdout",
     "output_type": "stream",
     "text": [
      "Loss: 0.9592, Validation Accuracy: 0.5163, Time remaining: 0:24:16.474860\n"
     ]
    },
    {
     "name": "stderr",
     "output_type": "stream",
     "text": [
      "Epoch 20/50 (Training): 100%|██████████| 657/657 [00:34<00:00, 18.84it/s]\n"
     ]
    },
    {
     "name": "stdout",
     "output_type": "stream",
     "text": [
      "Loss: 0.9574, Validation Accuracy: 0.5122, Time remaining: 0:23:29.735820\n"
     ]
    },
    {
     "name": "stderr",
     "output_type": "stream",
     "text": [
      "Epoch 21/50 (Training): 100%|██████████| 657/657 [00:34<00:00, 18.90it/s]\n"
     ]
    },
    {
     "name": "stdout",
     "output_type": "stream",
     "text": [
      "Loss: 0.9529, Validation Accuracy: 0.5267, Time remaining: 0:22:42.549949\n"
     ]
    },
    {
     "name": "stderr",
     "output_type": "stream",
     "text": [
      "Epoch 22/50 (Training): 100%|██████████| 657/657 [00:34<00:00, 18.97it/s]\n"
     ]
    },
    {
     "name": "stdout",
     "output_type": "stream",
     "text": [
      "Loss: 0.9532, Validation Accuracy: 0.5070, Time remaining: 0:21:55.294680\n"
     ]
    },
    {
     "name": "stderr",
     "output_type": "stream",
     "text": [
      "Epoch 23/50 (Training): 100%|██████████| 657/657 [00:35<00:00, 18.72it/s]\n"
     ]
    },
    {
     "name": "stdout",
     "output_type": "stream",
     "text": [
      "Loss: 0.9528, Validation Accuracy: 0.4985, Time remaining: 0:21:08.413398\n"
     ]
    },
    {
     "name": "stderr",
     "output_type": "stream",
     "text": [
      "Epoch 24/50 (Training): 100%|██████████| 657/657 [00:34<00:00, 18.83it/s]\n"
     ]
    },
    {
     "name": "stdout",
     "output_type": "stream",
     "text": [
      "Loss: 0.9461, Validation Accuracy: 0.5163, Time remaining: 0:20:21.632516\n"
     ]
    },
    {
     "name": "stderr",
     "output_type": "stream",
     "text": [
      "Epoch 25/50 (Training): 100%|██████████| 657/657 [00:34<00:00, 18.86it/s]\n"
     ]
    },
    {
     "name": "stdout",
     "output_type": "stream",
     "text": [
      "Loss: 0.9428, Validation Accuracy: 0.5253, Time remaining: 0:19:34.572150\n"
     ]
    },
    {
     "name": "stderr",
     "output_type": "stream",
     "text": [
      "Epoch 26/50 (Training): 100%|██████████| 657/657 [00:34<00:00, 18.94it/s]\n"
     ]
    },
    {
     "name": "stdout",
     "output_type": "stream",
     "text": [
      "Loss: 0.9403, Validation Accuracy: 0.5260, Time remaining: 0:18:47.428824\n"
     ]
    },
    {
     "name": "stderr",
     "output_type": "stream",
     "text": [
      "Epoch 27/50 (Training): 100%|██████████| 657/657 [00:34<00:00, 18.92it/s]\n"
     ]
    },
    {
     "name": "stdout",
     "output_type": "stream",
     "text": [
      "Loss: 0.9396, Validation Accuracy: 0.5270, Time remaining: 0:18:00.317613\n"
     ]
    },
    {
     "name": "stderr",
     "output_type": "stream",
     "text": [
      "Epoch 28/50 (Training): 100%|██████████| 657/657 [00:34<00:00, 18.98it/s]\n"
     ]
    },
    {
     "name": "stdout",
     "output_type": "stream",
     "text": [
      "Loss: 0.9401, Validation Accuracy: 0.5165, Time remaining: 0:17:13.103478\n"
     ]
    },
    {
     "name": "stderr",
     "output_type": "stream",
     "text": [
      "Epoch 29/50 (Training): 100%|██████████| 657/657 [00:35<00:00, 18.73it/s]\n"
     ]
    },
    {
     "name": "stdout",
     "output_type": "stream",
     "text": [
      "Loss: 0.9376, Validation Accuracy: 0.5292, Time remaining: 0:16:26.392953\n"
     ]
    },
    {
     "name": "stderr",
     "output_type": "stream",
     "text": [
      "Epoch 30/50 (Training): 100%|██████████| 657/657 [00:34<00:00, 18.92it/s]\n"
     ]
    },
    {
     "name": "stdout",
     "output_type": "stream",
     "text": [
      "Loss: 0.9354, Validation Accuracy: 0.5223, Time remaining: 0:15:39.347820\n"
     ]
    },
    {
     "name": "stderr",
     "output_type": "stream",
     "text": [
      "Epoch 31/50 (Training): 100%|██████████| 657/657 [00:35<00:00, 18.65it/s]\n"
     ]
    },
    {
     "name": "stdout",
     "output_type": "stream",
     "text": [
      "Loss: 0.9360, Validation Accuracy: 0.5217, Time remaining: 0:14:52.627391\n"
     ]
    },
    {
     "name": "stderr",
     "output_type": "stream",
     "text": [
      "Epoch 32/50 (Training): 100%|██████████| 657/657 [00:34<00:00, 19.05it/s]\n"
     ]
    },
    {
     "name": "stdout",
     "output_type": "stream",
     "text": [
      "Loss: 0.9368, Validation Accuracy: 0.5230, Time remaining: 0:14:05.543412\n"
     ]
    },
    {
     "name": "stderr",
     "output_type": "stream",
     "text": [
      "Epoch 33/50 (Training): 100%|██████████| 657/657 [00:34<00:00, 18.94it/s]\n"
     ]
    },
    {
     "name": "stdout",
     "output_type": "stream",
     "text": [
      "Loss: 0.9319, Validation Accuracy: 0.5207, Time remaining: 0:13:18.441125\n"
     ]
    },
    {
     "name": "stderr",
     "output_type": "stream",
     "text": [
      "Epoch 34/50 (Training): 100%|██████████| 657/657 [00:34<00:00, 18.92it/s]\n"
     ]
    },
    {
     "name": "stdout",
     "output_type": "stream",
     "text": [
      "Loss: 0.9303, Validation Accuracy: 0.5347, Time remaining: 0:12:31.340880\n"
     ]
    },
    {
     "name": "stderr",
     "output_type": "stream",
     "text": [
      "Epoch 35/50 (Training): 100%|██████████| 657/657 [00:34<00:00, 18.91it/s]\n"
     ]
    },
    {
     "name": "stdout",
     "output_type": "stream",
     "text": [
      "Loss: 0.9309, Validation Accuracy: 0.5385, Time remaining: 0:11:44.320110\n"
     ]
    },
    {
     "name": "stderr",
     "output_type": "stream",
     "text": [
      "Epoch 36/50 (Training): 100%|██████████| 657/657 [00:34<00:00, 18.98it/s]\n"
     ]
    },
    {
     "name": "stdout",
     "output_type": "stream",
     "text": [
      "Loss: 0.9297, Validation Accuracy: 0.5335, Time remaining: 0:10:57.259344\n"
     ]
    },
    {
     "name": "stderr",
     "output_type": "stream",
     "text": [
      "Epoch 37/50 (Training): 100%|██████████| 657/657 [00:34<00:00, 18.90it/s]\n"
     ]
    },
    {
     "name": "stdout",
     "output_type": "stream",
     "text": [
      "Loss: 0.9297, Validation Accuracy: 0.5273, Time remaining: 0:10:10.308426\n"
     ]
    },
    {
     "name": "stderr",
     "output_type": "stream",
     "text": [
      "Epoch 38/50 (Training): 100%|██████████| 657/657 [00:34<00:00, 18.90it/s]\n"
     ]
    },
    {
     "name": "stdout",
     "output_type": "stream",
     "text": [
      "Loss: 0.9287, Validation Accuracy: 0.5298, Time remaining: 0:09:23.351280\n"
     ]
    },
    {
     "name": "stderr",
     "output_type": "stream",
     "text": [
      "Epoch 39/50 (Training): 100%|██████████| 657/657 [00:35<00:00, 18.70it/s]\n"
     ]
    },
    {
     "name": "stdout",
     "output_type": "stream",
     "text": [
      "Loss: 0.9285, Validation Accuracy: 0.5297, Time remaining: 0:08:36.498587\n"
     ]
    },
    {
     "name": "stderr",
     "output_type": "stream",
     "text": [
      "Epoch 40/50 (Training): 100%|██████████| 657/657 [00:34<00:00, 18.99it/s]\n"
     ]
    },
    {
     "name": "stdout",
     "output_type": "stream",
     "text": [
      "Loss: 0.9271, Validation Accuracy: 0.5318, Time remaining: 0:07:49.507760\n"
     ]
    },
    {
     "name": "stderr",
     "output_type": "stream",
     "text": [
      "Epoch 41/50 (Training): 100%|██████████| 657/657 [00:34<00:00, 18.81it/s]\n"
     ]
    },
    {
     "name": "stdout",
     "output_type": "stream",
     "text": [
      "Loss: 0.9273, Validation Accuracy: 0.5323, Time remaining: 0:07:02.616861\n"
     ]
    },
    {
     "name": "stderr",
     "output_type": "stream",
     "text": [
      "Epoch 42/50 (Training): 100%|██████████| 657/657 [00:34<00:00, 18.87it/s]\n"
     ]
    },
    {
     "name": "stdout",
     "output_type": "stream",
     "text": [
      "Loss: 0.9276, Validation Accuracy: 0.5328, Time remaining: 0:06:15.648160\n"
     ]
    },
    {
     "name": "stderr",
     "output_type": "stream",
     "text": [
      "Epoch 43/50 (Training): 100%|██████████| 657/657 [00:34<00:00, 18.83it/s]\n"
     ]
    },
    {
     "name": "stdout",
     "output_type": "stream",
     "text": [
      "Loss: 0.9251, Validation Accuracy: 0.5325, Time remaining: 0:05:28.694457\n"
     ]
    },
    {
     "name": "stderr",
     "output_type": "stream",
     "text": [
      "Epoch 44/50 (Training): 100%|██████████| 657/657 [00:34<00:00, 18.91it/s]\n"
     ]
    },
    {
     "name": "stdout",
     "output_type": "stream",
     "text": [
      "Loss: 0.9253, Validation Accuracy: 0.5313, Time remaining: 0:04:41.725782\n"
     ]
    },
    {
     "name": "stderr",
     "output_type": "stream",
     "text": [
      "Epoch 45/50 (Training): 100%|██████████| 657/657 [00:34<00:00, 18.86it/s]\n"
     ]
    },
    {
     "name": "stdout",
     "output_type": "stream",
     "text": [
      "Loss: 0.9263, Validation Accuracy: 0.5325, Time remaining: 0:03:54.782240\n",
      "Early stopping at epoch 45 due to no improvement in validation accuracy.\n",
      "Best Validation Accuracy: 0.5385 at epoch 35\n",
      "--------------------------------------------------------\n",
      "Testing with \"32 filters\" and \"4 layers\"\n"
     ]
    },
    {
     "name": "stderr",
     "output_type": "stream",
     "text": [
      "Epoch 1/50 (Training): 100%|██████████| 657/657 [01:15<00:00,  8.65it/s]\n"
     ]
    },
    {
     "name": "stdout",
     "output_type": "stream",
     "text": [
      "Loss: 1.0738, Validation Accuracy: 0.4727, Time remaining: 1:11:56.678667\n"
     ]
    },
    {
     "name": "stderr",
     "output_type": "stream",
     "text": [
      "Epoch 2/50 (Training): 100%|██████████| 657/657 [01:16<00:00,  8.56it/s]\n"
     ]
    },
    {
     "name": "stdout",
     "output_type": "stream",
     "text": [
      "Loss: 1.0344, Validation Accuracy: 0.4925, Time remaining: 1:10:49.317264\n"
     ]
    },
    {
     "name": "stderr",
     "output_type": "stream",
     "text": [
      "Epoch 3/50 (Training): 100%|██████████| 657/657 [01:16<00:00,  8.59it/s]\n"
     ]
    },
    {
     "name": "stdout",
     "output_type": "stream",
     "text": [
      "Loss: 1.0057, Validation Accuracy: 0.4620, Time remaining: 1:09:21.298878\n"
     ]
    },
    {
     "name": "stderr",
     "output_type": "stream",
     "text": [
      "Epoch 4/50 (Training): 100%|██████████| 657/657 [01:16<00:00,  8.55it/s]\n"
     ]
    },
    {
     "name": "stdout",
     "output_type": "stream",
     "text": [
      "Loss: 0.9921, Validation Accuracy: 0.4925, Time remaining: 1:07:56.352146\n"
     ]
    },
    {
     "name": "stderr",
     "output_type": "stream",
     "text": [
      "Epoch 5/50 (Training): 100%|██████████| 657/657 [01:17<00:00,  8.51it/s]\n"
     ]
    },
    {
     "name": "stdout",
     "output_type": "stream",
     "text": [
      "Loss: 0.9793, Validation Accuracy: 0.5128, Time remaining: 1:06:36.137790\n"
     ]
    },
    {
     "name": "stderr",
     "output_type": "stream",
     "text": [
      "Epoch 6/50 (Training): 100%|██████████| 657/657 [01:16<00:00,  8.57it/s]\n"
     ]
    },
    {
     "name": "stdout",
     "output_type": "stream",
     "text": [
      "Loss: 0.9723, Validation Accuracy: 0.5080, Time remaining: 1:05:07.847372\n"
     ]
    },
    {
     "name": "stderr",
     "output_type": "stream",
     "text": [
      "Epoch 7/50 (Training): 100%|██████████| 657/657 [01:16<00:00,  8.55it/s]\n"
     ]
    },
    {
     "name": "stdout",
     "output_type": "stream",
     "text": [
      "Loss: 0.9660, Validation Accuracy: 0.5015, Time remaining: 1:03:41.400798\n"
     ]
    },
    {
     "name": "stderr",
     "output_type": "stream",
     "text": [
      "Epoch 8/50 (Training): 100%|██████████| 657/657 [01:16<00:00,  8.55it/s]\n"
     ]
    },
    {
     "name": "stdout",
     "output_type": "stream",
     "text": [
      "Loss: 0.9608, Validation Accuracy: 0.5145, Time remaining: 1:02:13.238292\n"
     ]
    },
    {
     "name": "stderr",
     "output_type": "stream",
     "text": [
      "Epoch 9/50 (Training): 100%|██████████| 657/657 [01:16<00:00,  8.55it/s]\n"
     ]
    },
    {
     "name": "stdout",
     "output_type": "stream",
     "text": [
      "Loss: 0.9522, Validation Accuracy: 0.5195, Time remaining: 1:00:45.697122\n"
     ]
    },
    {
     "name": "stderr",
     "output_type": "stream",
     "text": [
      "Epoch 10/50 (Training): 100%|██████████| 657/657 [01:17<00:00,  8.50it/s]\n"
     ]
    },
    {
     "name": "stdout",
     "output_type": "stream",
     "text": [
      "Loss: 0.9456, Validation Accuracy: 0.5225, Time remaining: 0:59:19.287280\n"
     ]
    },
    {
     "name": "stderr",
     "output_type": "stream",
     "text": [
      "Epoch 11/50 (Training): 100%|██████████| 657/657 [01:17<00:00,  8.50it/s]\n"
     ]
    },
    {
     "name": "stdout",
     "output_type": "stream",
     "text": [
      "Loss: 0.9405, Validation Accuracy: 0.4915, Time remaining: 0:57:52.053546\n"
     ]
    },
    {
     "name": "stderr",
     "output_type": "stream",
     "text": [
      "Epoch 12/50 (Training): 100%|██████████| 657/657 [01:17<00:00,  8.51it/s]\n"
     ]
    },
    {
     "name": "stdout",
     "output_type": "stream",
     "text": [
      "Loss: 0.9360, Validation Accuracy: 0.5218, Time remaining: 0:56:24.953018\n"
     ]
    },
    {
     "name": "stderr",
     "output_type": "stream",
     "text": [
      "Epoch 13/50 (Training): 100%|██████████| 657/657 [01:17<00:00,  8.46it/s]\n"
     ]
    },
    {
     "name": "stdout",
     "output_type": "stream",
     "text": [
      "Loss: 0.9264, Validation Accuracy: 0.5235, Time remaining: 0:54:58.183885\n"
     ]
    },
    {
     "name": "stderr",
     "output_type": "stream",
     "text": [
      "Epoch 14/50 (Training): 100%|██████████| 657/657 [01:17<00:00,  8.48it/s]\n"
     ]
    },
    {
     "name": "stdout",
     "output_type": "stream",
     "text": [
      "Loss: 0.9126, Validation Accuracy: 0.5442, Time remaining: 0:53:30.491952\n"
     ]
    },
    {
     "name": "stderr",
     "output_type": "stream",
     "text": [
      "Epoch 15/50 (Training): 100%|██████████| 657/657 [01:17<00:00,  8.50it/s]\n"
     ]
    },
    {
     "name": "stdout",
     "output_type": "stream",
     "text": [
      "Loss: 0.9057, Validation Accuracy: 0.5407, Time remaining: 0:52:02.412860\n"
     ]
    },
    {
     "name": "stderr",
     "output_type": "stream",
     "text": [
      "Epoch 16/50 (Training): 100%|██████████| 657/657 [01:17<00:00,  8.42it/s]\n"
     ]
    },
    {
     "name": "stdout",
     "output_type": "stream",
     "text": [
      "Loss: 0.8981, Validation Accuracy: 0.5423, Time remaining: 0:50:35.254052\n"
     ]
    },
    {
     "name": "stderr",
     "output_type": "stream",
     "text": [
      "Epoch 17/50 (Training): 100%|██████████| 657/657 [01:17<00:00,  8.44it/s]\n"
     ]
    },
    {
     "name": "stdout",
     "output_type": "stream",
     "text": [
      "Loss: 0.8883, Validation Accuracy: 0.5657, Time remaining: 0:49:08.350185\n"
     ]
    },
    {
     "name": "stderr",
     "output_type": "stream",
     "text": [
      "Epoch 18/50 (Training): 100%|██████████| 657/657 [01:18<00:00,  8.33it/s]\n"
     ]
    },
    {
     "name": "stdout",
     "output_type": "stream",
     "text": [
      "Loss: 0.8774, Validation Accuracy: 0.5572, Time remaining: 0:47:42.781408\n"
     ]
    },
    {
     "name": "stderr",
     "output_type": "stream",
     "text": [
      "Epoch 19/50 (Training): 100%|██████████| 657/657 [01:19<00:00,  8.31it/s]\n"
     ]
    },
    {
     "name": "stdout",
     "output_type": "stream",
     "text": [
      "Loss: 0.8730, Validation Accuracy: 0.5640, Time remaining: 0:46:16.392302\n"
     ]
    },
    {
     "name": "stderr",
     "output_type": "stream",
     "text": [
      "Epoch 20/50 (Training): 100%|██████████| 657/657 [01:18<00:00,  8.34it/s]\n"
     ]
    },
    {
     "name": "stdout",
     "output_type": "stream",
     "text": [
      "Loss: 0.8678, Validation Accuracy: 0.5548, Time remaining: 0:44:48.973860\n"
     ]
    },
    {
     "name": "stderr",
     "output_type": "stream",
     "text": [
      "Epoch 21/50 (Training): 100%|██████████| 657/657 [01:18<00:00,  8.36it/s]\n"
     ]
    },
    {
     "name": "stdout",
     "output_type": "stream",
     "text": [
      "Loss: 0.8561, Validation Accuracy: 0.5758, Time remaining: 0:43:21.127972\n"
     ]
    },
    {
     "name": "stderr",
     "output_type": "stream",
     "text": [
      "Epoch 22/50 (Training): 100%|██████████| 657/657 [01:19<00:00,  8.31it/s]\n"
     ]
    },
    {
     "name": "stdout",
     "output_type": "stream",
     "text": [
      "Loss: 0.8489, Validation Accuracy: 0.5600, Time remaining: 0:41:54.133552\n"
     ]
    },
    {
     "name": "stderr",
     "output_type": "stream",
     "text": [
      "Epoch 23/50 (Training): 100%|██████████| 657/657 [01:18<00:00,  8.34it/s]\n"
     ]
    },
    {
     "name": "stdout",
     "output_type": "stream",
     "text": [
      "Loss: 0.8493, Validation Accuracy: 0.5653, Time remaining: 0:40:25.838328\n"
     ]
    },
    {
     "name": "stderr",
     "output_type": "stream",
     "text": [
      "Epoch 24/50 (Training): 100%|██████████| 657/657 [01:18<00:00,  8.33it/s]\n"
     ]
    },
    {
     "name": "stdout",
     "output_type": "stream",
     "text": [
      "Loss: 0.8461, Validation Accuracy: 0.5727, Time remaining: 0:38:57.535954\n"
     ]
    },
    {
     "name": "stderr",
     "output_type": "stream",
     "text": [
      "Epoch 25/50 (Training): 100%|██████████| 657/657 [01:18<00:00,  8.32it/s]\n"
     ]
    },
    {
     "name": "stdout",
     "output_type": "stream",
     "text": [
      "Loss: 0.8393, Validation Accuracy: 0.5712, Time remaining: 0:37:28.791400\n"
     ]
    },
    {
     "name": "stderr",
     "output_type": "stream",
     "text": [
      "Epoch 26/50 (Training): 100%|██████████| 657/657 [01:19<00:00,  8.31it/s]\n"
     ]
    },
    {
     "name": "stdout",
     "output_type": "stream",
     "text": [
      "Loss: 0.8354, Validation Accuracy: 0.5805, Time remaining: 0:36:00.179688\n"
     ]
    },
    {
     "name": "stderr",
     "output_type": "stream",
     "text": [
      "Epoch 27/50 (Training): 100%|██████████| 657/657 [01:18<00:00,  8.35it/s]\n"
     ]
    },
    {
     "name": "stdout",
     "output_type": "stream",
     "text": [
      "Loss: 0.8325, Validation Accuracy: 0.5728, Time remaining: 0:34:31.018624\n"
     ]
    },
    {
     "name": "stderr",
     "output_type": "stream",
     "text": [
      "Epoch 28/50 (Training): 100%|██████████| 657/657 [01:18<00:00,  8.33it/s]\n"
     ]
    },
    {
     "name": "stdout",
     "output_type": "stream",
     "text": [
      "Loss: 0.8343, Validation Accuracy: 0.5818, Time remaining: 0:33:01.772804\n"
     ]
    },
    {
     "name": "stderr",
     "output_type": "stream",
     "text": [
      "Epoch 29/50 (Training): 100%|██████████| 657/657 [01:19<00:00,  8.30it/s]\n"
     ]
    },
    {
     "name": "stdout",
     "output_type": "stream",
     "text": [
      "Loss: 0.8338, Validation Accuracy: 0.5752, Time remaining: 0:31:32.678109\n"
     ]
    },
    {
     "name": "stderr",
     "output_type": "stream",
     "text": [
      "Epoch 30/50 (Training): 100%|██████████| 657/657 [01:19<00:00,  8.23it/s]\n"
     ]
    },
    {
     "name": "stdout",
     "output_type": "stream",
     "text": [
      "Loss: 0.8295, Validation Accuracy: 0.5808, Time remaining: 0:30:03.881660\n"
     ]
    },
    {
     "name": "stderr",
     "output_type": "stream",
     "text": [
      "Epoch 31/50 (Training): 100%|██████████| 657/657 [01:20<00:00,  8.16it/s]\n"
     ]
    },
    {
     "name": "stdout",
     "output_type": "stream",
     "text": [
      "Loss: 0.8267, Validation Accuracy: 0.5833, Time remaining: 0:28:35.329690\n"
     ]
    },
    {
     "name": "stderr",
     "output_type": "stream",
     "text": [
      "Epoch 32/50 (Training): 100%|██████████| 657/657 [01:20<00:00,  8.17it/s]\n"
     ]
    },
    {
     "name": "stdout",
     "output_type": "stream",
     "text": [
      "Loss: 0.8259, Validation Accuracy: 0.5937, Time remaining: 0:27:06.439176\n"
     ]
    },
    {
     "name": "stderr",
     "output_type": "stream",
     "text": [
      "Epoch 33/50 (Training): 100%|██████████| 657/657 [01:20<00:00,  8.14it/s]\n"
     ]
    },
    {
     "name": "stdout",
     "output_type": "stream",
     "text": [
      "Loss: 0.8236, Validation Accuracy: 0.5863, Time remaining: 0:25:37.443008\n"
     ]
    },
    {
     "name": "stderr",
     "output_type": "stream",
     "text": [
      "Epoch 34/50 (Training): 100%|██████████| 657/657 [01:19<00:00,  8.25it/s]\n"
     ]
    },
    {
     "name": "stdout",
     "output_type": "stream",
     "text": [
      "Loss: 0.8230, Validation Accuracy: 0.5827, Time remaining: 0:24:07.742576\n"
     ]
    },
    {
     "name": "stderr",
     "output_type": "stream",
     "text": [
      "Epoch 35/50 (Training): 100%|██████████| 657/657 [01:19<00:00,  8.30it/s]\n"
     ]
    },
    {
     "name": "stdout",
     "output_type": "stream",
     "text": [
      "Loss: 0.8209, Validation Accuracy: 0.5922, Time remaining: 0:22:37.706760\n"
     ]
    },
    {
     "name": "stderr",
     "output_type": "stream",
     "text": [
      "Epoch 36/50 (Training): 100%|██████████| 657/657 [01:19<00:00,  8.31it/s]\n"
     ]
    },
    {
     "name": "stdout",
     "output_type": "stream",
     "text": [
      "Loss: 0.8182, Validation Accuracy: 0.5830, Time remaining: 0:21:07.475076\n"
     ]
    },
    {
     "name": "stderr",
     "output_type": "stream",
     "text": [
      "Epoch 37/50 (Training): 100%|██████████| 657/657 [01:18<00:00,  8.36it/s]\n"
     ]
    },
    {
     "name": "stdout",
     "output_type": "stream",
     "text": [
      "Loss: 0.8169, Validation Accuracy: 0.5793, Time remaining: 0:19:37.059377\n"
     ]
    },
    {
     "name": "stderr",
     "output_type": "stream",
     "text": [
      "Epoch 38/50 (Training): 100%|██████████| 657/657 [01:19<00:00,  8.26it/s]\n"
     ]
    },
    {
     "name": "stdout",
     "output_type": "stream",
     "text": [
      "Loss: 0.8130, Validation Accuracy: 0.5858, Time remaining: 0:18:06.932988\n"
     ]
    },
    {
     "name": "stderr",
     "output_type": "stream",
     "text": [
      "Epoch 39/50 (Training): 100%|██████████| 657/657 [01:18<00:00,  8.35it/s]\n"
     ]
    },
    {
     "name": "stdout",
     "output_type": "stream",
     "text": [
      "Loss: 0.8146, Validation Accuracy: 0.5837, Time remaining: 0:16:36.450202\n"
     ]
    },
    {
     "name": "stderr",
     "output_type": "stream",
     "text": [
      "Epoch 40/50 (Training): 100%|██████████| 657/657 [01:18<00:00,  8.33it/s]\n"
     ]
    },
    {
     "name": "stdout",
     "output_type": "stream",
     "text": [
      "Loss: 0.8107, Validation Accuracy: 0.5865, Time remaining: 0:15:05.960960\n"
     ]
    },
    {
     "name": "stderr",
     "output_type": "stream",
     "text": [
      "Epoch 41/50 (Training): 100%|██████████| 657/657 [01:18<00:00,  8.35it/s]\n"
     ]
    },
    {
     "name": "stdout",
     "output_type": "stream",
     "text": [
      "Loss: 0.8102, Validation Accuracy: 0.5878, Time remaining: 0:13:35.446413\n"
     ]
    },
    {
     "name": "stderr",
     "output_type": "stream",
     "text": [
      "Epoch 42/50 (Training): 100%|██████████| 657/657 [01:19<00:00,  8.30it/s]\n"
     ]
    },
    {
     "name": "stdout",
     "output_type": "stream",
     "text": [
      "Loss: 0.8106, Validation Accuracy: 0.5890, Time remaining: 0:12:05.085088\n",
      "Early stopping at epoch 42 due to no improvement in validation accuracy.\n",
      "Best Validation Accuracy: 0.5937 at epoch 32\n",
      "--------------------------------------------------------\n",
      "Testing with \"64 filters\" and \"1 layers\"\n"
     ]
    },
    {
     "name": "stderr",
     "output_type": "stream",
     "text": [
      "Epoch 1/50 (Training): 100%|██████████| 657/657 [00:35<00:00, 18.47it/s]\n"
     ]
    },
    {
     "name": "stdout",
     "output_type": "stream",
     "text": [
      "Loss: 1.0984, Validation Accuracy: 0.3268, Time remaining: 0:39:02.056626\n"
     ]
    },
    {
     "name": "stderr",
     "output_type": "stream",
     "text": [
      "Epoch 2/50 (Training): 100%|██████████| 657/657 [00:33<00:00, 19.53it/s]\n"
     ]
    },
    {
     "name": "stdout",
     "output_type": "stream",
     "text": [
      "Loss: 1.0973, Validation Accuracy: 0.3808, Time remaining: 0:37:23.327184\n"
     ]
    },
    {
     "name": "stderr",
     "output_type": "stream",
     "text": [
      "Epoch 3/50 (Training): 100%|██████████| 657/657 [00:33<00:00, 19.55it/s]\n"
     ]
    },
    {
     "name": "stdout",
     "output_type": "stream",
     "text": [
      "Loss: 1.0962, Validation Accuracy: 0.3832, Time remaining: 0:36:19.236263\n"
     ]
    },
    {
     "name": "stderr",
     "output_type": "stream",
     "text": [
      "Epoch 4/50 (Training): 100%|██████████| 657/657 [00:33<00:00, 19.68it/s]\n"
     ]
    },
    {
     "name": "stdout",
     "output_type": "stream",
     "text": [
      "Loss: 1.0953, Validation Accuracy: 0.3768, Time remaining: 0:35:20.870250\n"
     ]
    },
    {
     "name": "stderr",
     "output_type": "stream",
     "text": [
      "Epoch 5/50 (Training): 100%|██████████| 657/657 [00:33<00:00, 19.57it/s]\n"
     ]
    },
    {
     "name": "stdout",
     "output_type": "stream",
     "text": [
      "Loss: 1.0945, Validation Accuracy: 0.3683, Time remaining: 0:34:30.775080\n"
     ]
    },
    {
     "name": "stderr",
     "output_type": "stream",
     "text": [
      "Epoch 6/50 (Training): 100%|██████████| 657/657 [00:33<00:00, 19.57it/s]\n"
     ]
    },
    {
     "name": "stdout",
     "output_type": "stream",
     "text": [
      "Loss: 1.0931, Validation Accuracy: 0.3825, Time remaining: 0:33:42.443192\n"
     ]
    },
    {
     "name": "stderr",
     "output_type": "stream",
     "text": [
      "Epoch 7/50 (Training): 100%|██████████| 657/657 [00:33<00:00, 19.78it/s]\n"
     ]
    },
    {
     "name": "stdout",
     "output_type": "stream",
     "text": [
      "Loss: 1.0921, Validation Accuracy: 0.3977, Time remaining: 0:32:52.915035\n"
     ]
    },
    {
     "name": "stderr",
     "output_type": "stream",
     "text": [
      "Epoch 8/50 (Training): 100%|██████████| 657/657 [00:34<00:00, 19.13it/s]\n"
     ]
    },
    {
     "name": "stdout",
     "output_type": "stream",
     "text": [
      "Loss: 1.0916, Validation Accuracy: 0.3957, Time remaining: 0:32:09.458118\n"
     ]
    },
    {
     "name": "stderr",
     "output_type": "stream",
     "text": [
      "Epoch 9/50 (Training): 100%|██████████| 657/657 [00:33<00:00, 19.71it/s]\n"
     ]
    },
    {
     "name": "stdout",
     "output_type": "stream",
     "text": [
      "Loss: 1.0907, Validation Accuracy: 0.3782, Time remaining: 0:31:21.224156\n"
     ]
    },
    {
     "name": "stderr",
     "output_type": "stream",
     "text": [
      "Epoch 10/50 (Training): 100%|██████████| 657/657 [00:33<00:00, 19.87it/s]\n"
     ]
    },
    {
     "name": "stdout",
     "output_type": "stream",
     "text": [
      "Loss: 1.0902, Validation Accuracy: 0.3940, Time remaining: 0:30:32.009200\n"
     ]
    },
    {
     "name": "stderr",
     "output_type": "stream",
     "text": [
      "Epoch 11/50 (Training): 100%|██████████| 657/657 [00:33<00:00, 19.87it/s]\n"
     ]
    },
    {
     "name": "stdout",
     "output_type": "stream",
     "text": [
      "Loss: 1.0894, Validation Accuracy: 0.3828, Time remaining: 0:29:44.207880\n"
     ]
    },
    {
     "name": "stderr",
     "output_type": "stream",
     "text": [
      "Epoch 12/50 (Training): 100%|██████████| 657/657 [00:32<00:00, 19.95it/s]\n"
     ]
    },
    {
     "name": "stdout",
     "output_type": "stream",
     "text": [
      "Loss: 1.0890, Validation Accuracy: 0.3817, Time remaining: 0:28:55.854516\n"
     ]
    },
    {
     "name": "stderr",
     "output_type": "stream",
     "text": [
      "Epoch 13/50 (Training): 100%|██████████| 657/657 [00:33<00:00, 19.82it/s]\n"
     ]
    },
    {
     "name": "stdout",
     "output_type": "stream",
     "text": [
      "Loss: 1.0886, Validation Accuracy: 0.3853, Time remaining: 0:28:08.541435\n"
     ]
    },
    {
     "name": "stderr",
     "output_type": "stream",
     "text": [
      "Epoch 14/50 (Training): 100%|██████████| 657/657 [00:33<00:00, 19.83it/s]\n"
     ]
    },
    {
     "name": "stdout",
     "output_type": "stream",
     "text": [
      "Loss: 1.0882, Validation Accuracy: 0.3842, Time remaining: 0:27:21.701484\n"
     ]
    },
    {
     "name": "stderr",
     "output_type": "stream",
     "text": [
      "Epoch 15/50 (Training): 100%|██████████| 657/657 [00:33<00:00, 19.90it/s]\n"
     ]
    },
    {
     "name": "stdout",
     "output_type": "stream",
     "text": [
      "Loss: 1.0881, Validation Accuracy: 0.3875, Time remaining: 0:26:34.596605\n"
     ]
    },
    {
     "name": "stderr",
     "output_type": "stream",
     "text": [
      "Epoch 16/50 (Training): 100%|██████████| 657/657 [00:33<00:00, 19.35it/s]\n"
     ]
    },
    {
     "name": "stdout",
     "output_type": "stream",
     "text": [
      "Loss: 1.0878, Validation Accuracy: 0.3848, Time remaining: 0:25:50.843258\n"
     ]
    },
    {
     "name": "stderr",
     "output_type": "stream",
     "text": [
      "Epoch 17/50 (Training): 100%|██████████| 657/657 [00:34<00:00, 19.11it/s]\n"
     ]
    },
    {
     "name": "stdout",
     "output_type": "stream",
     "text": [
      "Loss: 1.0877, Validation Accuracy: 0.3862, Time remaining: 0:25:06.941799\n",
      "Early stopping at epoch 17 due to no improvement in validation accuracy.\n",
      "Best Validation Accuracy: 0.3977 at epoch 7\n",
      "--------------------------------------------------------\n",
      "Testing with \"64 filters\" and \"2 layers\"\n"
     ]
    },
    {
     "name": "stderr",
     "output_type": "stream",
     "text": [
      "Epoch 1/50 (Training): 100%|██████████| 657/657 [01:08<00:00,  9.61it/s]\n"
     ]
    },
    {
     "name": "stdout",
     "output_type": "stream",
     "text": [
      "Loss: 1.0856, Validation Accuracy: 0.4333, Time remaining: 1:05:56.826881\n"
     ]
    },
    {
     "name": "stderr",
     "output_type": "stream",
     "text": [
      "Epoch 2/50 (Training): 100%|██████████| 657/657 [01:08<00:00,  9.66it/s]\n"
     ]
    },
    {
     "name": "stdout",
     "output_type": "stream",
     "text": [
      "Loss: 1.0548, Validation Accuracy: 0.4437, Time remaining: 1:04:31.522464\n"
     ]
    },
    {
     "name": "stderr",
     "output_type": "stream",
     "text": [
      "Epoch 3/50 (Training): 100%|██████████| 657/657 [01:07<00:00,  9.69it/s]\n"
     ]
    },
    {
     "name": "stdout",
     "output_type": "stream",
     "text": [
      "Loss: 1.0323, Validation Accuracy: 0.4705, Time remaining: 1:03:05.221845\n"
     ]
    },
    {
     "name": "stderr",
     "output_type": "stream",
     "text": [
      "Epoch 4/50 (Training): 100%|██████████| 657/657 [01:07<00:00,  9.68it/s]\n"
     ]
    },
    {
     "name": "stdout",
     "output_type": "stream",
     "text": [
      "Loss: 1.0126, Validation Accuracy: 0.4868, Time remaining: 1:01:43.461288\n"
     ]
    },
    {
     "name": "stderr",
     "output_type": "stream",
     "text": [
      "Epoch 5/50 (Training): 100%|██████████| 657/657 [01:08<00:00,  9.66it/s]\n"
     ]
    },
    {
     "name": "stdout",
     "output_type": "stream",
     "text": [
      "Loss: 1.0014, Validation Accuracy: 0.4740, Time remaining: 1:00:20.576565\n"
     ]
    },
    {
     "name": "stderr",
     "output_type": "stream",
     "text": [
      "Epoch 6/50 (Training): 100%|██████████| 657/657 [01:07<00:00,  9.67it/s]\n"
     ]
    },
    {
     "name": "stdout",
     "output_type": "stream",
     "text": [
      "Loss: 0.9956, Validation Accuracy: 0.5005, Time remaining: 0:58:59.053496\n"
     ]
    },
    {
     "name": "stderr",
     "output_type": "stream",
     "text": [
      "Epoch 7/50 (Training): 100%|██████████| 657/657 [01:07<00:00,  9.66it/s]\n"
     ]
    },
    {
     "name": "stdout",
     "output_type": "stream",
     "text": [
      "Loss: 0.9824, Validation Accuracy: 0.4902, Time remaining: 0:57:38.749118\n"
     ]
    },
    {
     "name": "stderr",
     "output_type": "stream",
     "text": [
      "Epoch 8/50 (Training): 100%|██████████| 657/657 [01:08<00:00,  9.64it/s]\n"
     ]
    },
    {
     "name": "stdout",
     "output_type": "stream",
     "text": [
      "Loss: 0.9781, Validation Accuracy: 0.5085, Time remaining: 0:56:18.036060\n"
     ]
    },
    {
     "name": "stderr",
     "output_type": "stream",
     "text": [
      "Epoch 9/50 (Training): 100%|██████████| 657/657 [01:07<00:00,  9.67it/s]\n"
     ]
    },
    {
     "name": "stdout",
     "output_type": "stream",
     "text": [
      "Loss: 0.9703, Validation Accuracy: 0.5212, Time remaining: 0:54:56.873796\n"
     ]
    },
    {
     "name": "stderr",
     "output_type": "stream",
     "text": [
      "Epoch 10/50 (Training): 100%|██████████| 657/657 [01:08<00:00,  9.60it/s]\n"
     ]
    },
    {
     "name": "stdout",
     "output_type": "stream",
     "text": [
      "Loss: 0.9689, Validation Accuracy: 0.5137, Time remaining: 0:53:37.231960\n"
     ]
    },
    {
     "name": "stderr",
     "output_type": "stream",
     "text": [
      "Epoch 11/50 (Training): 100%|██████████| 657/657 [01:08<00:00,  9.65it/s]\n"
     ]
    },
    {
     "name": "stdout",
     "output_type": "stream",
     "text": [
      "Loss: 0.9631, Validation Accuracy: 0.5155, Time remaining: 0:52:16.389633\n"
     ]
    },
    {
     "name": "stderr",
     "output_type": "stream",
     "text": [
      "Epoch 12/50 (Training): 100%|██████████| 657/657 [01:08<00:00,  9.63it/s]\n"
     ]
    },
    {
     "name": "stdout",
     "output_type": "stream",
     "text": [
      "Loss: 0.9599, Validation Accuracy: 0.5168, Time remaining: 0:50:56.128796\n"
     ]
    },
    {
     "name": "stderr",
     "output_type": "stream",
     "text": [
      "Epoch 13/50 (Training): 100%|██████████| 657/657 [01:08<00:00,  9.63it/s]\n"
     ]
    },
    {
     "name": "stdout",
     "output_type": "stream",
     "text": [
      "Loss: 0.9489, Validation Accuracy: 0.5265, Time remaining: 0:49:35.703947\n"
     ]
    },
    {
     "name": "stderr",
     "output_type": "stream",
     "text": [
      "Epoch 14/50 (Training): 100%|██████████| 657/657 [01:07<00:00,  9.68it/s]\n"
     ]
    },
    {
     "name": "stdout",
     "output_type": "stream",
     "text": [
      "Loss: 0.9498, Validation Accuracy: 0.5238, Time remaining: 0:48:14.217120\n"
     ]
    },
    {
     "name": "stderr",
     "output_type": "stream",
     "text": [
      "Epoch 15/50 (Training): 100%|██████████| 657/657 [01:07<00:00,  9.66it/s]\n"
     ]
    },
    {
     "name": "stdout",
     "output_type": "stream",
     "text": [
      "Loss: 0.9445, Validation Accuracy: 0.5272, Time remaining: 0:46:53.759760\n"
     ]
    },
    {
     "name": "stderr",
     "output_type": "stream",
     "text": [
      "Epoch 16/50 (Training): 100%|██████████| 657/657 [01:08<00:00,  9.63it/s]\n"
     ]
    },
    {
     "name": "stdout",
     "output_type": "stream",
     "text": [
      "Loss: 0.9425, Validation Accuracy: 0.5162, Time remaining: 0:45:33.828140\n"
     ]
    },
    {
     "name": "stderr",
     "output_type": "stream",
     "text": [
      "Epoch 17/50 (Training): 100%|██████████| 657/657 [01:08<00:00,  9.64it/s]\n"
     ]
    },
    {
     "name": "stdout",
     "output_type": "stream",
     "text": [
      "Loss: 0.9409, Validation Accuracy: 0.5212, Time remaining: 0:44:13.404105\n"
     ]
    },
    {
     "name": "stderr",
     "output_type": "stream",
     "text": [
      "Epoch 18/50 (Training): 100%|██████████| 657/657 [01:08<00:00,  9.65it/s]\n"
     ]
    },
    {
     "name": "stdout",
     "output_type": "stream",
     "text": [
      "Loss: 0.9388, Validation Accuracy: 0.5163, Time remaining: 0:42:52.881760\n"
     ]
    },
    {
     "name": "stderr",
     "output_type": "stream",
     "text": [
      "Epoch 19/50 (Training): 100%|██████████| 657/657 [01:08<00:00,  9.66it/s]\n"
     ]
    },
    {
     "name": "stdout",
     "output_type": "stream",
     "text": [
      "Loss: 0.9363, Validation Accuracy: 0.5265, Time remaining: 0:41:32.370829\n"
     ]
    },
    {
     "name": "stderr",
     "output_type": "stream",
     "text": [
      "Epoch 20/50 (Training): 100%|██████████| 657/657 [01:08<00:00,  9.65it/s]\n"
     ]
    },
    {
     "name": "stdout",
     "output_type": "stream",
     "text": [
      "Loss: 0.9329, Validation Accuracy: 0.5193, Time remaining: 0:40:11.992620\n"
     ]
    },
    {
     "name": "stderr",
     "output_type": "stream",
     "text": [
      "Epoch 21/50 (Training): 100%|██████████| 657/657 [01:07<00:00,  9.69it/s]\n"
     ]
    },
    {
     "name": "stdout",
     "output_type": "stream",
     "text": [
      "Loss: 0.9329, Validation Accuracy: 0.5375, Time remaining: 0:38:51.395434\n"
     ]
    },
    {
     "name": "stderr",
     "output_type": "stream",
     "text": [
      "Epoch 22/50 (Training): 100%|██████████| 657/657 [01:08<00:00,  9.63it/s]\n"
     ]
    },
    {
     "name": "stdout",
     "output_type": "stream",
     "text": [
      "Loss: 0.9335, Validation Accuracy: 0.5285, Time remaining: 0:37:30.849496\n"
     ]
    },
    {
     "name": "stderr",
     "output_type": "stream",
     "text": [
      "Epoch 23/50 (Training): 100%|██████████| 657/657 [01:08<00:00,  9.64it/s]\n"
     ]
    },
    {
     "name": "stdout",
     "output_type": "stream",
     "text": [
      "Loss: 0.9326, Validation Accuracy: 0.5190, Time remaining: 0:36:10.610460\n"
     ]
    },
    {
     "name": "stderr",
     "output_type": "stream",
     "text": [
      "Epoch 24/50 (Training): 100%|██████████| 657/657 [01:08<00:00,  9.65it/s]\n"
     ]
    },
    {
     "name": "stdout",
     "output_type": "stream",
     "text": [
      "Loss: 0.9297, Validation Accuracy: 0.5187, Time remaining: 0:34:50.398518\n"
     ]
    },
    {
     "name": "stderr",
     "output_type": "stream",
     "text": [
      "Epoch 25/50 (Training): 100%|██████████| 657/657 [01:08<00:00,  9.56it/s]\n"
     ]
    },
    {
     "name": "stdout",
     "output_type": "stream",
     "text": [
      "Loss: 0.9287, Validation Accuracy: 0.5258, Time remaining: 0:33:31.059950\n"
     ]
    },
    {
     "name": "stderr",
     "output_type": "stream",
     "text": [
      "Epoch 26/50 (Training): 100%|██████████| 657/657 [01:08<00:00,  9.60it/s]\n"
     ]
    },
    {
     "name": "stdout",
     "output_type": "stream",
     "text": [
      "Loss: 0.9288, Validation Accuracy: 0.5257, Time remaining: 0:32:10.998840\n"
     ]
    },
    {
     "name": "stderr",
     "output_type": "stream",
     "text": [
      "Epoch 27/50 (Training): 100%|██████████| 657/657 [01:08<00:00,  9.62it/s]\n"
     ]
    },
    {
     "name": "stdout",
     "output_type": "stream",
     "text": [
      "Loss: 0.9267, Validation Accuracy: 0.5305, Time remaining: 0:30:50.705649\n"
     ]
    },
    {
     "name": "stderr",
     "output_type": "stream",
     "text": [
      "Epoch 28/50 (Training): 100%|██████████| 657/657 [01:08<00:00,  9.63it/s]\n"
     ]
    },
    {
     "name": "stdout",
     "output_type": "stream",
     "text": [
      "Loss: 0.9268, Validation Accuracy: 0.5238, Time remaining: 0:29:30.286826\n"
     ]
    },
    {
     "name": "stderr",
     "output_type": "stream",
     "text": [
      "Epoch 29/50 (Training): 100%|██████████| 657/657 [01:08<00:00,  9.65it/s]\n"
     ]
    },
    {
     "name": "stdout",
     "output_type": "stream",
     "text": [
      "Loss: 0.9251, Validation Accuracy: 0.5287, Time remaining: 0:28:09.601137\n"
     ]
    },
    {
     "name": "stderr",
     "output_type": "stream",
     "text": [
      "Epoch 30/50 (Training): 100%|██████████| 657/657 [01:08<00:00,  9.65it/s]\n"
     ]
    },
    {
     "name": "stdout",
     "output_type": "stream",
     "text": [
      "Loss: 0.9257, Validation Accuracy: 0.5305, Time remaining: 0:26:49.047920\n"
     ]
    },
    {
     "name": "stderr",
     "output_type": "stream",
     "text": [
      "Epoch 31/50 (Training): 100%|██████████| 657/657 [01:08<00:00,  9.61it/s]\n"
     ]
    },
    {
     "name": "stdout",
     "output_type": "stream",
     "text": [
      "Loss: 0.9256, Validation Accuracy: 0.5310, Time remaining: 0:25:28.675305\n",
      "Early stopping at epoch 31 due to no improvement in validation accuracy.\n",
      "Best Validation Accuracy: 0.5375 at epoch 21\n",
      "--------------------------------------------------------\n",
      "Testing with \"64 filters\" and \"4 layers\"\n"
     ]
    },
    {
     "name": "stderr",
     "output_type": "stream",
     "text": [
      "Epoch 1/50 (Training): 100%|██████████| 657/657 [02:42<00:00,  4.05it/s]\n"
     ]
    },
    {
     "name": "stdout",
     "output_type": "stream",
     "text": [
      "Loss: 1.0747, Validation Accuracy: 0.4647, Time remaining: 2:27:32.970728\n"
     ]
    },
    {
     "name": "stderr",
     "output_type": "stream",
     "text": [
      "Epoch 2/50 (Training): 100%|██████████| 657/657 [02:42<00:00,  4.05it/s]\n"
     ]
    },
    {
     "name": "stdout",
     "output_type": "stream",
     "text": [
      "Loss: 1.0154, Validation Accuracy: 0.4803, Time remaining: 2:24:30.151584\n"
     ]
    },
    {
     "name": "stderr",
     "output_type": "stream",
     "text": [
      "Epoch 3/50 (Training): 100%|██████████| 657/657 [02:42<00:00,  4.04it/s]\n"
     ]
    },
    {
     "name": "stdout",
     "output_type": "stream",
     "text": [
      "Loss: 0.9926, Validation Accuracy: 0.4938, Time remaining: 2:21:37.830864\n"
     ]
    },
    {
     "name": "stderr",
     "output_type": "stream",
     "text": [
      "Epoch 4/50 (Training): 100%|██████████| 657/657 [02:43<00:00,  4.02it/s]\n"
     ]
    },
    {
     "name": "stdout",
     "output_type": "stream",
     "text": [
      "Loss: 0.9778, Validation Accuracy: 0.5090, Time remaining: 2:18:49.616612\n"
     ]
    },
    {
     "name": "stderr",
     "output_type": "stream",
     "text": [
      "Epoch 5/50 (Training): 100%|██████████| 657/657 [02:43<00:00,  4.03it/s]\n"
     ]
    },
    {
     "name": "stdout",
     "output_type": "stream",
     "text": [
      "Loss: 0.9706, Validation Accuracy: 0.5167, Time remaining: 2:15:51.453315\n"
     ]
    },
    {
     "name": "stderr",
     "output_type": "stream",
     "text": [
      "Epoch 6/50 (Training): 100%|██████████| 657/657 [02:43<00:00,  4.03it/s]\n"
     ]
    },
    {
     "name": "stdout",
     "output_type": "stream",
     "text": [
      "Loss: 0.9598, Validation Accuracy: 0.5113, Time remaining: 2:12:52.267512\n"
     ]
    },
    {
     "name": "stderr",
     "output_type": "stream",
     "text": [
      "Epoch 7/50 (Training): 100%|██████████| 657/657 [02:42<00:00,  4.05it/s]\n"
     ]
    },
    {
     "name": "stdout",
     "output_type": "stream",
     "text": [
      "Loss: 0.9550, Validation Accuracy: 0.4962, Time remaining: 2:09:47.290755\n"
     ]
    },
    {
     "name": "stderr",
     "output_type": "stream",
     "text": [
      "Epoch 8/50 (Training): 100%|██████████| 657/657 [02:43<00:00,  4.02it/s]\n"
     ]
    },
    {
     "name": "stdout",
     "output_type": "stream",
     "text": [
      "Loss: 0.9445, Validation Accuracy: 0.5163, Time remaining: 2:06:50.215032\n"
     ]
    },
    {
     "name": "stderr",
     "output_type": "stream",
     "text": [
      "Epoch 9/50 (Training): 100%|██████████| 657/657 [02:43<00:00,  4.01it/s]\n"
     ]
    },
    {
     "name": "stdout",
     "output_type": "stream",
     "text": [
      "Loss: 0.9340, Validation Accuracy: 0.5237, Time remaining: 2:03:54.132546\n"
     ]
    },
    {
     "name": "stderr",
     "output_type": "stream",
     "text": [
      "Epoch 10/50 (Training): 100%|██████████| 657/657 [02:43<00:00,  4.02it/s]\n"
     ]
    },
    {
     "name": "stdout",
     "output_type": "stream",
     "text": [
      "Loss: 0.9302, Validation Accuracy: 0.5162, Time remaining: 2:00:54.790480\n"
     ]
    },
    {
     "name": "stderr",
     "output_type": "stream",
     "text": [
      "Epoch 11/50 (Training): 100%|██████████| 657/657 [02:43<00:00,  4.02it/s]\n"
     ]
    },
    {
     "name": "stdout",
     "output_type": "stream",
     "text": [
      "Loss: 0.9215, Validation Accuracy: 0.5335, Time remaining: 1:57:54.776904\n"
     ]
    },
    {
     "name": "stderr",
     "output_type": "stream",
     "text": [
      "Epoch 12/50 (Training): 100%|██████████| 657/657 [02:43<00:00,  4.03it/s]\n"
     ]
    },
    {
     "name": "stdout",
     "output_type": "stream",
     "text": [
      "Loss: 0.9166, Validation Accuracy: 0.5330, Time remaining: 1:54:53.598772\n"
     ]
    },
    {
     "name": "stderr",
     "output_type": "stream",
     "text": [
      "Epoch 13/50 (Training): 100%|██████████| 657/657 [02:43<00:00,  4.03it/s]\n"
     ]
    },
    {
     "name": "stdout",
     "output_type": "stream",
     "text": [
      "Loss: 0.9092, Validation Accuracy: 0.5320, Time remaining: 1:51:52.302016\n"
     ]
    },
    {
     "name": "stderr",
     "output_type": "stream",
     "text": [
      "Epoch 14/50 (Training): 100%|██████████| 657/657 [02:42<00:00,  4.03it/s]\n"
     ]
    },
    {
     "name": "stdout",
     "output_type": "stream",
     "text": [
      "Loss: 0.9052, Validation Accuracy: 0.5143, Time remaining: 1:48:51.062328\n"
     ]
    },
    {
     "name": "stderr",
     "output_type": "stream",
     "text": [
      "Epoch 15/50 (Training): 100%|██████████| 657/657 [02:41<00:00,  4.06it/s]\n"
     ]
    },
    {
     "name": "stdout",
     "output_type": "stream",
     "text": [
      "Loss: 0.8927, Validation Accuracy: 0.5525, Time remaining: 1:45:46.165910\n"
     ]
    },
    {
     "name": "stderr",
     "output_type": "stream",
     "text": [
      "Epoch 16/50 (Training): 100%|██████████| 657/657 [02:41<00:00,  4.06it/s]\n"
     ]
    },
    {
     "name": "stdout",
     "output_type": "stream",
     "text": [
      "Loss: 0.8871, Validation Accuracy: 0.5338, Time remaining: 1:42:42.426050\n"
     ]
    },
    {
     "name": "stderr",
     "output_type": "stream",
     "text": [
      "Epoch 17/50 (Training): 100%|██████████| 657/657 [02:42<00:00,  4.06it/s]\n"
     ]
    },
    {
     "name": "stdout",
     "output_type": "stream",
     "text": [
      "Loss: 0.8822, Validation Accuracy: 0.5408, Time remaining: 1:39:39.588186\n"
     ]
    },
    {
     "name": "stderr",
     "output_type": "stream",
     "text": [
      "Epoch 18/50 (Training): 100%|██████████| 657/657 [02:41<00:00,  4.06it/s]\n"
     ]
    },
    {
     "name": "stdout",
     "output_type": "stream",
     "text": [
      "Loss: 0.8778, Validation Accuracy: 0.5600, Time remaining: 1:36:36.612864\n"
     ]
    },
    {
     "name": "stderr",
     "output_type": "stream",
     "text": [
      "Epoch 19/50 (Training): 100%|██████████| 657/657 [02:41<00:00,  4.06it/s]\n"
     ]
    },
    {
     "name": "stdout",
     "output_type": "stream",
     "text": [
      "Loss: 0.8735, Validation Accuracy: 0.5562, Time remaining: 1:33:34.909999\n"
     ]
    },
    {
     "name": "stderr",
     "output_type": "stream",
     "text": [
      "Epoch 20/50 (Training): 100%|██████████| 657/657 [02:42<00:00,  4.05it/s]\n"
     ]
    },
    {
     "name": "stdout",
     "output_type": "stream",
     "text": [
      "Loss: 0.8676, Validation Accuracy: 0.5695, Time remaining: 1:30:32.759520\n"
     ]
    },
    {
     "name": "stderr",
     "output_type": "stream",
     "text": [
      "Epoch 21/50 (Training): 100%|██████████| 657/657 [02:41<00:00,  4.07it/s]\n"
     ]
    },
    {
     "name": "stdout",
     "output_type": "stream",
     "text": [
      "Loss: 0.8616, Validation Accuracy: 0.5627, Time remaining: 1:27:30.339945\n"
     ]
    },
    {
     "name": "stderr",
     "output_type": "stream",
     "text": [
      "Epoch 22/50 (Training): 100%|██████████| 657/657 [02:41<00:00,  4.06it/s]\n"
     ]
    },
    {
     "name": "stdout",
     "output_type": "stream",
     "text": [
      "Loss: 0.8592, Validation Accuracy: 0.5668, Time remaining: 1:24:27.777344\n"
     ]
    },
    {
     "name": "stderr",
     "output_type": "stream",
     "text": [
      "Epoch 23/50 (Training): 100%|██████████| 657/657 [02:41<00:00,  4.07it/s]\n"
     ]
    },
    {
     "name": "stdout",
     "output_type": "stream",
     "text": [
      "Loss: 0.8562, Validation Accuracy: 0.5745, Time remaining: 1:21:25.401546\n"
     ]
    },
    {
     "name": "stderr",
     "output_type": "stream",
     "text": [
      "Epoch 24/50 (Training): 100%|██████████| 657/657 [02:41<00:00,  4.06it/s]\n"
     ]
    },
    {
     "name": "stdout",
     "output_type": "stream",
     "text": [
      "Loss: 0.8528, Validation Accuracy: 0.5750, Time remaining: 1:18:23.853986\n"
     ]
    },
    {
     "name": "stderr",
     "output_type": "stream",
     "text": [
      "Epoch 25/50 (Training): 100%|██████████| 657/657 [02:41<00:00,  4.07it/s]\n"
     ]
    },
    {
     "name": "stdout",
     "output_type": "stream",
     "text": [
      "Loss: 0.8482, Validation Accuracy: 0.5787, Time remaining: 1:15:22.258850\n"
     ]
    },
    {
     "name": "stderr",
     "output_type": "stream",
     "text": [
      "Epoch 26/50 (Training): 100%|██████████| 657/657 [02:42<00:00,  4.05it/s]\n"
     ]
    },
    {
     "name": "stdout",
     "output_type": "stream",
     "text": [
      "Loss: 0.8464, Validation Accuracy: 0.5697, Time remaining: 1:12:21.054720\n"
     ]
    },
    {
     "name": "stderr",
     "output_type": "stream",
     "text": [
      "Epoch 27/50 (Training): 100%|██████████| 657/657 [02:41<00:00,  4.06it/s]\n"
     ]
    },
    {
     "name": "stdout",
     "output_type": "stream",
     "text": [
      "Loss: 0.8442, Validation Accuracy: 0.5732, Time remaining: 1:09:19.510141\n"
     ]
    },
    {
     "name": "stderr",
     "output_type": "stream",
     "text": [
      "Epoch 28/50 (Training): 100%|██████████| 657/657 [02:41<00:00,  4.07it/s]\n"
     ]
    },
    {
     "name": "stdout",
     "output_type": "stream",
     "text": [
      "Loss: 0.8380, Validation Accuracy: 0.5877, Time remaining: 1:06:17.903754\n"
     ]
    },
    {
     "name": "stderr",
     "output_type": "stream",
     "text": [
      "Epoch 29/50 (Training): 100%|██████████| 657/657 [02:41<00:00,  4.07it/s]\n"
     ]
    },
    {
     "name": "stdout",
     "output_type": "stream",
     "text": [
      "Loss: 0.8393, Validation Accuracy: 0.5842, Time remaining: 1:03:17.295894\n"
     ]
    },
    {
     "name": "stderr",
     "output_type": "stream",
     "text": [
      "Epoch 30/50 (Training): 100%|██████████| 657/657 [02:42<00:00,  4.05it/s]\n"
     ]
    },
    {
     "name": "stdout",
     "output_type": "stream",
     "text": [
      "Loss: 0.8315, Validation Accuracy: 0.5537, Time remaining: 1:00:16.223480\n"
     ]
    },
    {
     "name": "stderr",
     "output_type": "stream",
     "text": [
      "Epoch 31/50 (Training): 100%|██████████| 657/657 [02:42<00:00,  4.05it/s]\n"
     ]
    },
    {
     "name": "stdout",
     "output_type": "stream",
     "text": [
      "Loss: 0.8261, Validation Accuracy: 0.5798, Time remaining: 0:57:15.465639\n"
     ]
    },
    {
     "name": "stderr",
     "output_type": "stream",
     "text": [
      "Epoch 32/50 (Training): 100%|██████████| 657/657 [02:41<00:00,  4.06it/s]\n"
     ]
    },
    {
     "name": "stdout",
     "output_type": "stream",
     "text": [
      "Loss: 0.8219, Validation Accuracy: 0.5877, Time remaining: 0:54:14.515920\n"
     ]
    },
    {
     "name": "stderr",
     "output_type": "stream",
     "text": [
      "Epoch 33/50 (Training): 100%|██████████| 657/657 [02:42<00:00,  4.05it/s]\n"
     ]
    },
    {
     "name": "stdout",
     "output_type": "stream",
     "text": [
      "Loss: 0.8180, Validation Accuracy: 0.5772, Time remaining: 0:51:13.615929\n"
     ]
    },
    {
     "name": "stderr",
     "output_type": "stream",
     "text": [
      "Epoch 34/50 (Training): 100%|██████████| 657/657 [02:42<00:00,  4.04it/s]\n"
     ]
    },
    {
     "name": "stdout",
     "output_type": "stream",
     "text": [
      "Loss: 0.8154, Validation Accuracy: 0.5903, Time remaining: 0:48:12.914176\n"
     ]
    },
    {
     "name": "stderr",
     "output_type": "stream",
     "text": [
      "Epoch 35/50 (Training): 100%|██████████| 657/657 [02:41<00:00,  4.06it/s]\n"
     ]
    },
    {
     "name": "stdout",
     "output_type": "stream",
     "text": [
      "Loss: 0.8140, Validation Accuracy: 0.5865, Time remaining: 0:45:17.026455\n"
     ]
    },
    {
     "name": "stderr",
     "output_type": "stream",
     "text": [
      "Epoch 36/50 (Training): 100%|██████████| 657/657 [02:42<00:00,  4.05it/s]\n"
     ]
    },
    {
     "name": "stdout",
     "output_type": "stream",
     "text": [
      "Loss: 0.8126, Validation Accuracy: 0.5930, Time remaining: 0:42:16.324294\n"
     ]
    },
    {
     "name": "stderr",
     "output_type": "stream",
     "text": [
      "Epoch 37/50 (Training): 100%|██████████| 657/657 [02:41<00:00,  4.06it/s]\n"
     ]
    },
    {
     "name": "stdout",
     "output_type": "stream",
     "text": [
      "Loss: 0.8101, Validation Accuracy: 0.5952, Time remaining: 0:39:14.789554\n"
     ]
    },
    {
     "name": "stderr",
     "output_type": "stream",
     "text": [
      "Epoch 38/50 (Training): 100%|██████████| 657/657 [02:41<00:00,  4.07it/s]\n"
     ]
    },
    {
     "name": "stdout",
     "output_type": "stream",
     "text": [
      "Loss: 0.8121, Validation Accuracy: 0.5862, Time remaining: 0:36:13.744332\n"
     ]
    },
    {
     "name": "stderr",
     "output_type": "stream",
     "text": [
      "Epoch 39/50 (Training): 100%|██████████| 657/657 [02:41<00:00,  4.07it/s]\n"
     ]
    },
    {
     "name": "stdout",
     "output_type": "stream",
     "text": [
      "Loss: 0.8087, Validation Accuracy: 0.5928, Time remaining: 0:33:12.829564\n"
     ]
    },
    {
     "name": "stderr",
     "output_type": "stream",
     "text": [
      "Epoch 40/50 (Training): 100%|██████████| 657/657 [02:41<00:00,  4.06it/s]\n"
     ]
    },
    {
     "name": "stdout",
     "output_type": "stream",
     "text": [
      "Loss: 0.8095, Validation Accuracy: 0.5888, Time remaining: 0:30:11.978360\n"
     ]
    },
    {
     "name": "stderr",
     "output_type": "stream",
     "text": [
      "Epoch 41/50 (Training): 100%|██████████| 657/657 [02:41<00:00,  4.06it/s]\n"
     ]
    },
    {
     "name": "stdout",
     "output_type": "stream",
     "text": [
      "Loss: 0.8027, Validation Accuracy: 0.5967, Time remaining: 0:27:10.495935\n"
     ]
    },
    {
     "name": "stderr",
     "output_type": "stream",
     "text": [
      "Epoch 42/50 (Training): 100%|██████████| 657/657 [02:41<00:00,  4.07it/s]\n"
     ]
    },
    {
     "name": "stdout",
     "output_type": "stream",
     "text": [
      "Loss: 0.7990, Validation Accuracy: 0.5930, Time remaining: 0:24:09.369080\n"
     ]
    },
    {
     "name": "stderr",
     "output_type": "stream",
     "text": [
      "Epoch 43/50 (Training): 100%|██████████| 657/657 [02:41<00:00,  4.07it/s]\n"
     ]
    },
    {
     "name": "stdout",
     "output_type": "stream",
     "text": [
      "Loss: 0.8026, Validation Accuracy: 0.5988, Time remaining: 0:21:08.030274\n"
     ]
    },
    {
     "name": "stderr",
     "output_type": "stream",
     "text": [
      "Epoch 44/50 (Training): 100%|██████████| 657/657 [02:41<00:00,  4.07it/s]\n"
     ]
    },
    {
     "name": "stdout",
     "output_type": "stream",
     "text": [
      "Loss: 0.8002, Validation Accuracy: 0.5955, Time remaining: 0:18:06.705150\n"
     ]
    },
    {
     "name": "stderr",
     "output_type": "stream",
     "text": [
      "Epoch 45/50 (Training): 100%|██████████| 657/657 [02:41<00:00,  4.07it/s]\n"
     ]
    },
    {
     "name": "stdout",
     "output_type": "stream",
     "text": [
      "Loss: 0.8001, Validation Accuracy: 0.5955, Time remaining: 0:15:05.444865\n"
     ]
    },
    {
     "name": "stderr",
     "output_type": "stream",
     "text": [
      "Epoch 46/50 (Training): 100%|██████████| 657/657 [02:41<00:00,  4.07it/s]\n"
     ]
    },
    {
     "name": "stdout",
     "output_type": "stream",
     "text": [
      "Loss: 0.7967, Validation Accuracy: 0.5972, Time remaining: 0:12:04.269820\n"
     ]
    },
    {
     "name": "stderr",
     "output_type": "stream",
     "text": [
      "Epoch 47/50 (Training): 100%|██████████| 657/657 [02:41<00:00,  4.07it/s]\n"
     ]
    },
    {
     "name": "stdout",
     "output_type": "stream",
     "text": [
      "Loss: 0.7954, Validation Accuracy: 0.6002, Time remaining: 0:09:03.138156\n"
     ]
    },
    {
     "name": "stderr",
     "output_type": "stream",
     "text": [
      "Epoch 48/50 (Training): 100%|██████████| 657/657 [02:41<00:00,  4.06it/s]\n"
     ]
    },
    {
     "name": "stdout",
     "output_type": "stream",
     "text": [
      "Loss: 0.7952, Validation Accuracy: 0.5988, Time remaining: 0:06:02.072006\n"
     ]
    },
    {
     "name": "stderr",
     "output_type": "stream",
     "text": [
      "Epoch 49/50 (Training): 100%|██████████| 657/657 [02:41<00:00,  4.06it/s]\n"
     ]
    },
    {
     "name": "stdout",
     "output_type": "stream",
     "text": [
      "Loss: 0.7960, Validation Accuracy: 0.5940, Time remaining: 0:03:01.021096\n"
     ]
    },
    {
     "name": "stderr",
     "output_type": "stream",
     "text": [
      "Epoch 50/50 (Training): 100%|██████████| 657/657 [02:41<00:00,  4.06it/s]\n"
     ]
    },
    {
     "name": "stdout",
     "output_type": "stream",
     "text": [
      "Loss: 0.7948, Validation Accuracy: 0.6012, Time remaining: 0:00:00\n",
      "--------------------------------------------------------\n",
      "Testing with \"128 filters\" and \"1 layers\"\n"
     ]
    },
    {
     "name": "stderr",
     "output_type": "stream",
     "text": [
      "Epoch 1/50 (Training): 100%|██████████| 657/657 [00:55<00:00, 11.85it/s]\n"
     ]
    },
    {
     "name": "stdout",
     "output_type": "stream",
     "text": [
      "Loss: 1.0987, Validation Accuracy: 0.3538, Time remaining: 0:56:50.469629\n"
     ]
    },
    {
     "name": "stderr",
     "output_type": "stream",
     "text": [
      "Epoch 2/50 (Training): 100%|██████████| 657/657 [00:49<00:00, 13.37it/s]\n"
     ]
    },
    {
     "name": "stdout",
     "output_type": "stream",
     "text": [
      "Loss: 1.0976, Validation Accuracy: 0.3585, Time remaining: 0:53:20.724000\n"
     ]
    },
    {
     "name": "stderr",
     "output_type": "stream",
     "text": [
      "Epoch 3/50 (Training): 100%|██████████| 657/657 [00:37<00:00, 17.73it/s]\n"
     ]
    },
    {
     "name": "stdout",
     "output_type": "stream",
     "text": [
      "Loss: 1.0969, Validation Accuracy: 0.3850, Time remaining: 0:47:46.227414\n"
     ]
    },
    {
     "name": "stderr",
     "output_type": "stream",
     "text": [
      "Epoch 4/50 (Training): 100%|██████████| 657/657 [00:37<00:00, 17.71it/s]\n"
     ]
    },
    {
     "name": "stdout",
     "output_type": "stream",
     "text": [
      "Loss: 1.0949, Validation Accuracy: 0.3687, Time remaining: 0:44:30.180492\n"
     ]
    },
    {
     "name": "stderr",
     "output_type": "stream",
     "text": [
      "Epoch 5/50 (Training): 100%|██████████| 657/657 [00:38<00:00, 17.25it/s]\n"
     ]
    },
    {
     "name": "stdout",
     "output_type": "stream",
     "text": [
      "Loss: 1.0933, Validation Accuracy: 0.3848, Time remaining: 0:42:23.435055\n"
     ]
    },
    {
     "name": "stderr",
     "output_type": "stream",
     "text": [
      "Epoch 6/50 (Training): 100%|██████████| 657/657 [00:43<00:00, 15.23it/s]\n"
     ]
    },
    {
     "name": "stdout",
     "output_type": "stream",
     "text": [
      "Loss: 1.0915, Validation Accuracy: 0.3803, Time remaining: 0:41:32.439136\n"
     ]
    },
    {
     "name": "stderr",
     "output_type": "stream",
     "text": [
      "Epoch 7/50 (Training): 100%|██████████| 657/657 [00:41<00:00, 15.97it/s]\n"
     ]
    },
    {
     "name": "stdout",
     "output_type": "stream",
     "text": [
      "Loss: 1.0901, Validation Accuracy: 0.3762, Time remaining: 0:40:26.052948\n"
     ]
    },
    {
     "name": "stderr",
     "output_type": "stream",
     "text": [
      "Epoch 8/50 (Training): 100%|██████████| 657/657 [00:37<00:00, 17.48it/s]\n"
     ]
    },
    {
     "name": "stdout",
     "output_type": "stream",
     "text": [
      "Loss: 1.0887, Validation Accuracy: 0.3880, Time remaining: 0:38:55.888674\n"
     ]
    },
    {
     "name": "stderr",
     "output_type": "stream",
     "text": [
      "Epoch 9/50 (Training): 100%|██████████| 657/657 [00:37<00:00, 17.37it/s]\n"
     ]
    },
    {
     "name": "stdout",
     "output_type": "stream",
     "text": [
      "Loss: 1.0874, Validation Accuracy: 0.4028, Time remaining: 0:37:35.499995\n"
     ]
    },
    {
     "name": "stderr",
     "output_type": "stream",
     "text": [
      "Epoch 10/50 (Training): 100%|██████████| 657/657 [00:36<00:00, 17.76it/s]\n"
     ]
    },
    {
     "name": "stdout",
     "output_type": "stream",
     "text": [
      "Loss: 1.0865, Validation Accuracy: 0.4048, Time remaining: 0:36:16.819720\n"
     ]
    },
    {
     "name": "stderr",
     "output_type": "stream",
     "text": [
      "Epoch 11/50 (Training): 100%|██████████| 657/657 [00:37<00:00, 17.40it/s]\n"
     ]
    },
    {
     "name": "stdout",
     "output_type": "stream",
     "text": [
      "Loss: 1.0853, Validation Accuracy: 0.3898, Time remaining: 0:35:06.490893\n"
     ]
    },
    {
     "name": "stderr",
     "output_type": "stream",
     "text": [
      "Epoch 12/50 (Training): 100%|██████████| 657/657 [00:45<00:00, 14.40it/s]\n"
     ]
    },
    {
     "name": "stdout",
     "output_type": "stream",
     "text": [
      "Loss: 1.0842, Validation Accuracy: 0.3935, Time remaining: 0:34:28.841144\n"
     ]
    },
    {
     "name": "stderr",
     "output_type": "stream",
     "text": [
      "Epoch 13/50 (Training): 100%|██████████| 657/657 [00:38<00:00, 17.08it/s]\n"
     ]
    },
    {
     "name": "stdout",
     "output_type": "stream",
     "text": [
      "Loss: 1.0828, Validation Accuracy: 0.4065, Time remaining: 0:33:23.899169\n"
     ]
    },
    {
     "name": "stderr",
     "output_type": "stream",
     "text": [
      "Epoch 14/50 (Training): 100%|██████████| 657/657 [00:38<00:00, 17.19it/s]\n"
     ]
    },
    {
     "name": "stdout",
     "output_type": "stream",
     "text": [
      "Loss: 1.0816, Validation Accuracy: 0.3933, Time remaining: 0:32:20.073156\n"
     ]
    },
    {
     "name": "stderr",
     "output_type": "stream",
     "text": [
      "Epoch 15/50 (Training): 100%|██████████| 657/657 [00:38<00:00, 17.18it/s]\n"
     ]
    },
    {
     "name": "stdout",
     "output_type": "stream",
     "text": [
      "Loss: 1.0801, Validation Accuracy: 0.4025, Time remaining: 0:31:18.351300\n"
     ]
    },
    {
     "name": "stderr",
     "output_type": "stream",
     "text": [
      "Epoch 16/50 (Training): 100%|██████████| 657/657 [00:37<00:00, 17.49it/s]\n"
     ]
    },
    {
     "name": "stdout",
     "output_type": "stream",
     "text": [
      "Loss: 1.0797, Validation Accuracy: 0.3988, Time remaining: 0:30:18.724906\n"
     ]
    },
    {
     "name": "stderr",
     "output_type": "stream",
     "text": [
      "Epoch 17/50 (Training): 100%|██████████| 657/657 [00:37<00:00, 17.64it/s]\n"
     ]
    },
    {
     "name": "stdout",
     "output_type": "stream",
     "text": [
      "Loss: 1.0777, Validation Accuracy: 0.3942, Time remaining: 0:29:18.308838\n"
     ]
    },
    {
     "name": "stderr",
     "output_type": "stream",
     "text": [
      "Epoch 18/50 (Training): 100%|██████████| 657/657 [00:42<00:00, 15.29it/s]\n"
     ]
    },
    {
     "name": "stdout",
     "output_type": "stream",
     "text": [
      "Loss: 1.0772, Validation Accuracy: 0.3933, Time remaining: 0:28:30.330016\n"
     ]
    },
    {
     "name": "stderr",
     "output_type": "stream",
     "text": [
      "Epoch 19/50 (Training): 100%|██████████| 657/657 [00:36<00:00, 17.81it/s]\n"
     ]
    },
    {
     "name": "stdout",
     "output_type": "stream",
     "text": [
      "Loss: 1.0764, Validation Accuracy: 0.3932, Time remaining: 0:27:29.381009\n"
     ]
    },
    {
     "name": "stderr",
     "output_type": "stream",
     "text": [
      "Epoch 20/50 (Training): 100%|██████████| 657/657 [00:37<00:00, 17.63it/s]\n"
     ]
    },
    {
     "name": "stdout",
     "output_type": "stream",
     "text": [
      "Loss: 1.0761, Validation Accuracy: 0.3942, Time remaining: 0:26:30.515430\n"
     ]
    },
    {
     "name": "stderr",
     "output_type": "stream",
     "text": [
      "Epoch 21/50 (Training): 100%|██████████| 657/657 [00:37<00:00, 17.75it/s]\n"
     ]
    },
    {
     "name": "stdout",
     "output_type": "stream",
     "text": [
      "Loss: 1.0755, Validation Accuracy: 0.3977, Time remaining: 0:25:32.158131\n"
     ]
    },
    {
     "name": "stderr",
     "output_type": "stream",
     "text": [
      "Epoch 22/50 (Training): 100%|██████████| 657/657 [00:45<00:00, 14.49it/s]\n"
     ]
    },
    {
     "name": "stdout",
     "output_type": "stream",
     "text": [
      "Loss: 1.0753, Validation Accuracy: 0.3937, Time remaining: 0:24:45.724492\n"
     ]
    },
    {
     "name": "stderr",
     "output_type": "stream",
     "text": [
      "Epoch 23/50 (Training): 100%|██████████| 657/657 [00:38<00:00, 17.03it/s]\n"
     ]
    },
    {
     "name": "stdout",
     "output_type": "stream",
     "text": [
      "Loss: 1.0751, Validation Accuracy: 0.3960, Time remaining: 0:23:50.592354\n",
      "Early stopping at epoch 23 due to no improvement in validation accuracy.\n",
      "Best Validation Accuracy: 0.4065 at epoch 13\n",
      "--------------------------------------------------------\n",
      "Testing with \"128 filters\" and \"2 layers\"\n"
     ]
    },
    {
     "name": "stderr",
     "output_type": "stream",
     "text": [
      "Epoch 1/50 (Training): 100%|██████████| 657/657 [07:31<00:00,  1.45it/s]\n"
     ]
    },
    {
     "name": "stdout",
     "output_type": "stream",
     "text": [
      "Loss: 1.0779, Validation Accuracy: 0.4188, Time remaining: 6:25:28.787724\n"
     ]
    },
    {
     "name": "stderr",
     "output_type": "stream",
     "text": [
      "Epoch 2/50 (Training): 100%|██████████| 657/657 [07:30<00:00,  1.46it/s]\n"
     ]
    },
    {
     "name": "stdout",
     "output_type": "stream",
     "text": [
      "Loss: 1.0437, Validation Accuracy: 0.4465, Time remaining: 6:18:49.911504\n"
     ]
    },
    {
     "name": "stderr",
     "output_type": "stream",
     "text": [
      "Epoch 3/50 (Training): 100%|██████████| 657/657 [07:30<00:00,  1.46it/s]\n"
     ]
    },
    {
     "name": "stdout",
     "output_type": "stream",
     "text": [
      "Loss: 1.0226, Validation Accuracy: 0.4897, Time remaining: 6:11:18.710405\n"
     ]
    },
    {
     "name": "stderr",
     "output_type": "stream",
     "text": [
      "Epoch 4/50 (Training): 100%|██████████| 657/657 [07:32<00:00,  1.45it/s]\n"
     ]
    },
    {
     "name": "stdout",
     "output_type": "stream",
     "text": [
      "Loss: 1.0027, Validation Accuracy: 0.4790, Time remaining: 6:03:50.990592\n"
     ]
    },
    {
     "name": "stderr",
     "output_type": "stream",
     "text": [
      "Epoch 5/50 (Training): 100%|██████████| 657/657 [07:31<00:00,  1.46it/s]\n"
     ]
    },
    {
     "name": "stdout",
     "output_type": "stream",
     "text": [
      "Loss: 0.9862, Validation Accuracy: 0.5095, Time remaining: 5:56:10.200660\n"
     ]
    },
    {
     "name": "stderr",
     "output_type": "stream",
     "text": [
      "Epoch 6/50 (Training): 100%|██████████| 657/657 [07:31<00:00,  1.46it/s]\n"
     ]
    },
    {
     "name": "stdout",
     "output_type": "stream",
     "text": [
      "Loss: 0.9746, Validation Accuracy: 0.5067, Time remaining: 5:48:02.141544\n"
     ]
    },
    {
     "name": "stderr",
     "output_type": "stream",
     "text": [
      "Epoch 7/50 (Training): 100%|██████████| 657/657 [07:30<00:00,  1.46it/s]\n"
     ]
    },
    {
     "name": "stdout",
     "output_type": "stream",
     "text": [
      "Loss: 0.9682, Validation Accuracy: 0.5033, Time remaining: 5:40:07.373526\n"
     ]
    },
    {
     "name": "stderr",
     "output_type": "stream",
     "text": [
      "Epoch 8/50 (Training): 100%|██████████| 657/657 [07:30<00:00,  1.46it/s]\n"
     ]
    },
    {
     "name": "stdout",
     "output_type": "stream",
     "text": [
      "Loss: 0.9614, Validation Accuracy: 0.4953, Time remaining: 5:32:13.063962\n"
     ]
    },
    {
     "name": "stderr",
     "output_type": "stream",
     "text": [
      "Epoch 9/50 (Training): 100%|██████████| 657/657 [07:30<00:00,  1.46it/s]\n"
     ]
    },
    {
     "name": "stdout",
     "output_type": "stream",
     "text": [
      "Loss: 0.9509, Validation Accuracy: 0.5082, Time remaining: 5:24:21.432116\n"
     ]
    },
    {
     "name": "stderr",
     "output_type": "stream",
     "text": [
      "Epoch 10/50 (Training): 100%|██████████| 657/657 [07:30<00:00,  1.46it/s]\n"
     ]
    },
    {
     "name": "stdout",
     "output_type": "stream",
     "text": [
      "Loss: 0.9466, Validation Accuracy: 0.5205, Time remaining: 5:16:18.985160\n"
     ]
    },
    {
     "name": "stderr",
     "output_type": "stream",
     "text": [
      "Epoch 11/50 (Training): 100%|██████████| 657/657 [07:30<00:00,  1.46it/s]\n"
     ]
    },
    {
     "name": "stdout",
     "output_type": "stream",
     "text": [
      "Loss: 0.9415, Validation Accuracy: 0.5318, Time remaining: 5:08:22.539393\n"
     ]
    },
    {
     "name": "stderr",
     "output_type": "stream",
     "text": [
      "Epoch 12/50 (Training): 100%|██████████| 657/657 [07:30<00:00,  1.46it/s]\n"
     ]
    },
    {
     "name": "stdout",
     "output_type": "stream",
     "text": [
      "Loss: 0.9394, Validation Accuracy: 0.5302, Time remaining: 5:00:39.252384\n"
     ]
    },
    {
     "name": "stderr",
     "output_type": "stream",
     "text": [
      "Epoch 13/50 (Training): 100%|██████████| 657/657 [07:30<00:00,  1.46it/s]\n"
     ]
    },
    {
     "name": "stdout",
     "output_type": "stream",
     "text": [
      "Loss: 0.9372, Validation Accuracy: 0.5260, Time remaining: 4:52:57.186145\n"
     ]
    },
    {
     "name": "stderr",
     "output_type": "stream",
     "text": [
      "Epoch 14/50 (Training): 100%|██████████| 657/657 [07:31<00:00,  1.46it/s]\n"
     ]
    },
    {
     "name": "stdout",
     "output_type": "stream",
     "text": [
      "Loss: 0.9315, Validation Accuracy: 0.5302, Time remaining: 4:45:05.589684\n"
     ]
    },
    {
     "name": "stderr",
     "output_type": "stream",
     "text": [
      "Epoch 15/50 (Training): 100%|██████████| 657/657 [07:30<00:00,  1.46it/s]\n"
     ]
    },
    {
     "name": "stdout",
     "output_type": "stream",
     "text": [
      "Loss: 0.9263, Validation Accuracy: 0.5250, Time remaining: 4:37:09.075680\n"
     ]
    },
    {
     "name": "stderr",
     "output_type": "stream",
     "text": [
      "Epoch 16/50 (Training): 100%|██████████| 657/657 [07:30<00:00,  1.46it/s]\n"
     ]
    },
    {
     "name": "stdout",
     "output_type": "stream",
     "text": [
      "Loss: 0.9254, Validation Accuracy: 0.5322, Time remaining: 4:29:17.987484\n"
     ]
    },
    {
     "name": "stderr",
     "output_type": "stream",
     "text": [
      "Epoch 17/50 (Training): 100%|██████████| 657/657 [07:30<00:00,  1.46it/s]\n"
     ]
    },
    {
     "name": "stdout",
     "output_type": "stream",
     "text": [
      "Loss: 0.9229, Validation Accuracy: 0.5285, Time remaining: 4:21:25.013817\n"
     ]
    },
    {
     "name": "stderr",
     "output_type": "stream",
     "text": [
      "Epoch 18/50 (Training): 100%|██████████| 657/657 [07:30<00:00,  1.46it/s]\n"
     ]
    },
    {
     "name": "stdout",
     "output_type": "stream",
     "text": [
      "Loss: 0.9242, Validation Accuracy: 0.5328, Time remaining: 4:13:30.933024\n"
     ]
    },
    {
     "name": "stderr",
     "output_type": "stream",
     "text": [
      "Epoch 19/50 (Training): 100%|██████████| 657/657 [07:29<00:00,  1.46it/s]\n"
     ]
    },
    {
     "name": "stdout",
     "output_type": "stream",
     "text": [
      "Loss: 0.9195, Validation Accuracy: 0.5378, Time remaining: 4:05:35.893896\n"
     ]
    },
    {
     "name": "stderr",
     "output_type": "stream",
     "text": [
      "Epoch 20/50 (Training): 100%|██████████| 657/657 [07:29<00:00,  1.46it/s]\n"
     ]
    },
    {
     "name": "stdout",
     "output_type": "stream",
     "text": [
      "Loss: 0.9197, Validation Accuracy: 0.5330, Time remaining: 3:57:39.568740\n"
     ]
    },
    {
     "name": "stderr",
     "output_type": "stream",
     "text": [
      "Epoch 21/50 (Training): 100%|██████████| 657/657 [07:29<00:00,  1.46it/s]\n"
     ]
    },
    {
     "name": "stdout",
     "output_type": "stream",
     "text": [
      "Loss: 0.9194, Validation Accuracy: 0.5248, Time remaining: 3:49:41.613827\n"
     ]
    },
    {
     "name": "stderr",
     "output_type": "stream",
     "text": [
      "Epoch 22/50 (Training): 100%|██████████| 657/657 [07:30<00:00,  1.46it/s]\n"
     ]
    },
    {
     "name": "stdout",
     "output_type": "stream",
     "text": [
      "Loss: 0.9169, Validation Accuracy: 0.5397, Time remaining: 3:41:45.696992\n"
     ]
    },
    {
     "name": "stderr",
     "output_type": "stream",
     "text": [
      "Epoch 23/50 (Training): 100%|██████████| 657/657 [07:29<00:00,  1.46it/s]\n"
     ]
    },
    {
     "name": "stdout",
     "output_type": "stream",
     "text": [
      "Loss: 0.9172, Validation Accuracy: 0.5472, Time remaining: 3:33:48.174606\n"
     ]
    },
    {
     "name": "stderr",
     "output_type": "stream",
     "text": [
      "Epoch 24/50 (Training): 100%|██████████| 657/657 [07:30<00:00,  1.46it/s]\n"
     ]
    },
    {
     "name": "stdout",
     "output_type": "stream",
     "text": [
      "Loss: 0.9145, Validation Accuracy: 0.5365, Time remaining: 3:25:52.717338\n"
     ]
    },
    {
     "name": "stderr",
     "output_type": "stream",
     "text": [
      "Epoch 25/50 (Training): 100%|██████████| 657/657 [07:29<00:00,  1.46it/s]\n"
     ]
    },
    {
     "name": "stdout",
     "output_type": "stream",
     "text": [
      "Loss: 0.9116, Validation Accuracy: 0.5338, Time remaining: 3:17:57.597125\n"
     ]
    },
    {
     "name": "stderr",
     "output_type": "stream",
     "text": [
      "Epoch 26/50 (Training): 100%|██████████| 657/657 [07:30<00:00,  1.46it/s]\n"
     ]
    },
    {
     "name": "stdout",
     "output_type": "stream",
     "text": [
      "Loss: 0.9110, Validation Accuracy: 0.5310, Time remaining: 3:10:02.042664\n"
     ]
    },
    {
     "name": "stderr",
     "output_type": "stream",
     "text": [
      "Epoch 27/50 (Training): 100%|██████████| 657/657 [07:30<00:00,  1.46it/s]\n"
     ]
    },
    {
     "name": "stdout",
     "output_type": "stream",
     "text": [
      "Loss: 0.9094, Validation Accuracy: 0.5432, Time remaining: 3:02:07.742888\n"
     ]
    },
    {
     "name": "stderr",
     "output_type": "stream",
     "text": [
      "Epoch 28/50 (Training): 100%|██████████| 657/657 [07:29<00:00,  1.46it/s]\n"
     ]
    },
    {
     "name": "stdout",
     "output_type": "stream",
     "text": [
      "Loss: 0.9081, Validation Accuracy: 0.5435, Time remaining: 2:54:12.092398\n"
     ]
    },
    {
     "name": "stderr",
     "output_type": "stream",
     "text": [
      "Epoch 29/50 (Training): 100%|██████████| 657/657 [07:30<00:00,  1.46it/s]\n"
     ]
    },
    {
     "name": "stdout",
     "output_type": "stream",
     "text": [
      "Loss: 0.9062, Validation Accuracy: 0.5495, Time remaining: 2:46:16.988112\n"
     ]
    },
    {
     "name": "stderr",
     "output_type": "stream",
     "text": [
      "Epoch 30/50 (Training): 100%|██████████| 657/657 [07:30<00:00,  1.46it/s]\n"
     ]
    },
    {
     "name": "stdout",
     "output_type": "stream",
     "text": [
      "Loss: 0.9050, Validation Accuracy: 0.5448, Time remaining: 2:38:22.451360\n"
     ]
    },
    {
     "name": "stderr",
     "output_type": "stream",
     "text": [
      "Epoch 31/50 (Training): 100%|██████████| 657/657 [07:31<00:00,  1.45it/s]\n"
     ]
    },
    {
     "name": "stdout",
     "output_type": "stream",
     "text": [
      "Loss: 0.9052, Validation Accuracy: 0.5447, Time remaining: 2:30:28.114594\n"
     ]
    },
    {
     "name": "stderr",
     "output_type": "stream",
     "text": [
      "Epoch 32/50 (Training): 100%|██████████| 657/657 [07:30<00:00,  1.46it/s]\n"
     ]
    },
    {
     "name": "stdout",
     "output_type": "stream",
     "text": [
      "Loss: 0.9030, Validation Accuracy: 0.5437, Time remaining: 2:22:32.649420\n"
     ]
    },
    {
     "name": "stderr",
     "output_type": "stream",
     "text": [
      "Epoch 33/50 (Training): 100%|██████████| 657/657 [07:30<00:00,  1.46it/s]\n"
     ]
    },
    {
     "name": "stdout",
     "output_type": "stream",
     "text": [
      "Loss: 0.9036, Validation Accuracy: 0.5378, Time remaining: 2:14:38.016208\n"
     ]
    },
    {
     "name": "stderr",
     "output_type": "stream",
     "text": [
      "Epoch 34/50 (Training): 100%|██████████| 657/657 [07:30<00:00,  1.46it/s]\n"
     ]
    },
    {
     "name": "stdout",
     "output_type": "stream",
     "text": [
      "Loss: 0.9025, Validation Accuracy: 0.5437, Time remaining: 2:06:42.921296\n"
     ]
    },
    {
     "name": "stderr",
     "output_type": "stream",
     "text": [
      "Epoch 35/50 (Training): 100%|██████████| 657/657 [07:29<00:00,  1.46it/s]\n"
     ]
    },
    {
     "name": "stdout",
     "output_type": "stream",
     "text": [
      "Loss: 0.9017, Validation Accuracy: 0.5472, Time remaining: 1:58:47.972415\n"
     ]
    },
    {
     "name": "stderr",
     "output_type": "stream",
     "text": [
      "Epoch 36/50 (Training): 100%|██████████| 657/657 [07:29<00:00,  1.46it/s]\n"
     ]
    },
    {
     "name": "stdout",
     "output_type": "stream",
     "text": [
      "Loss: 0.9011, Validation Accuracy: 0.5485, Time remaining: 1:50:52.103332\n"
     ]
    },
    {
     "name": "stderr",
     "output_type": "stream",
     "text": [
      "Epoch 37/50 (Training): 100%|██████████| 657/657 [07:29<00:00,  1.46it/s]\n"
     ]
    },
    {
     "name": "stdout",
     "output_type": "stream",
     "text": [
      "Loss: 0.9005, Validation Accuracy: 0.5477, Time remaining: 1:42:57.991131\n"
     ]
    },
    {
     "name": "stderr",
     "output_type": "stream",
     "text": [
      "Epoch 38/50 (Training): 100%|██████████| 657/657 [07:30<00:00,  1.46it/s]\n"
     ]
    },
    {
     "name": "stdout",
     "output_type": "stream",
     "text": [
      "Loss: 0.8992, Validation Accuracy: 0.5438, Time remaining: 1:35:03.383604\n"
     ]
    },
    {
     "name": "stderr",
     "output_type": "stream",
     "text": [
      "Epoch 39/50 (Training): 100%|██████████| 657/657 [07:29<00:00,  1.46it/s]\n"
     ]
    },
    {
     "name": "stdout",
     "output_type": "stream",
     "text": [
      "Loss: 0.8997, Validation Accuracy: 0.5448, Time remaining: 1:27:08.451712\n",
      "Early stopping at epoch 39 due to no improvement in validation accuracy.\n",
      "Best Validation Accuracy: 0.5495 at epoch 29\n",
      "--------------------------------------------------------\n",
      "Testing with \"128 filters\" and \"4 layers\"\n"
     ]
    },
    {
     "name": "stderr",
     "output_type": "stream",
     "text": [
      "Epoch 1/50 (Training): 100%|██████████| 657/657 [1:28:59<00:00,  8.13s/it]\n"
     ]
    },
    {
     "name": "stdout",
     "output_type": "stream",
     "text": [
      "Loss: 1.0476, Validation Accuracy: 0.4567, Time remaining: 3 days, 1:15:27.781625\n"
     ]
    },
    {
     "name": "stderr",
     "output_type": "stream",
     "text": [
      "Epoch 2/50 (Training): 100%|██████████| 657/657 [1:28:50<00:00,  8.11s/it]\n"
     ]
    },
    {
     "name": "stdout",
     "output_type": "stream",
     "text": [
      "Loss: 1.0026, Validation Accuracy: 0.5028, Time remaining: 2 days, 23:43:00.018528\n"
     ]
    },
    {
     "name": "stderr",
     "output_type": "stream",
     "text": [
      "Epoch 3/50 (Training): 100%|██████████| 657/657 [1:28:48<00:00,  8.11s/it]\n"
     ]
    },
    {
     "name": "stdout",
     "output_type": "stream",
     "text": [
      "Loss: 0.9831, Validation Accuracy: 0.4888, Time remaining: 2 days, 22:12:29.239236\n"
     ]
    },
    {
     "name": "stderr",
     "output_type": "stream",
     "text": [
      "Epoch 4/50 (Training):  33%|███▎      | 216/657 [29:26<1:00:07,  8.18s/it]\n"
     ]
    },
    {
     "ename": "KeyboardInterrupt",
     "evalue": "",
     "output_type": "error",
     "traceback": [
      "\u001b[0;31m---------------------------------------------------------------------------\u001b[0m",
      "\u001b[0;31mKeyboardInterrupt\u001b[0m                         Traceback (most recent call last)",
      "\u001b[1;32m/home/devcontainers/third-year-project/hand_detction/train_hand_detection.ipynb Cell 12\u001b[0m line \u001b[0;36m7\n\u001b[1;32m      <a href='vscode-notebook-cell://wsl%2Bubuntu/home/devcontainers/third-year-project/hand_detction/train_hand_detection.ipynb#X14sdnNjb2RlLXJlbW90ZQ%3D%3D?line=4'>5</a>\u001b[0m \u001b[39mprint\u001b[39m(\u001b[39mf\u001b[39m\u001b[39m\"\u001b[39m\u001b[39mTesting with \u001b[39m\u001b[39m\\\"\u001b[39;00m\u001b[39m{\u001b[39;00mfilters\u001b[39m}\u001b[39;00m\u001b[39m filters\u001b[39m\u001b[39m\\\"\u001b[39;00m\u001b[39m and \u001b[39m\u001b[39m\\\"\u001b[39;00m\u001b[39m{\u001b[39;00mnum_layers\u001b[39m}\u001b[39;00m\u001b[39m layers\u001b[39m\u001b[39m\\\"\u001b[39;00m\u001b[39m\"\u001b[39m)\n\u001b[1;32m      <a href='vscode-notebook-cell://wsl%2Bubuntu/home/devcontainers/third-year-project/hand_detction/train_hand_detection.ipynb#X14sdnNjb2RlLXJlbW90ZQ%3D%3D?line=5'>6</a>\u001b[0m model \u001b[39m=\u001b[39m models\u001b[39m.\u001b[39mHandDetectionModel(filters, num_layers)\n\u001b[0;32m----> <a href='vscode-notebook-cell://wsl%2Bubuntu/home/devcontainers/third-year-project/hand_detction/train_hand_detection.ipynb#X14sdnNjb2RlLXJlbW90ZQ%3D%3D?line=6'>7</a>\u001b[0m model\u001b[39m.\u001b[39;49mtrain_model(train, test, epochs\u001b[39m=\u001b[39;49m\u001b[39m50\u001b[39;49m, early_stopping_patience\u001b[39m=\u001b[39;49m\u001b[39m10\u001b[39;49m)\n\u001b[1;32m      <a href='vscode-notebook-cell://wsl%2Bubuntu/home/devcontainers/third-year-project/hand_detction/train_hand_detection.ipynb#X14sdnNjb2RlLXJlbW90ZQ%3D%3D?line=7'>8</a>\u001b[0m torch\u001b[39m.\u001b[39msave(model\u001b[39m.\u001b[39mstate_dict(), \u001b[39mf\u001b[39m\u001b[39m\"\u001b[39m\u001b[39mmodels/model_\u001b[39m\u001b[39m{\u001b[39;00mfilters\u001b[39m}\u001b[39;00m\u001b[39m_\u001b[39m\u001b[39m{\u001b[39;00mnum_layers\u001b[39m}\u001b[39;00m\u001b[39m_\u001b[39m\u001b[39m{\u001b[39;00mdatetime\u001b[39m.\u001b[39mnow()\u001b[39m.\u001b[39mstrftime(\u001b[39m'\u001b[39m\u001b[39m%\u001b[39m\u001b[39mY\u001b[39m\u001b[39m%\u001b[39m\u001b[39mm\u001b[39m\u001b[39m%d\u001b[39;00m\u001b[39m-\u001b[39m\u001b[39m%\u001b[39m\u001b[39mH\u001b[39m\u001b[39m%\u001b[39m\u001b[39mM\u001b[39m\u001b[39m%\u001b[39m\u001b[39mS\u001b[39m\u001b[39m'\u001b[39m)\u001b[39m}\u001b[39;00m\u001b[39m.pt\u001b[39m\u001b[39m\"\u001b[39m)\n\u001b[1;32m      <a href='vscode-notebook-cell://wsl%2Bubuntu/home/devcontainers/third-year-project/hand_detction/train_hand_detection.ipynb#X14sdnNjb2RlLXJlbW90ZQ%3D%3D?line=8'>9</a>\u001b[0m saved_models\u001b[39m.\u001b[39mappend(model)\n",
      "File \u001b[0;32m~/third-year-project/hand_detction/models.py:90\u001b[0m, in \u001b[0;36mHandDetectionModel.train_model\u001b[0;34m(self, train, test, epochs, early_stopping_patience)\u001b[0m\n\u001b[1;32m     87\u001b[0m         optimizer\u001b[39m.\u001b[39mstep()\n\u001b[1;32m     88\u001b[0m         optimizer\u001b[39m.\u001b[39mzero_grad()\n\u001b[0;32m---> 90\u001b[0m     epoch_loss \u001b[39m+\u001b[39m\u001b[39m=\u001b[39m loss\u001b[39m.\u001b[39;49mitem()\n\u001b[1;32m     91\u001b[0m     \u001b[39mdel\u001b[39;00m inputs, labels, loss\n\u001b[1;32m     93\u001b[0m average_loss \u001b[39m=\u001b[39m epoch_loss \u001b[39m/\u001b[39m \u001b[39mlen\u001b[39m(train)\n",
      "\u001b[0;31mKeyboardInterrupt\u001b[0m: "
     ]
    }
   ],
   "source": [
    "saved_models = []\n",
    "\n",
    "for filters, num_layers in combinations:\n",
    "    print(\"--------------------------------------------------------\")\n",
    "    print(f\"Testing with \\\"{filters} filters\\\" and \\\"{num_layers} layers\\\"\")\n",
    "    model = models.HandDetectionModel(filters, num_layers)\n",
    "    model.train_model(train, test, epochs=50, early_stopping_patience=10)\n",
    "    torch.save(model.state_dict(), f\"models/model_{filters}_{num_layers}_{datetime.now().strftime('%Y%m%d-%H%M%S')}.pt\")\n",
    "    saved_models.append(model)"
   ]
  },
  {
   "cell_type": "markdown",
   "metadata": {},
   "source": [
    "# Validation"
   ]
  },
  {
   "cell_type": "code",
   "execution_count": 8,
   "metadata": {},
   "outputs": [
    {
     "name": "stdout",
     "output_type": "stream",
     "text": [
      "--------------------------------------------------------\n",
      "Validating with \"1 filters\" and \"32 layers\"\n"
     ]
    },
    {
     "name": "stderr",
     "output_type": "stream",
     "text": [
      "Evaluating: 100%|██████████| 94/94 [00:26<00:00,  3.51it/s]\n"
     ]
    },
    {
     "name": "stdout",
     "output_type": "stream",
     "text": [
      "Accuracy: 39.07%\n"
     ]
    },
    {
     "data": {
      "image/png": "[encoded data removed]",
      "text/plain": [
       "<Figure size 800x600 with 2 Axes>"
      ]
     },
     "metadata": {},
     "output_type": "display_data"
    },
    {
     "name": "stdout",
     "output_type": "stream",
     "text": [
      "--------------------------------------------------------\n",
      "Validating with \"2 filters\" and \"32 layers\"\n"
     ]
    },
    {
     "name": "stderr",
     "output_type": "stream",
     "text": [
      "Evaluating: 100%|██████████| 94/94 [00:05<00:00, 16.27it/s]"
     ]
    },
    {
     "name": "stdout",
     "output_type": "stream",
     "text": [
      "Accuracy: 52.80%\n"
     ]
    },
    {
     "name": "stderr",
     "output_type": "stream",
     "text": [
      "\n"
     ]
    },
    {
     "data": {
      "image/png": "[encoded data removed]",
      "text/plain": [
       "<Figure size 800x600 with 2 Axes>"
      ]
     },
     "metadata": {},
     "output_type": "display_data"
    },
    {
     "name": "stdout",
     "output_type": "stream",
     "text": [
      "--------------------------------------------------------\n",
      "Validating with \"4 filters\" and \"32 layers\"\n"
     ]
    },
    {
     "name": "stderr",
     "output_type": "stream",
     "text": [
      "Evaluating: 100%|██████████| 94/94 [00:07<00:00, 13.10it/s]"
     ]
    },
    {
     "name": "stdout",
     "output_type": "stream",
     "text": [
      "Accuracy: 58.10%\n"
     ]
    },
    {
     "name": "stderr",
     "output_type": "stream",
     "text": [
      "\n"
     ]
    },
    {
     "data": {
      "image/png": "[encoded data removed]",
      "text/plain": [
       "<Figure size 800x600 with 2 Axes>"
      ]
     },
     "metadata": {},
     "output_type": "display_data"
    },
    {
     "name": "stdout",
     "output_type": "stream",
     "text": [
      "--------------------------------------------------------\n",
      "Validating with \"1 filters\" and \"64 layers\"\n"
     ]
    },
    {
     "name": "stderr",
     "output_type": "stream",
     "text": [
      "Evaluating: 100%|██████████| 94/94 [00:04<00:00, 19.65it/s]\n"
     ]
    },
    {
     "name": "stdout",
     "output_type": "stream",
     "text": [
      "Accuracy: 37.00%\n"
     ]
    },
    {
     "data": {
      "image/png": "[encoded data removed]",
      "text/plain": [
       "<Figure size 800x600 with 2 Axes>"
      ]
     },
     "metadata": {},
     "output_type": "display_data"
    },
    {
     "name": "stdout",
     "output_type": "stream",
     "text": [
      "--------------------------------------------------------\n",
      "Validating with \"2 filters\" and \"64 layers\"\n"
     ]
    },
    {
     "name": "stderr",
     "output_type": "stream",
     "text": [
      "Evaluating: 100%|██████████| 94/94 [00:07<00:00, 12.99it/s]"
     ]
    },
    {
     "name": "stdout",
     "output_type": "stream",
     "text": [
      "Accuracy: 53.00%\n"
     ]
    },
    {
     "name": "stderr",
     "output_type": "stream",
     "text": [
      "\n"
     ]
    },
    {
     "data": {
      "image/png": "[encoded data removed]",
      "text/plain": [
       "<Figure size 800x600 with 2 Axes>"
      ]
     },
     "metadata": {},
     "output_type": "display_data"
    },
    {
     "name": "stdout",
     "output_type": "stream",
     "text": [
      "--------------------------------------------------------\n",
      "Validating with \"4 filters\" and \"64 layers\"\n"
     ]
    },
    {
     "name": "stderr",
     "output_type": "stream",
     "text": [
      "Evaluating: 100%|██████████| 94/94 [00:11<00:00,  8.42it/s]"
     ]
    },
    {
     "name": "stdout",
     "output_type": "stream",
     "text": [
      "Accuracy: 60.83%\n"
     ]
    },
    {
     "name": "stderr",
     "output_type": "stream",
     "text": [
      "\n"
     ]
    },
    {
     "data": {
      "image/png": "[encoded data removed]",
      "text/plain": [
       "<Figure size 800x600 with 2 Axes>"
      ]
     },
     "metadata": {},
     "output_type": "display_data"
    },
    {
     "name": "stdout",
     "output_type": "stream",
     "text": [
      "--------------------------------------------------------\n",
      "Validating with \"1 filters\" and \"128 layers\"\n"
     ]
    },
    {
     "name": "stderr",
     "output_type": "stream",
     "text": [
      "Evaluating: 100%|██████████| 94/94 [00:05<00:00, 16.57it/s]"
     ]
    },
    {
     "name": "stdout",
     "output_type": "stream",
     "text": [
      "Accuracy: 38.93%\n"
     ]
    },
    {
     "name": "stderr",
     "output_type": "stream",
     "text": [
      "\n"
     ]
    },
    {
     "data": {
      "image/png": "[encoded data removed]",
      "text/plain": [
       "<Figure size 800x600 with 2 Axes>"
      ]
     },
     "metadata": {},
     "output_type": "display_data"
    },
    {
     "name": "stdout",
     "output_type": "stream",
     "text": [
      "--------------------------------------------------------\n",
      "Validating with \"2 filters\" and \"128 layers\"\n"
     ]
    },
    {
     "name": "stderr",
     "output_type": "stream",
     "text": [
      "Evaluating: 100%|██████████| 94/94 [00:11<00:00,  8.44it/s]"
     ]
    },
    {
     "name": "stdout",
     "output_type": "stream",
     "text": [
      "Accuracy: 54.07%\n"
     ]
    },
    {
     "name": "stderr",
     "output_type": "stream",
     "text": [
      "\n"
     ]
    },
    {
     "data": {
      "image/png": "[encoded data removed]",
      "text/plain": [
       "<Figure size 800x600 with 2 Axes>"
      ]
     },
     "metadata": {},
     "output_type": "display_data"
    }
   ],
   "source": [
    "class_labels = [0, 1, 2]\n",
    "for idx, model in enumerate(saved_models):\n",
    "    num_layers, filters = combinations[idx]\n",
    "    print(\"--------------------------------------------------------\")\n",
    "    print(f\"Validating with \\\"{filters} filters\\\" and \\\"{num_layers} layers\\\"\")\n",
    "    with torch.no_grad():\n",
    "        correct_predictions = 0\n",
    "        true_labels = []\n",
    "        predicted_labels = []\n",
    "        device = torch.device(\"cuda\" if torch.cuda.is_available() else \"cpu\")\n",
    "\n",
    "        # Wrap the loop with tqdm to add a progress bar\n",
    "        for inputs, labels in tqdm(val, total=len(val), desc=\"Evaluating\"):\n",
    "            outputs = model(inputs.to(device))\n",
    "            true_labels.extend(labels.tolist())\n",
    "\n",
    "            for idx, output in enumerate(outputs):\n",
    "                predicted_label = torch.argmax(output)\n",
    "                predicted_labels.append(predicted_label.item())\n",
    "\n",
    "                # print(f\"True Label: {labels[idx]}, Predicted Label: {predicted_label.item()}\")\n",
    "\n",
    "                if predicted_label.item() == labels[idx]:\n",
    "                    correct_predictions += 1\n",
    "\n",
    "        accuracy = correct_predictions / val_size\n",
    "        print(f\"Accuracy: {accuracy * 100:.2f}%\")\n",
    "\n",
    "    # Convert true and predicted labels to numpy arrays\n",
    "    true_labels = np.array(true_labels)\n",
    "    predicted_labels = np.array(predicted_labels)\n",
    "\n",
    "\n",
    "    # Create confusion matrix\n",
    "    conf_matrix = confusion_matrix(true_labels, predicted_labels, labels=class_labels)\n",
    "\n",
    "    # Normalize the confusion matrix to get percentages\n",
    "    conf_matrix_percentage = conf_matrix.astype('float') / conf_matrix.sum(axis=1)[:, np.newaxis] * 100\n",
    "\n",
    "    # Plot confusion matrix as a heatmap\n",
    "    plt.figure(figsize=(8, 6))\n",
    "    sns.heatmap(conf_matrix_percentage, annot=True, fmt=\".2f\", cmap=\"Blues\", xticklabels=[\"Null\", \"Left\", \"Right\"], yticklabels=[\"Null\", \"Left\", \"Right\"])\n",
    "    plt.title('Confusion Matrix - Percentages')\n",
    "    plt.xlabel('Predicted Label')\n",
    "    plt.ylabel('True Label')\n",
    "    plt.show()\n"
   ]
  }
 ],
 "metadata": {
  "kernelspec": {
   "display_name": "typ",
   "language": "python",
   "name": "python3"
  },
  "language_info": {
   "codemirror_mode": {
    "name": "ipython",
    "version": 3
   },
   "file_extension": ".py",
   "mimetype": "text/x-python",
   "name": "python",
   "nbconvert_exporter": "python",
   "pygments_lexer": "ipython3",
   "version": "3.9.18"
  }
 },
 "nbformat": 4,
 "nbformat_minor": 2
}
