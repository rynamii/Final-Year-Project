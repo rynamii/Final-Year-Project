{
 "cells": [
  {
   "cell_type": "code",
   "execution_count": 1,
   "metadata": {},
   "outputs": [],
   "source": [
    "import models\n",
    "import model_setup\n",
    "import torch\n",
    "from torch.utils.data import random_split, DataLoader\n",
    "import torch.nn as nn\n",
    "import matplotlib.pyplot as plt\n",
    "from datetime import datetime\n",
    "import seaborn as sns\n",
    "import numpy as np"
   ]
  },
  {
   "cell_type": "markdown",
   "metadata": {},
   "source": [
    "# Setup data"
   ]
  },
  {
   "cell_type": "code",
   "execution_count": 2,
   "metadata": {},
   "outputs": [],
   "source": [
    "# Load new dataset\n",
    "dataset = model_setup.load_data(max_files=32560)"
   ]
  },
  {
   "cell_type": "markdown",
   "metadata": {},
   "source": [
    "Split the data into training, testing, and validation sets"
   ]
  },
  {
   "cell_type": "code",
   "execution_count": 3,
   "metadata": {},
   "outputs": [],
   "source": [
    "loader = DataLoader(\n",
    "    dataset, batch_size=128, shuffle=True, num_workers=4, pin_memory=True\n",
    ")\n",
    "train_subset, test_subset, val_subset = random_split(loader.dataset, [0.7, 0.2, 0.1])\n",
    "val_size = len(val_subset.indices)\n",
    "del loader"
   ]
  },
  {
   "cell_type": "code",
   "execution_count": 4,
   "metadata": {},
   "outputs": [],
   "source": [
    "train = DataLoader(\n",
    "    train_subset, batch_size=128, shuffle=True, num_workers=4, pin_memory=True\n",
    ")\n",
    "test = DataLoader(\n",
    "    test_subset, batch_size=128, shuffle=True, num_workers=4, pin_memory=True\n",
    ")\n",
    "val = DataLoader(\n",
    "    val_subset, batch_size=128, shuffle=True, num_workers=4, pin_memory=True\n",
    ")"
   ]
  },
  {
   "cell_type": "markdown",
   "metadata": {},
   "source": [
    "# Training"
   ]
  },
  {
   "cell_type": "code",
   "execution_count": 5,
   "metadata": {},
   "outputs": [
    {
     "name": "stderr",
     "output_type": "stream",
     "text": [
      "Epoch 1/1000 (Training): 100%|██████████| 179/179 [00:02<00:00, 82.71it/s] \n"
     ]
    },
    {
     "name": "stdout",
     "output_type": "stream",
     "text": [
      "Loss: 5.381928, Mean Absolute Error: 0.1813363106466755, Time remaining: 0:38:44.434239\n"
     ]
    },
    {
     "name": "stderr",
     "output_type": "stream",
     "text": [
      "Epoch 2/1000 (Training): 100%|██████████| 179/179 [00:00<00:00, 247.95it/s]\n"
     ]
    },
    {
     "name": "stdout",
     "output_type": "stream",
     "text": [
      "Loss: 3.572241, Mean Absolute Error: 0.15956663738196453, Time remaining: 0:26:25.639366\n"
     ]
    },
    {
     "name": "stderr",
     "output_type": "stream",
     "text": [
      "Epoch 3/1000 (Training): 100%|██████████| 179/179 [00:00<00:00, 245.20it/s]\n"
     ]
    },
    {
     "name": "stdout",
     "output_type": "stream",
     "text": [
      "Loss: 3.264390, Mean Absolute Error: 0.14998216938273445, Time remaining: 0:22:23.391698\n"
     ]
    },
    {
     "name": "stderr",
     "output_type": "stream",
     "text": [
      "Epoch 4/1000 (Training): 100%|██████████| 179/179 [00:00<00:00, 245.66it/s]\n"
     ]
    },
    {
     "name": "stdout",
     "output_type": "stream",
     "text": [
      "Loss: 3.086776, Mean Absolute Error: 0.14236075247407315, Time remaining: 0:20:20.888832\n"
     ]
    },
    {
     "name": "stderr",
     "output_type": "stream",
     "text": [
      "Epoch 5/1000 (Training): 100%|██████████| 179/179 [00:00<00:00, 245.30it/s]\n"
     ]
    },
    {
     "name": "stdout",
     "output_type": "stream",
     "text": [
      "Loss: 2.934901, Mean Absolute Error: 0.1363627604503871, Time remaining: 0:19:07.207140\n"
     ]
    },
    {
     "name": "stderr",
     "output_type": "stream",
     "text": [
      "Epoch 6/1000 (Training): 100%|██████████| 179/179 [00:00<00:00, 242.07it/s]\n"
     ]
    },
    {
     "name": "stdout",
     "output_type": "stream",
     "text": [
      "Loss: 2.848263, Mean Absolute Error: 0.13378255962128752, Time remaining: 0:18:19.566776\n"
     ]
    },
    {
     "name": "stderr",
     "output_type": "stream",
     "text": [
      "Epoch 7/1000 (Training): 100%|██████████| 179/179 [00:00<00:00, 236.81it/s]\n"
     ]
    },
    {
     "name": "stdout",
     "output_type": "stream",
     "text": [
      "Loss: 2.789787, Mean Absolute Error: 0.1292346790648795, Time remaining: 0:17:54.103275\n"
     ]
    },
    {
     "name": "stderr",
     "output_type": "stream",
     "text": [
      "Epoch 8/1000 (Training): 100%|██████████| 179/179 [00:00<00:00, 244.76it/s]\n"
     ]
    },
    {
     "name": "stdout",
     "output_type": "stream",
     "text": [
      "Loss: 2.720739, Mean Absolute Error: 0.12780961634484805, Time remaining: 0:17:27.923008\n"
     ]
    },
    {
     "name": "stderr",
     "output_type": "stream",
     "text": [
      "Epoch 9/1000 (Training): 100%|██████████| 179/179 [00:00<00:00, 256.41it/s]\n"
     ]
    },
    {
     "name": "stdout",
     "output_type": "stream",
     "text": [
      "Loss: 2.648087, Mean Absolute Error: 0.12287973217149914, Time remaining: 0:17:04.528503\n"
     ]
    },
    {
     "name": "stderr",
     "output_type": "stream",
     "text": [
      "Epoch 10/1000 (Training): 100%|██████████| 179/179 [00:00<00:00, 244.89it/s]\n"
     ]
    },
    {
     "name": "stdout",
     "output_type": "stream",
     "text": [
      "Loss: 2.575892, Mean Absolute Error: 0.12109458162405551, Time remaining: 0:16:46.775550\n"
     ]
    },
    {
     "name": "stderr",
     "output_type": "stream",
     "text": [
      "Epoch 11/1000 (Training): 100%|██████████| 179/179 [00:00<00:00, 241.27it/s]\n"
     ]
    },
    {
     "name": "stdout",
     "output_type": "stream",
     "text": [
      "Loss: 2.531520, Mean Absolute Error: 0.12034110140082861, Time remaining: 0:16:32.885781\n"
     ]
    },
    {
     "name": "stderr",
     "output_type": "stream",
     "text": [
      "Epoch 12/1000 (Training): 100%|██████████| 179/179 [00:00<00:00, 244.62it/s]\n"
     ]
    },
    {
     "name": "stdout",
     "output_type": "stream",
     "text": [
      "Loss: 2.493015, Mean Absolute Error: 0.11831585149130244, Time remaining: 0:16:36.548176\n"
     ]
    },
    {
     "name": "stderr",
     "output_type": "stream",
     "text": [
      "Epoch 13/1000 (Training): 100%|██████████| 179/179 [00:01<00:00, 148.79it/s]\n"
     ]
    },
    {
     "name": "stdout",
     "output_type": "stream",
     "text": [
      "Loss: 2.469995, Mean Absolute Error: 0.11532355478744599, Time remaining: 0:17:00.788958\n"
     ]
    },
    {
     "name": "stderr",
     "output_type": "stream",
     "text": [
      "Epoch 14/1000 (Training): 100%|██████████| 179/179 [00:00<00:00, 217.67it/s]\n"
     ]
    },
    {
     "name": "stdout",
     "output_type": "stream",
     "text": [
      "Loss: 2.413649, Mean Absolute Error: 0.11442775678394537, Time remaining: 0:16:54.187768\n"
     ]
    },
    {
     "name": "stderr",
     "output_type": "stream",
     "text": [
      "Epoch 15/1000 (Training): 100%|██████████| 179/179 [00:00<00:00, 243.86it/s]\n"
     ]
    },
    {
     "name": "stdout",
     "output_type": "stream",
     "text": [
      "Loss: 2.433604, Mean Absolute Error: 0.11398026959678226, Time remaining: 0:16:42.612785\n"
     ]
    },
    {
     "name": "stderr",
     "output_type": "stream",
     "text": [
      "Epoch 16/1000 (Training): 100%|██████████| 179/179 [00:00<00:00, 256.82it/s]\n"
     ]
    },
    {
     "name": "stdout",
     "output_type": "stream",
     "text": [
      "Loss: 2.352370, Mean Absolute Error: 0.1126552294948916, Time remaining: 0:16:29.874480\n"
     ]
    },
    {
     "name": "stderr",
     "output_type": "stream",
     "text": [
      "Epoch 17/1000 (Training): 100%|██████████| 179/179 [00:00<00:00, 257.97it/s]\n"
     ]
    },
    {
     "name": "stdout",
     "output_type": "stream",
     "text": [
      "Loss: 2.324018, Mean Absolute Error: 0.11200234075341403, Time remaining: 0:16:18.390713\n"
     ]
    },
    {
     "name": "stderr",
     "output_type": "stream",
     "text": [
      "Epoch 18/1000 (Training): 100%|██████████| 179/179 [00:00<00:00, 254.58it/s]\n"
     ]
    },
    {
     "name": "stdout",
     "output_type": "stream",
     "text": [
      "Loss: 2.302980, Mean Absolute Error: 0.10844156080827408, Time remaining: 0:16:09.026798\n"
     ]
    },
    {
     "name": "stderr",
     "output_type": "stream",
     "text": [
      "Epoch 19/1000 (Training): 100%|██████████| 179/179 [00:00<00:00, 249.37it/s]\n"
     ]
    },
    {
     "name": "stdout",
     "output_type": "stream",
     "text": [
      "Loss: 2.262791, Mean Absolute Error: 0.10726677767903867, Time remaining: 0:16:00.949341\n"
     ]
    },
    {
     "name": "stderr",
     "output_type": "stream",
     "text": [
      "Epoch 20/1000 (Training): 100%|██████████| 179/179 [00:00<00:00, 237.07it/s]\n"
     ]
    },
    {
     "name": "stdout",
     "output_type": "stream",
     "text": [
      "Loss: 2.251014, Mean Absolute Error: 0.10714812922173059, Time remaining: 0:15:55.746960\n"
     ]
    },
    {
     "name": "stderr",
     "output_type": "stream",
     "text": [
      "Epoch 21/1000 (Training): 100%|██████████| 179/179 [00:00<00:00, 247.38it/s]\n"
     ]
    },
    {
     "name": "stdout",
     "output_type": "stream",
     "text": [
      "Loss: 2.259225, Mean Absolute Error: 0.10828145952000551, Time remaining: 0:15:49.552659\n"
     ]
    },
    {
     "name": "stderr",
     "output_type": "stream",
     "text": [
      "Epoch 22/1000 (Training): 100%|██████████| 179/179 [00:00<00:00, 249.46it/s]\n"
     ]
    },
    {
     "name": "stdout",
     "output_type": "stream",
     "text": [
      "Loss: 2.220835, Mean Absolute Error: 0.10764481766445134, Time remaining: 0:15:43.420854\n"
     ]
    },
    {
     "name": "stderr",
     "output_type": "stream",
     "text": [
      "Epoch 23/1000 (Training): 100%|██████████| 179/179 [00:00<00:00, 255.66it/s]\n"
     ]
    },
    {
     "name": "stdout",
     "output_type": "stream",
     "text": [
      "Loss: 2.229889, Mean Absolute Error: 0.10617769945759174, Time remaining: 0:15:37.056332\n"
     ]
    },
    {
     "name": "stderr",
     "output_type": "stream",
     "text": [
      "Epoch 24/1000 (Training): 100%|██████████| 179/179 [00:00<00:00, 256.13it/s]\n"
     ]
    },
    {
     "name": "stdout",
     "output_type": "stream",
     "text": [
      "Loss: 2.190748, Mean Absolute Error: 0.10462447518262806, Time remaining: 0:15:30.856096\n"
     ]
    },
    {
     "name": "stderr",
     "output_type": "stream",
     "text": [
      "Epoch 25/1000 (Training): 100%|██████████| 179/179 [00:00<00:00, 255.43it/s]\n"
     ]
    },
    {
     "name": "stdout",
     "output_type": "stream",
     "text": [
      "Loss: 2.167828, Mean Absolute Error: 0.10237052382419051, Time remaining: 0:15:25.358850\n"
     ]
    },
    {
     "name": "stderr",
     "output_type": "stream",
     "text": [
      "Epoch 26/1000 (Training): 100%|██████████| 179/179 [00:00<00:00, 250.05it/s]\n"
     ]
    },
    {
     "name": "stdout",
     "output_type": "stream",
     "text": [
      "Loss: 2.111627, Mean Absolute Error: 0.10219953180048438, Time remaining: 0:15:22.773444\n"
     ]
    },
    {
     "name": "stderr",
     "output_type": "stream",
     "text": [
      "Epoch 27/1000 (Training): 100%|██████████| 179/179 [00:00<00:00, 240.40it/s]\n"
     ]
    },
    {
     "name": "stdout",
     "output_type": "stream",
     "text": [
      "Loss: 2.142734, Mean Absolute Error: 0.10333823187206327, Time remaining: 0:15:20.050313\n"
     ]
    },
    {
     "name": "stderr",
     "output_type": "stream",
     "text": [
      "Epoch 28/1000 (Training): 100%|██████████| 179/179 [00:00<00:00, 238.87it/s]\n"
     ]
    },
    {
     "name": "stdout",
     "output_type": "stream",
     "text": [
      "Loss: 2.108702, Mean Absolute Error: 0.10222936450158293, Time remaining: 0:15:16.885656\n"
     ]
    },
    {
     "name": "stderr",
     "output_type": "stream",
     "text": [
      "Epoch 29/1000 (Training): 100%|██████████| 179/179 [00:00<00:00, 255.87it/s]\n"
     ]
    },
    {
     "name": "stdout",
     "output_type": "stream",
     "text": [
      "Loss: 2.122622, Mean Absolute Error: 0.10308520711489676, Time remaining: 0:15:12.691450\n"
     ]
    },
    {
     "name": "stderr",
     "output_type": "stream",
     "text": [
      "Epoch 30/1000 (Training): 100%|██████████| 179/179 [00:00<00:00, 255.99it/s]\n"
     ]
    },
    {
     "name": "stdout",
     "output_type": "stream",
     "text": [
      "Loss: 2.099026, Mean Absolute Error: 0.10022500763964903, Time remaining: 0:15:08.320610\n"
     ]
    },
    {
     "name": "stderr",
     "output_type": "stream",
     "text": [
      "Epoch 31/1000 (Training): 100%|██████████| 179/179 [00:00<00:00, 248.30it/s]\n"
     ]
    },
    {
     "name": "stdout",
     "output_type": "stream",
     "text": [
      "Loss: 2.107550, Mean Absolute Error: 0.10028567754124605, Time remaining: 0:15:04.738827\n"
     ]
    },
    {
     "name": "stderr",
     "output_type": "stream",
     "text": [
      "Epoch 32/1000 (Training): 100%|██████████| 179/179 [00:00<00:00, 234.49it/s]\n"
     ]
    },
    {
     "name": "stdout",
     "output_type": "stream",
     "text": [
      "Loss: 2.064222, Mean Absolute Error: 0.10002026020993679, Time remaining: 0:15:02.867152\n"
     ]
    },
    {
     "name": "stderr",
     "output_type": "stream",
     "text": [
      "Epoch 33/1000 (Training): 100%|██████████| 179/179 [00:00<00:00, 234.66it/s]\n"
     ]
    },
    {
     "name": "stdout",
     "output_type": "stream",
     "text": [
      "Loss: 2.050788, Mean Absolute Error: 0.0984339235801962, Time remaining: 0:15:00.747929\n"
     ]
    },
    {
     "name": "stderr",
     "output_type": "stream",
     "text": [
      "Epoch 34/1000 (Training): 100%|██████████| 179/179 [00:00<00:00, 252.52it/s]\n"
     ]
    },
    {
     "name": "stdout",
     "output_type": "stream",
     "text": [
      "Loss: 2.071441, Mean Absolute Error: 0.09802495210364709, Time remaining: 0:14:57.891204\n"
     ]
    },
    {
     "name": "stderr",
     "output_type": "stream",
     "text": [
      "Epoch 35/1000 (Training): 100%|██████████| 179/179 [00:00<00:00, 248.93it/s]\n"
     ]
    },
    {
     "name": "stdout",
     "output_type": "stream",
     "text": [
      "Loss: 2.034420, Mean Absolute Error: 0.09767413125446808, Time remaining: 0:14:54.724840\n"
     ]
    },
    {
     "name": "stderr",
     "output_type": "stream",
     "text": [
      "Epoch 36/1000 (Training): 100%|██████████| 179/179 [00:00<00:00, 258.50it/s]\n"
     ]
    },
    {
     "name": "stdout",
     "output_type": "stream",
     "text": [
      "Loss: 2.029009, Mean Absolute Error: 0.09559859311533743, Time remaining: 0:14:51.013632\n"
     ]
    },
    {
     "name": "stderr",
     "output_type": "stream",
     "text": [
      "Epoch 37/1000 (Training): 100%|██████████| 179/179 [00:00<00:00, 254.94it/s]\n"
     ]
    },
    {
     "name": "stdout",
     "output_type": "stream",
     "text": [
      "Loss: 2.013356, Mean Absolute Error: 0.09600325141196528, Time remaining: 0:14:47.969781\n"
     ]
    },
    {
     "name": "stderr",
     "output_type": "stream",
     "text": [
      "Epoch 38/1000 (Training): 100%|██████████| 179/179 [00:00<00:00, 255.85it/s]\n"
     ]
    },
    {
     "name": "stdout",
     "output_type": "stream",
     "text": [
      "Loss: 1.991659, Mean Absolute Error: 0.09750948225283504, Time remaining: 0:14:44.894738\n"
     ]
    },
    {
     "name": "stderr",
     "output_type": "stream",
     "text": [
      "Epoch 39/1000 (Training): 100%|██████████| 179/179 [00:00<00:00, 248.00it/s]\n"
     ]
    },
    {
     "name": "stdout",
     "output_type": "stream",
     "text": [
      "Loss: 1.974003, Mean Absolute Error: 0.09687719730333133, Time remaining: 0:14:42.660241\n"
     ]
    },
    {
     "name": "stderr",
     "output_type": "stream",
     "text": [
      "Epoch 40/1000 (Training): 100%|██████████| 179/179 [00:00<00:00, 237.11it/s]\n"
     ]
    },
    {
     "name": "stdout",
     "output_type": "stream",
     "text": [
      "Loss: 1.964993, Mean Absolute Error: 0.09536198707955457, Time remaining: 0:14:40.955520\n"
     ]
    },
    {
     "name": "stderr",
     "output_type": "stream",
     "text": [
      "Epoch 41/1000 (Training): 100%|██████████| 179/179 [00:00<00:00, 254.79it/s]\n"
     ]
    },
    {
     "name": "stdout",
     "output_type": "stream",
     "text": [
      "Loss: 1.976561, Mean Absolute Error: 0.09571179610416412, Time remaining: 0:14:38.136161\n"
     ]
    },
    {
     "name": "stderr",
     "output_type": "stream",
     "text": [
      "Epoch 42/1000 (Training): 100%|██████████| 179/179 [00:00<00:00, 251.17it/s]\n"
     ]
    },
    {
     "name": "stdout",
     "output_type": "stream",
     "text": [
      "Loss: 1.929869, Mean Absolute Error: 0.09595904382625918, Time remaining: 0:14:35.569848\n"
     ]
    },
    {
     "name": "stderr",
     "output_type": "stream",
     "text": [
      "Epoch 43/1000 (Training): 100%|██████████| 179/179 [00:00<00:00, 253.38it/s]\n"
     ]
    },
    {
     "name": "stdout",
     "output_type": "stream",
     "text": [
      "Loss: 1.945454, Mean Absolute Error: 0.09708928109740116, Time remaining: 0:14:32.991669\n"
     ]
    },
    {
     "name": "stderr",
     "output_type": "stream",
     "text": [
      "Epoch 44/1000 (Training): 100%|██████████| 179/179 [00:00<00:00, 214.65it/s]\n"
     ]
    },
    {
     "name": "stdout",
     "output_type": "stream",
     "text": [
      "Loss: 1.953937, Mean Absolute Error: 0.09388367063402095, Time remaining: 0:14:33.631040\n"
     ]
    },
    {
     "name": "stderr",
     "output_type": "stream",
     "text": [
      "Epoch 45/1000 (Training): 100%|██████████| 179/179 [00:00<00:00, 238.06it/s]\n"
     ]
    },
    {
     "name": "stdout",
     "output_type": "stream",
     "text": [
      "Loss: 1.931251, Mean Absolute Error: 0.09455702300195319, Time remaining: 0:14:32.173805\n"
     ]
    },
    {
     "name": "stderr",
     "output_type": "stream",
     "text": [
      "Epoch 46/1000 (Training): 100%|██████████| 179/179 [00:00<00:00, 240.59it/s]\n"
     ]
    },
    {
     "name": "stdout",
     "output_type": "stream",
     "text": [
      "Loss: 1.925583, Mean Absolute Error: 0.094750886127052, Time remaining: 0:14:30.470622\n"
     ]
    },
    {
     "name": "stderr",
     "output_type": "stream",
     "text": [
      "Epoch 47/1000 (Training): 100%|██████████| 179/179 [00:00<00:00, 256.02it/s]\n"
     ]
    },
    {
     "name": "stdout",
     "output_type": "stream",
     "text": [
      "Loss: 1.908914, Mean Absolute Error: 0.09437632296437222, Time remaining: 0:14:27.829437\n"
     ]
    },
    {
     "name": "stderr",
     "output_type": "stream",
     "text": [
      "Epoch 48/1000 (Training): 100%|██████████| 179/179 [00:00<00:00, 252.99it/s]\n"
     ]
    },
    {
     "name": "stdout",
     "output_type": "stream",
     "text": [
      "Loss: 1.905021, Mean Absolute Error: 0.09408275798750988, Time remaining: 0:14:25.778312\n"
     ]
    },
    {
     "name": "stderr",
     "output_type": "stream",
     "text": [
      "Epoch 49/1000 (Training): 100%|██████████| 179/179 [00:00<00:00, 249.25it/s]\n"
     ]
    },
    {
     "name": "stdout",
     "output_type": "stream",
     "text": [
      "Loss: 1.888293, Mean Absolute Error: 0.09271469498945216, Time remaining: 0:14:23.620218\n"
     ]
    },
    {
     "name": "stderr",
     "output_type": "stream",
     "text": [
      "Epoch 50/1000 (Training): 100%|██████████| 179/179 [00:00<00:00, 255.13it/s]\n"
     ]
    },
    {
     "name": "stdout",
     "output_type": "stream",
     "text": [
      "Loss: 1.901177, Mean Absolute Error: 0.09357008763668319, Time remaining: 0:14:21.332700\n"
     ]
    },
    {
     "name": "stderr",
     "output_type": "stream",
     "text": [
      "Epoch 51/1000 (Training): 100%|██████████| 179/179 [00:00<00:00, 249.70it/s]\n"
     ]
    },
    {
     "name": "stdout",
     "output_type": "stream",
     "text": [
      "Loss: 1.889971, Mean Absolute Error: 0.0923091188463431, Time remaining: 0:14:19.374542\n"
     ]
    },
    {
     "name": "stderr",
     "output_type": "stream",
     "text": [
      "Epoch 52/1000 (Training): 100%|██████████| 179/179 [00:00<00:00, 237.31it/s]\n"
     ]
    },
    {
     "name": "stdout",
     "output_type": "stream",
     "text": [
      "Loss: 1.847510, Mean Absolute Error: 0.09088278499462159, Time remaining: 0:14:18.645312\n"
     ]
    },
    {
     "name": "stderr",
     "output_type": "stream",
     "text": [
      "Epoch 53/1000 (Training): 100%|██████████| 179/179 [00:00<00:00, 251.93it/s]\n"
     ]
    },
    {
     "name": "stdout",
     "output_type": "stream",
     "text": [
      "Loss: 1.856876, Mean Absolute Error: 0.09100196801147657, Time remaining: 0:14:16.644836\n"
     ]
    },
    {
     "name": "stderr",
     "output_type": "stream",
     "text": [
      "Epoch 54/1000 (Training): 100%|██████████| 179/179 [00:00<00:00, 255.49it/s]\n"
     ]
    },
    {
     "name": "stdout",
     "output_type": "stream",
     "text": [
      "Loss: 1.838302, Mean Absolute Error: 0.09096876151048273, Time remaining: 0:14:14.499096\n"
     ]
    },
    {
     "name": "stderr",
     "output_type": "stream",
     "text": [
      "Epoch 55/1000 (Training): 100%|██████████| 179/179 [00:00<00:00, 253.82it/s]\n"
     ]
    },
    {
     "name": "stdout",
     "output_type": "stream",
     "text": [
      "Loss: 1.837862, Mean Absolute Error: 0.08969031248343444, Time remaining: 0:14:12.852105\n"
     ]
    },
    {
     "name": "stderr",
     "output_type": "stream",
     "text": [
      "Epoch 56/1000 (Training): 100%|██████████| 179/179 [00:00<00:00, 251.11it/s]\n"
     ]
    },
    {
     "name": "stdout",
     "output_type": "stream",
     "text": [
      "Loss: 1.823475, Mean Absolute Error: 0.09077986394691229, Time remaining: 0:14:10.954640\n"
     ]
    },
    {
     "name": "stderr",
     "output_type": "stream",
     "text": [
      "Epoch 57/1000 (Training): 100%|██████████| 179/179 [00:00<00:00, 255.64it/s]\n"
     ]
    },
    {
     "name": "stdout",
     "output_type": "stream",
     "text": [
      "Loss: 1.834167, Mean Absolute Error: 0.09354923294310388, Time remaining: 0:14:08.927263\n"
     ]
    },
    {
     "name": "stderr",
     "output_type": "stream",
     "text": [
      "Epoch 58/1000 (Training): 100%|██████████| 179/179 [00:00<00:00, 255.64it/s]\n"
     ]
    },
    {
     "name": "stdout",
     "output_type": "stream",
     "text": [
      "Loss: 1.877841, Mean Absolute Error: 0.09026989646178904, Time remaining: 0:14:06.996474\n"
     ]
    },
    {
     "name": "stderr",
     "output_type": "stream",
     "text": [
      "Epoch 59/1000 (Training): 100%|██████████| 179/179 [00:00<00:00, 242.70it/s]\n"
     ]
    },
    {
     "name": "stdout",
     "output_type": "stream",
     "text": [
      "Loss: 1.821193, Mean Absolute Error: 0.0926863514905046, Time remaining: 0:14:05.657880\n"
     ]
    },
    {
     "name": "stderr",
     "output_type": "stream",
     "text": [
      "Epoch 60/1000 (Training): 100%|██████████| 179/179 [00:00<00:00, 250.75it/s]\n"
     ]
    },
    {
     "name": "stdout",
     "output_type": "stream",
     "text": [
      "Loss: 1.829784, Mean Absolute Error: 0.0920282598152972, Time remaining: 0:14:03.900040\n"
     ]
    },
    {
     "name": "stderr",
     "output_type": "stream",
     "text": [
      "Epoch 61/1000 (Training): 100%|██████████| 179/179 [00:00<00:00, 251.96it/s]\n"
     ]
    },
    {
     "name": "stdout",
     "output_type": "stream",
     "text": [
      "Loss: 1.793255, Mean Absolute Error: 0.08940515207932823, Time remaining: 0:14:02.124309\n"
     ]
    },
    {
     "name": "stderr",
     "output_type": "stream",
     "text": [
      "Epoch 62/1000 (Training): 100%|██████████| 179/179 [00:00<00:00, 248.17it/s]\n"
     ]
    },
    {
     "name": "stdout",
     "output_type": "stream",
     "text": [
      "Loss: 1.805335, Mean Absolute Error: 0.09098316716479873, Time remaining: 0:14:00.582134\n"
     ]
    },
    {
     "name": "stderr",
     "output_type": "stream",
     "text": [
      "Epoch 63/1000 (Training): 100%|██████████| 179/179 [00:00<00:00, 250.53it/s]\n"
     ]
    },
    {
     "name": "stdout",
     "output_type": "stream",
     "text": [
      "Loss: 1.802237, Mean Absolute Error: 0.08959670113338984, Time remaining: 0:13:59.042272\n"
     ]
    },
    {
     "name": "stderr",
     "output_type": "stream",
     "text": [
      "Epoch 64/1000 (Training): 100%|██████████| 179/179 [00:00<00:00, 256.19it/s]\n"
     ]
    },
    {
     "name": "stdout",
     "output_type": "stream",
     "text": [
      "Loss: 1.795640, Mean Absolute Error: 0.08847984596169374, Time remaining: 0:13:57.275400\n"
     ]
    },
    {
     "name": "stderr",
     "output_type": "stream",
     "text": [
      "Epoch 65/1000 (Training): 100%|██████████| 179/179 [00:00<00:00, 255.20it/s]\n"
     ]
    },
    {
     "name": "stdout",
     "output_type": "stream",
     "text": [
      "Loss: 1.793623, Mean Absolute Error: 0.08947773713563348, Time remaining: 0:13:55.477665\n"
     ]
    },
    {
     "name": "stderr",
     "output_type": "stream",
     "text": [
      "Epoch 66/1000 (Training): 100%|██████████| 179/179 [00:00<00:00, 247.24it/s]\n"
     ]
    },
    {
     "name": "stdout",
     "output_type": "stream",
     "text": [
      "Loss: 1.785239, Mean Absolute Error: 0.08831787301143358, Time remaining: 0:13:54.103096\n"
     ]
    },
    {
     "name": "stderr",
     "output_type": "stream",
     "text": [
      "Epoch 67/1000 (Training): 100%|██████████| 179/179 [00:00<00:00, 245.95it/s]\n"
     ]
    },
    {
     "name": "stdout",
     "output_type": "stream",
     "text": [
      "Loss: 1.760667, Mean Absolute Error: 0.08830554660701775, Time remaining: 0:13:52.732356\n"
     ]
    },
    {
     "name": "stderr",
     "output_type": "stream",
     "text": [
      "Epoch 68/1000 (Training): 100%|██████████| 179/179 [00:00<00:00, 245.94it/s]\n"
     ]
    },
    {
     "name": "stdout",
     "output_type": "stream",
     "text": [
      "Loss: 1.752108, Mean Absolute Error: 0.08888325007302997, Time remaining: 0:13:51.475412\n"
     ]
    },
    {
     "name": "stderr",
     "output_type": "stream",
     "text": [
      "Epoch 69/1000 (Training): 100%|██████████| 179/179 [00:00<00:00, 254.45it/s]\n"
     ]
    },
    {
     "name": "stdout",
     "output_type": "stream",
     "text": [
      "Loss: 1.735634, Mean Absolute Error: 0.08819029652579619, Time remaining: 0:13:49.779818\n"
     ]
    },
    {
     "name": "stderr",
     "output_type": "stream",
     "text": [
      "Epoch 70/1000 (Training): 100%|██████████| 179/179 [00:00<00:00, 231.43it/s]\n"
     ]
    },
    {
     "name": "stdout",
     "output_type": "stream",
     "text": [
      "Loss: 1.782549, Mean Absolute Error: 0.08930491565271094, Time remaining: 0:13:49.200090\n"
     ]
    },
    {
     "name": "stderr",
     "output_type": "stream",
     "text": [
      "Epoch 71/1000 (Training): 100%|██████████| 179/179 [00:00<00:00, 248.24it/s]\n"
     ]
    },
    {
     "name": "stdout",
     "output_type": "stream",
     "text": [
      "Loss: 1.743415, Mean Absolute Error: 0.08782280591285571, Time remaining: 0:13:48.035351\n"
     ]
    },
    {
     "name": "stderr",
     "output_type": "stream",
     "text": [
      "Epoch 72/1000 (Training): 100%|██████████| 179/179 [00:00<00:00, 244.58it/s]\n"
     ]
    },
    {
     "name": "stdout",
     "output_type": "stream",
     "text": [
      "Loss: 1.745326, Mean Absolute Error: 0.08773803214660737, Time remaining: 0:13:47.063296\n"
     ]
    },
    {
     "name": "stderr",
     "output_type": "stream",
     "text": [
      "Epoch 73/1000 (Training): 100%|██████████| 179/179 [00:00<00:00, 240.17it/s]\n"
     ]
    },
    {
     "name": "stdout",
     "output_type": "stream",
     "text": [
      "Loss: 1.731715, Mean Absolute Error: 0.08677281538745729, Time remaining: 0:13:46.142400\n"
     ]
    },
    {
     "name": "stderr",
     "output_type": "stream",
     "text": [
      "Epoch 74/1000 (Training): 100%|██████████| 179/179 [00:00<00:00, 251.23it/s]\n"
     ]
    },
    {
     "name": "stdout",
     "output_type": "stream",
     "text": [
      "Loss: 1.719536, Mean Absolute Error: 0.08786222738943358, Time remaining: 0:13:44.803016\n"
     ]
    },
    {
     "name": "stderr",
     "output_type": "stream",
     "text": [
      "Epoch 75/1000 (Training): 100%|██████████| 179/179 [00:00<00:00, 240.96it/s]\n"
     ]
    },
    {
     "name": "stdout",
     "output_type": "stream",
     "text": [
      "Loss: 1.735072, Mean Absolute Error: 0.08668067455331191, Time remaining: 0:13:43.819800\n"
     ]
    },
    {
     "name": "stderr",
     "output_type": "stream",
     "text": [
      "Epoch 76/1000 (Training): 100%|██████████| 179/179 [00:00<00:00, 249.40it/s]\n"
     ]
    },
    {
     "name": "stdout",
     "output_type": "stream",
     "text": [
      "Loss: 1.685577, Mean Absolute Error: 0.08626774185905377, Time remaining: 0:13:42.499524\n"
     ]
    },
    {
     "name": "stderr",
     "output_type": "stream",
     "text": [
      "Epoch 77/1000 (Training): 100%|██████████| 179/179 [00:00<00:00, 248.55it/s]\n"
     ]
    },
    {
     "name": "stdout",
     "output_type": "stream",
     "text": [
      "Loss: 1.735259, Mean Absolute Error: 0.08778751273213925, Time remaining: 0:13:41.240173\n"
     ]
    },
    {
     "name": "stderr",
     "output_type": "stream",
     "text": [
      "Epoch 78/1000 (Training): 100%|██████████| 179/179 [00:00<00:00, 238.32it/s]\n"
     ]
    },
    {
     "name": "stdout",
     "output_type": "stream",
     "text": [
      "Loss: 1.766454, Mean Absolute Error: 0.08771530415422005, Time remaining: 0:13:40.343046\n"
     ]
    },
    {
     "name": "stderr",
     "output_type": "stream",
     "text": [
      "Epoch 79/1000 (Training): 100%|██████████| 179/179 [00:00<00:00, 252.83it/s]\n"
     ]
    },
    {
     "name": "stdout",
     "output_type": "stream",
     "text": [
      "Loss: 1.750736, Mean Absolute Error: 0.08754136292329331, Time remaining: 0:13:38.857416\n"
     ]
    },
    {
     "name": "stderr",
     "output_type": "stream",
     "text": [
      "Epoch 80/1000 (Training): 100%|██████████| 179/179 [00:00<00:00, 246.63it/s]\n"
     ]
    },
    {
     "name": "stdout",
     "output_type": "stream",
     "text": [
      "Loss: 1.661004, Mean Absolute Error: 0.08673546570201517, Time remaining: 0:13:37.641720\n"
     ]
    },
    {
     "name": "stderr",
     "output_type": "stream",
     "text": [
      "Epoch 81/1000 (Training): 100%|██████████| 179/179 [00:00<00:00, 250.85it/s]\n"
     ]
    },
    {
     "name": "stdout",
     "output_type": "stream",
     "text": [
      "Loss: 1.712166, Mean Absolute Error: 0.08649354407135895, Time remaining: 0:13:36.326563\n"
     ]
    },
    {
     "name": "stderr",
     "output_type": "stream",
     "text": [
      "Epoch 82/1000 (Training): 100%|██████████| 179/179 [00:00<00:00, 250.67it/s]\n"
     ]
    },
    {
     "name": "stdout",
     "output_type": "stream",
     "text": [
      "Loss: 1.674325, Mean Absolute Error: 0.08657980958705695, Time remaining: 0:13:34.939812\n"
     ]
    },
    {
     "name": "stderr",
     "output_type": "stream",
     "text": [
      "Epoch 83/1000 (Training): 100%|██████████| 179/179 [00:00<00:00, 249.97it/s]\n"
     ]
    },
    {
     "name": "stdout",
     "output_type": "stream",
     "text": [
      "Loss: 1.702312, Mean Absolute Error: 0.08633197388589374, Time remaining: 0:13:33.569736\n"
     ]
    },
    {
     "name": "stderr",
     "output_type": "stream",
     "text": [
      "Epoch 84/1000 (Training): 100%|██████████| 179/179 [00:00<00:00, 248.36it/s]\n"
     ]
    },
    {
     "name": "stdout",
     "output_type": "stream",
     "text": [
      "Loss: 1.684660, Mean Absolute Error: 0.08651612445767225, Time remaining: 0:13:32.491084\n"
     ]
    },
    {
     "name": "stderr",
     "output_type": "stream",
     "text": [
      "Epoch 85/1000 (Training): 100%|██████████| 179/179 [00:00<00:00, 238.12it/s]\n"
     ]
    },
    {
     "name": "stdout",
     "output_type": "stream",
     "text": [
      "Loss: 1.671321, Mean Absolute Error: 0.0854130143840667, Time remaining: 0:13:31.592190\n"
     ]
    },
    {
     "name": "stderr",
     "output_type": "stream",
     "text": [
      "Epoch 86/1000 (Training): 100%|██████████| 179/179 [00:00<00:00, 247.87it/s]\n"
     ]
    },
    {
     "name": "stdout",
     "output_type": "stream",
     "text": [
      "Loss: 1.671856, Mean Absolute Error: 0.0861996814554609, Time remaining: 0:13:30.425520\n"
     ]
    },
    {
     "name": "stderr",
     "output_type": "stream",
     "text": [
      "Epoch 87/1000 (Training): 100%|██████████| 179/179 [00:00<00:00, 246.69it/s]\n"
     ]
    },
    {
     "name": "stdout",
     "output_type": "stream",
     "text": [
      "Loss: 1.660484, Mean Absolute Error: 0.08559883256463857, Time remaining: 0:13:29.275896\n"
     ]
    },
    {
     "name": "stderr",
     "output_type": "stream",
     "text": [
      "Epoch 88/1000 (Training): 100%|██████████| 179/179 [00:00<00:00, 252.37it/s]\n"
     ]
    },
    {
     "name": "stdout",
     "output_type": "stream",
     "text": [
      "Loss: 1.634775, Mean Absolute Error: 0.08566793299307993, Time remaining: 0:13:27.932592\n"
     ]
    },
    {
     "name": "stderr",
     "output_type": "stream",
     "text": [
      "Epoch 89/1000 (Training): 100%|██████████| 179/179 [00:00<00:00, 257.18it/s]\n"
     ]
    },
    {
     "name": "stdout",
     "output_type": "stream",
     "text": [
      "Loss: 1.659695, Mean Absolute Error: 0.08582573460298562, Time remaining: 0:13:26.469127\n"
     ]
    },
    {
     "name": "stderr",
     "output_type": "stream",
     "text": [
      "Epoch 90/1000 (Training): 100%|██████████| 179/179 [00:00<00:00, 245.27it/s]\n"
     ]
    },
    {
     "name": "stdout",
     "output_type": "stream",
     "text": [
      "Loss: 1.653793, Mean Absolute Error: 0.08575430084497916, Time remaining: 0:13:25.351820\n"
     ]
    },
    {
     "name": "stderr",
     "output_type": "stream",
     "text": [
      "Epoch 91/1000 (Training): 100%|██████████| 179/179 [00:00<00:00, 253.65it/s]\n"
     ]
    },
    {
     "name": "stdout",
     "output_type": "stream",
     "text": [
      "Loss: 1.661338, Mean Absolute Error: 0.08477745921710554, Time remaining: 0:13:24.002319\n"
     ]
    },
    {
     "name": "stderr",
     "output_type": "stream",
     "text": [
      "Epoch 92/1000 (Training): 100%|██████████| 179/179 [00:00<00:00, 250.51it/s]\n"
     ]
    },
    {
     "name": "stdout",
     "output_type": "stream",
     "text": [
      "Loss: 1.661095, Mean Absolute Error: 0.08564119712559455, Time remaining: 0:13:22.782776\n"
     ]
    },
    {
     "name": "stderr",
     "output_type": "stream",
     "text": [
      "Epoch 93/1000 (Training): 100%|██████████| 179/179 [00:00<00:00, 252.64it/s]\n"
     ]
    },
    {
     "name": "stdout",
     "output_type": "stream",
     "text": [
      "Loss: 1.687644, Mean Absolute Error: 0.08492493513639361, Time remaining: 0:13:21.446968\n"
     ]
    },
    {
     "name": "stderr",
     "output_type": "stream",
     "text": [
      "Epoch 94/1000 (Training): 100%|██████████| 179/179 [00:00<00:00, 253.54it/s]\n"
     ]
    },
    {
     "name": "stdout",
     "output_type": "stream",
     "text": [
      "Loss: 1.654280, Mean Absolute Error: 0.08513454475260719, Time remaining: 0:13:20.112156\n"
     ]
    },
    {
     "name": "stderr",
     "output_type": "stream",
     "text": [
      "Epoch 95/1000 (Training): 100%|██████████| 179/179 [00:00<00:00, 246.12it/s]\n"
     ]
    },
    {
     "name": "stdout",
     "output_type": "stream",
     "text": [
      "Loss: 1.656599, Mean Absolute Error: 0.08546077013752972, Time remaining: 0:13:18.994635\n"
     ]
    },
    {
     "name": "stderr",
     "output_type": "stream",
     "text": [
      "Epoch 96/1000 (Training): 100%|██████████| 179/179 [00:00<00:00, 254.75it/s]\n"
     ]
    },
    {
     "name": "stdout",
     "output_type": "stream",
     "text": [
      "Loss: 1.617614, Mean Absolute Error: 0.08535098733749975, Time remaining: 0:13:17.687792\n"
     ]
    },
    {
     "name": "stderr",
     "output_type": "stream",
     "text": [
      "Epoch 97/1000 (Training): 100%|██████████| 179/179 [00:00<00:00, 249.91it/s]\n"
     ]
    },
    {
     "name": "stdout",
     "output_type": "stream",
     "text": [
      "Loss: 1.616292, Mean Absolute Error: 0.08452565942175035, Time remaining: 0:13:16.498374\n"
     ]
    },
    {
     "name": "stderr",
     "output_type": "stream",
     "text": [
      "Epoch 98/1000 (Training): 100%|██████████| 179/179 [00:00<00:00, 254.18it/s]\n"
     ]
    },
    {
     "name": "stdout",
     "output_type": "stream",
     "text": [
      "Loss: 1.647185, Mean Absolute Error: 0.08540448767232274, Time remaining: 0:13:15.178846\n"
     ]
    },
    {
     "name": "stderr",
     "output_type": "stream",
     "text": [
      "Epoch 99/1000 (Training): 100%|██████████| 179/179 [00:00<00:00, 247.00it/s]\n"
     ]
    },
    {
     "name": "stdout",
     "output_type": "stream",
     "text": [
      "Loss: 1.628033, Mean Absolute Error: 0.08412060582993551, Time remaining: 0:13:14.072023\n"
     ]
    },
    {
     "name": "stderr",
     "output_type": "stream",
     "text": [
      "Epoch 100/1000 (Training): 100%|██████████| 179/179 [00:00<00:00, 243.96it/s]\n"
     ]
    },
    {
     "name": "stdout",
     "output_type": "stream",
     "text": [
      "Loss: 1.647260, Mean Absolute Error: 0.08598147086918295, Time remaining: 0:13:13.053000\n"
     ]
    },
    {
     "name": "stderr",
     "output_type": "stream",
     "text": [
      "Epoch 101/1000 (Training): 100%|██████████| 179/179 [00:00<00:00, 259.50it/s]\n"
     ]
    },
    {
     "name": "stdout",
     "output_type": "stream",
     "text": [
      "Loss: 1.635504, Mean Absolute Error: 0.08547160722502468, Time remaining: 0:13:11.632430\n"
     ]
    },
    {
     "name": "stderr",
     "output_type": "stream",
     "text": [
      "Epoch 102/1000 (Training): 100%|██████████| 179/179 [00:00<00:00, 253.07it/s]\n"
     ]
    },
    {
     "name": "stdout",
     "output_type": "stream",
     "text": [
      "Loss: 1.622717, Mean Absolute Error: 0.0848215042035393, Time remaining: 0:13:10.354046\n"
     ]
    },
    {
     "name": "stderr",
     "output_type": "stream",
     "text": [
      "Epoch 103/1000 (Training): 100%|██████████| 179/179 [00:00<00:00, 258.57it/s]\n"
     ]
    },
    {
     "name": "stdout",
     "output_type": "stream",
     "text": [
      "Loss: 1.611149, Mean Absolute Error: 0.08383248771245921, Time remaining: 0:13:08.968011\n"
     ]
    },
    {
     "name": "stderr",
     "output_type": "stream",
     "text": [
      "Epoch 104/1000 (Training): 100%|██████████| 179/179 [00:00<00:00, 248.12it/s]\n"
     ]
    },
    {
     "name": "stdout",
     "output_type": "stream",
     "text": [
      "Loss: 1.612269, Mean Absolute Error: 0.0851961412383023, Time remaining: 0:13:07.862656\n"
     ]
    },
    {
     "name": "stderr",
     "output_type": "stream",
     "text": [
      "Epoch 105/1000 (Training): 100%|██████████| 179/179 [00:00<00:00, 251.61it/s]\n"
     ]
    },
    {
     "name": "stdout",
     "output_type": "stream",
     "text": [
      "Loss: 1.616144, Mean Absolute Error: 0.0852262960670821, Time remaining: 0:13:06.705000\n"
     ]
    },
    {
     "name": "stderr",
     "output_type": "stream",
     "text": [
      "Epoch 106/1000 (Training): 100%|██████████| 179/179 [00:00<00:00, 256.72it/s]\n"
     ]
    },
    {
     "name": "stdout",
     "output_type": "stream",
     "text": [
      "Loss: 1.617057, Mean Absolute Error: 0.08396404434381843, Time remaining: 0:13:05.405820\n"
     ]
    },
    {
     "name": "stderr",
     "output_type": "stream",
     "text": [
      "Epoch 107/1000 (Training): 100%|██████████| 179/179 [00:00<00:00, 247.97it/s]\n"
     ]
    },
    {
     "name": "stdout",
     "output_type": "stream",
     "text": [
      "Loss: 1.606569, Mean Absolute Error: 0.08340694218345465, Time remaining: 0:13:04.345118\n"
     ]
    },
    {
     "name": "stderr",
     "output_type": "stream",
     "text": [
      "Epoch 108/1000 (Training): 100%|██████████| 179/179 [00:00<00:00, 244.01it/s]\n"
     ]
    },
    {
     "name": "stdout",
     "output_type": "stream",
     "text": [
      "Loss: 1.614309, Mean Absolute Error: 0.08364205541100742, Time remaining: 0:13:03.431112\n"
     ]
    },
    {
     "name": "stderr",
     "output_type": "stream",
     "text": [
      "Epoch 109/1000 (Training): 100%|██████████| 179/179 [00:00<00:00, 224.73it/s]\n"
     ]
    },
    {
     "name": "stdout",
     "output_type": "stream",
     "text": [
      "Loss: 1.621798, Mean Absolute Error: 0.08395973763146208, Time remaining: 0:13:02.998326\n"
     ]
    },
    {
     "name": "stderr",
     "output_type": "stream",
     "text": [
      "Epoch 110/1000 (Training): 100%|██████████| 179/179 [00:00<00:00, 220.15it/s]\n"
     ]
    },
    {
     "name": "stdout",
     "output_type": "stream",
     "text": [
      "Loss: 1.578937, Mean Absolute Error: 0.0835397052695634, Time remaining: 0:13:02.674900\n"
     ]
    },
    {
     "name": "stderr",
     "output_type": "stream",
     "text": [
      "Epoch 111/1000 (Training): 100%|██████████| 179/179 [00:00<00:00, 230.99it/s]\n"
     ]
    },
    {
     "name": "stdout",
     "output_type": "stream",
     "text": [
      "Loss: 1.581818, Mean Absolute Error: 0.0844535912464733, Time remaining: 0:13:02.189317\n"
     ]
    },
    {
     "name": "stderr",
     "output_type": "stream",
     "text": [
      "Epoch 112/1000 (Training): 100%|██████████| 179/179 [00:00<00:00, 211.30it/s]\n"
     ]
    },
    {
     "name": "stdout",
     "output_type": "stream",
     "text": [
      "Loss: 1.600906, Mean Absolute Error: 0.08330352990546463, Time remaining: 0:13:02.305800\n"
     ]
    },
    {
     "name": "stderr",
     "output_type": "stream",
     "text": [
      "Epoch 113/1000 (Training): 100%|██████████| 179/179 [00:00<00:00, 243.84it/s]\n"
     ]
    },
    {
     "name": "stdout",
     "output_type": "stream",
     "text": [
      "Loss: 1.589488, Mean Absolute Error: 0.08338325898772696, Time remaining: 0:13:01.306854\n"
     ]
    },
    {
     "name": "stderr",
     "output_type": "stream",
     "text": [
      "Epoch 114/1000 (Training): 100%|██████████| 179/179 [00:00<00:00, 239.95it/s]\n"
     ]
    },
    {
     "name": "stdout",
     "output_type": "stream",
     "text": [
      "Loss: 1.592699, Mean Absolute Error: 0.08307712926285936, Time remaining: 0:13:00.446390\n"
     ]
    },
    {
     "name": "stderr",
     "output_type": "stream",
     "text": [
      "Epoch 115/1000 (Training): 100%|██████████| 179/179 [00:00<00:00, 239.45it/s]\n"
     ]
    },
    {
     "name": "stdout",
     "output_type": "stream",
     "text": [
      "Loss: 1.553699, Mean Absolute Error: 0.08265748849169127, Time remaining: 0:12:59.575260\n"
     ]
    },
    {
     "name": "stderr",
     "output_type": "stream",
     "text": [
      "Epoch 116/1000 (Training): 100%|██████████| 179/179 [00:00<00:00, 248.42it/s]\n"
     ]
    },
    {
     "name": "stdout",
     "output_type": "stream",
     "text": [
      "Loss: 1.574944, Mean Absolute Error: 0.0849119055761524, Time remaining: 0:12:58.580348\n"
     ]
    },
    {
     "name": "stderr",
     "output_type": "stream",
     "text": [
      "Epoch 117/1000 (Training): 100%|██████████| 179/179 [00:00<00:00, 243.30it/s]\n"
     ]
    },
    {
     "name": "stdout",
     "output_type": "stream",
     "text": [
      "Loss: 1.582301, Mean Absolute Error: 0.08295001590264064, Time remaining: 0:12:57.604237\n"
     ]
    },
    {
     "name": "stderr",
     "output_type": "stream",
     "text": [
      "Epoch 118/1000 (Training): 100%|██████████| 179/179 [00:00<00:00, 241.63it/s]\n"
     ]
    },
    {
     "name": "stdout",
     "output_type": "stream",
     "text": [
      "Loss: 1.538606, Mean Absolute Error: 0.08319705755420645, Time remaining: 0:12:56.787102\n"
     ]
    },
    {
     "name": "stderr",
     "output_type": "stream",
     "text": [
      "Epoch 119/1000 (Training): 100%|██████████| 179/179 [00:00<00:00, 232.15it/s]\n"
     ]
    },
    {
     "name": "stdout",
     "output_type": "stream",
     "text": [
      "Loss: 1.553160, Mean Absolute Error: 0.08301625902133829, Time remaining: 0:12:56.163643\n"
     ]
    },
    {
     "name": "stderr",
     "output_type": "stream",
     "text": [
      "Epoch 120/1000 (Training): 100%|██████████| 179/179 [00:00<00:00, 194.20it/s]\n"
     ]
    },
    {
     "name": "stdout",
     "output_type": "stream",
     "text": [
      "Loss: 1.569137, Mean Absolute Error: 0.0832617707497417, Time remaining: 0:12:56.586800\n"
     ]
    },
    {
     "name": "stderr",
     "output_type": "stream",
     "text": [
      "Epoch 121/1000 (Training): 100%|██████████| 179/179 [00:00<00:00, 217.39it/s]\n"
     ]
    },
    {
     "name": "stdout",
     "output_type": "stream",
     "text": [
      "Loss: 1.563261, Mean Absolute Error: 0.08248705770646599, Time remaining: 0:12:56.300277\n"
     ]
    },
    {
     "name": "stderr",
     "output_type": "stream",
     "text": [
      "Epoch 122/1000 (Training): 100%|██████████| 179/179 [00:00<00:00, 210.92it/s]\n"
     ]
    },
    {
     "name": "stdout",
     "output_type": "stream",
     "text": [
      "Loss: 1.546993, Mean Absolute Error: 0.08226253079070472, Time remaining: 0:12:56.150244\n"
     ]
    },
    {
     "name": "stderr",
     "output_type": "stream",
     "text": [
      "Epoch 123/1000 (Training): 100%|██████████| 179/179 [00:00<00:00, 214.57it/s]\n"
     ]
    },
    {
     "name": "stdout",
     "output_type": "stream",
     "text": [
      "Loss: 1.542534, Mean Absolute Error: 0.08353245433988625, Time remaining: 0:12:55.923119\n"
     ]
    },
    {
     "name": "stderr",
     "output_type": "stream",
     "text": [
      "Epoch 124/1000 (Training): 100%|██████████| 179/179 [00:00<00:00, 229.34it/s]\n"
     ]
    },
    {
     "name": "stdout",
     "output_type": "stream",
     "text": [
      "Loss: 1.551837, Mean Absolute Error: 0.08248351164699921, Time remaining: 0:12:55.314312\n"
     ]
    },
    {
     "name": "stderr",
     "output_type": "stream",
     "text": [
      "Epoch 125/1000 (Training): 100%|██████████| 179/179 [00:00<00:00, 248.91it/s]\n"
     ]
    },
    {
     "name": "stdout",
     "output_type": "stream",
     "text": [
      "Loss: 1.534654, Mean Absolute Error: 0.0820073518676563, Time remaining: 0:12:54.202625\n"
     ]
    },
    {
     "name": "stderr",
     "output_type": "stream",
     "text": [
      "Epoch 126/1000 (Training): 100%|██████████| 179/179 [00:00<00:00, 245.19it/s]\n"
     ]
    },
    {
     "name": "stdout",
     "output_type": "stream",
     "text": [
      "Loss: 1.557713, Mean Absolute Error: 0.08365262067136447, Time remaining: 0:12:53.136030\n"
     ]
    },
    {
     "name": "stderr",
     "output_type": "stream",
     "text": [
      "Epoch 127/1000 (Training): 100%|██████████| 179/179 [00:00<00:00, 263.07it/s]\n"
     ]
    },
    {
     "name": "stdout",
     "output_type": "stream",
     "text": [
      "Loss: 1.568031, Mean Absolute Error: 0.08186835971002421, Time remaining: 0:12:51.744222\n"
     ]
    },
    {
     "name": "stderr",
     "output_type": "stream",
     "text": [
      "Epoch 128/1000 (Training): 100%|██████████| 179/179 [00:00<00:00, 251.47it/s]\n"
     ]
    },
    {
     "name": "stdout",
     "output_type": "stream",
     "text": [
      "Loss: 1.523013, Mean Absolute Error: 0.0825184764178578, Time remaining: 0:12:50.549776\n"
     ]
    },
    {
     "name": "stderr",
     "output_type": "stream",
     "text": [
      "Epoch 129/1000 (Training): 100%|██████████| 179/179 [00:00<00:00, 257.41it/s]\n"
     ]
    },
    {
     "name": "stdout",
     "output_type": "stream",
     "text": [
      "Loss: 1.511961, Mean Absolute Error: 0.08241799039377129, Time remaining: 0:12:49.245425\n"
     ]
    },
    {
     "name": "stderr",
     "output_type": "stream",
     "text": [
      "Epoch 130/1000 (Training): 100%|██████████| 179/179 [00:00<00:00, 257.82it/s]\n"
     ]
    },
    {
     "name": "stdout",
     "output_type": "stream",
     "text": [
      "Loss: 1.532692, Mean Absolute Error: 0.0822216498434052, Time remaining: 0:12:47.971620\n"
     ]
    },
    {
     "name": "stderr",
     "output_type": "stream",
     "text": [
      "Epoch 131/1000 (Training): 100%|██████████| 179/179 [00:00<00:00, 263.35it/s]\n"
     ]
    },
    {
     "name": "stdout",
     "output_type": "stream",
     "text": [
      "Loss: 1.530759, Mean Absolute Error: 0.08190354256194782, Time remaining: 0:12:46.597909\n"
     ]
    },
    {
     "name": "stderr",
     "output_type": "stream",
     "text": [
      "Epoch 132/1000 (Training): 100%|██████████| 179/179 [00:00<00:00, 259.81it/s]\n"
     ]
    },
    {
     "name": "stdout",
     "output_type": "stream",
     "text": [
      "Loss: 1.552802, Mean Absolute Error: 0.08284088134114155, Time remaining: 0:12:45.278276\n"
     ]
    },
    {
     "name": "stderr",
     "output_type": "stream",
     "text": [
      "Epoch 133/1000 (Training): 100%|██████████| 179/179 [00:00<00:00, 263.40it/s]\n"
     ]
    },
    {
     "name": "stdout",
     "output_type": "stream",
     "text": [
      "Loss: 1.541510, Mean Absolute Error: 0.0817859048148825, Time remaining: 0:12:43.908498\n"
     ]
    },
    {
     "name": "stderr",
     "output_type": "stream",
     "text": [
      "Epoch 134/1000 (Training): 100%|██████████| 179/179 [00:00<00:00, 263.25it/s]\n"
     ]
    },
    {
     "name": "stdout",
     "output_type": "stream",
     "text": [
      "Loss: 1.522474, Mean Absolute Error: 0.08287764413351847, Time remaining: 0:12:42.549372\n"
     ]
    },
    {
     "name": "stderr",
     "output_type": "stream",
     "text": [
      "Epoch 135/1000 (Training): 100%|██████████| 179/179 [00:00<00:00, 263.96it/s]\n"
     ]
    },
    {
     "name": "stdout",
     "output_type": "stream",
     "text": [
      "Loss: 1.555150, Mean Absolute Error: 0.08299941105269716, Time remaining: 0:12:41.264875\n"
     ]
    },
    {
     "name": "stderr",
     "output_type": "stream",
     "text": [
      "Epoch 136/1000 (Training): 100%|██████████| 179/179 [00:00<00:00, 260.01it/s]\n"
     ]
    },
    {
     "name": "stdout",
     "output_type": "stream",
     "text": [
      "Loss: 1.516649, Mean Absolute Error: 0.08179874828030374, Time remaining: 0:12:39.973536\n"
     ]
    },
    {
     "name": "stderr",
     "output_type": "stream",
     "text": [
      "Epoch 137/1000 (Training): 100%|██████████| 179/179 [00:00<00:00, 265.04it/s]\n"
     ]
    },
    {
     "name": "stdout",
     "output_type": "stream",
     "text": [
      "Loss: 1.514046, Mean Absolute Error: 0.08155672956005765, Time remaining: 0:12:38.602890\n"
     ]
    },
    {
     "name": "stderr",
     "output_type": "stream",
     "text": [
      "Epoch 138/1000 (Training): 100%|██████████| 179/179 [00:00<00:00, 263.54it/s]\n"
     ]
    },
    {
     "name": "stdout",
     "output_type": "stream",
     "text": [
      "Loss: 1.498313, Mean Absolute Error: 0.08133625741303618, Time remaining: 0:12:37.287688\n"
     ]
    },
    {
     "name": "stderr",
     "output_type": "stream",
     "text": [
      "Epoch 139/1000 (Training): 100%|██████████| 179/179 [00:00<00:00, 258.34it/s]\n"
     ]
    },
    {
     "name": "stdout",
     "output_type": "stream",
     "text": [
      "Loss: 1.507601, Mean Absolute Error: 0.08161956526881774, Time remaining: 0:12:36.045822\n"
     ]
    },
    {
     "name": "stderr",
     "output_type": "stream",
     "text": [
      "Epoch 140/1000 (Training): 100%|██████████| 179/179 [00:00<00:00, 262.38it/s]\n"
     ]
    },
    {
     "name": "stdout",
     "output_type": "stream",
     "text": [
      "Loss: 1.516483, Mean Absolute Error: 0.08279088041108622, Time remaining: 0:12:34.736860\n"
     ]
    },
    {
     "name": "stderr",
     "output_type": "stream",
     "text": [
      "Epoch 141/1000 (Training): 100%|██████████| 179/179 [00:00<00:00, 256.70it/s]\n"
     ]
    },
    {
     "name": "stdout",
     "output_type": "stream",
     "text": [
      "Loss: 1.530506, Mean Absolute Error: 0.08227629948437067, Time remaining: 0:12:33.592110\n"
     ]
    },
    {
     "name": "stderr",
     "output_type": "stream",
     "text": [
      "Epoch 142/1000 (Training): 100%|██████████| 179/179 [00:00<00:00, 267.42it/s]\n"
     ]
    },
    {
     "name": "stdout",
     "output_type": "stream",
     "text": [
      "Loss: 1.520091, Mean Absolute Error: 0.08106918615788412, Time remaining: 0:12:32.244636\n"
     ]
    },
    {
     "name": "stderr",
     "output_type": "stream",
     "text": [
      "Epoch 143/1000 (Training): 100%|██████████| 179/179 [00:00<00:00, 263.64it/s]\n"
     ]
    },
    {
     "name": "stdout",
     "output_type": "stream",
     "text": [
      "Loss: 1.495477, Mean Absolute Error: 0.08217572565954274, Time remaining: 0:12:30.959105\n"
     ]
    },
    {
     "name": "stderr",
     "output_type": "stream",
     "text": [
      "Epoch 144/1000 (Training): 100%|██████████| 179/179 [00:00<00:00, 263.41it/s]\n"
     ]
    },
    {
     "name": "stdout",
     "output_type": "stream",
     "text": [
      "Loss: 1.512747, Mean Absolute Error: 0.08145623883376577, Time remaining: 0:12:29.671104\n"
     ]
    },
    {
     "name": "stderr",
     "output_type": "stream",
     "text": [
      "Epoch 145/1000 (Training): 100%|██████████| 179/179 [00:00<00:00, 261.67it/s]\n"
     ]
    },
    {
     "name": "stdout",
     "output_type": "stream",
     "text": [
      "Loss: 1.490443, Mean Absolute Error: 0.08164857699389537, Time remaining: 0:12:28.414845\n"
     ]
    },
    {
     "name": "stderr",
     "output_type": "stream",
     "text": [
      "Epoch 146/1000 (Training): 100%|██████████| 179/179 [00:00<00:00, 260.12it/s]\n"
     ]
    },
    {
     "name": "stdout",
     "output_type": "stream",
     "text": [
      "Loss: 1.470433, Mean Absolute Error: 0.08057274146657538, Time remaining: 0:12:27.184242\n"
     ]
    },
    {
     "name": "stderr",
     "output_type": "stream",
     "text": [
      "Epoch 147/1000 (Training): 100%|██████████| 179/179 [00:00<00:00, 263.56it/s]\n"
     ]
    },
    {
     "name": "stdout",
     "output_type": "stream",
     "text": [
      "Loss: 1.485069, Mean Absolute Error: 0.08133505069872324, Time remaining: 0:12:25.906703\n"
     ]
    },
    {
     "name": "stderr",
     "output_type": "stream",
     "text": [
      "Epoch 148/1000 (Training): 100%|██████████| 179/179 [00:00<00:00, 263.63it/s]\n"
     ]
    },
    {
     "name": "stdout",
     "output_type": "stream",
     "text": [
      "Loss: 1.482077, Mean Absolute Error: 0.08362645257348669, Time remaining: 0:12:24.632664\n"
     ]
    },
    {
     "name": "stderr",
     "output_type": "stream",
     "text": [
      "Epoch 149/1000 (Training): 100%|██████████| 179/179 [00:00<00:00, 264.86it/s]\n"
     ]
    },
    {
     "name": "stdout",
     "output_type": "stream",
     "text": [
      "Loss: 1.501268, Mean Absolute Error: 0.08124169930153913, Time remaining: 0:12:23.371477\n"
     ]
    },
    {
     "name": "stderr",
     "output_type": "stream",
     "text": [
      "Epoch 150/1000 (Training): 100%|██████████| 179/179 [00:00<00:00, 261.76it/s]\n"
     ]
    },
    {
     "name": "stdout",
     "output_type": "stream",
     "text": [
      "Loss: 1.491058, Mean Absolute Error: 0.08117692151466993, Time remaining: 0:12:22.155400\n"
     ]
    },
    {
     "name": "stderr",
     "output_type": "stream",
     "text": [
      "Epoch 151/1000 (Training): 100%|██████████| 179/179 [00:00<00:00, 263.09it/s]\n"
     ]
    },
    {
     "name": "stdout",
     "output_type": "stream",
     "text": [
      "Loss: 1.482347, Mean Absolute Error: 0.08097977492798196, Time remaining: 0:12:20.903622\n"
     ]
    },
    {
     "name": "stderr",
     "output_type": "stream",
     "text": [
      "Epoch 152/1000 (Training): 100%|██████████| 179/179 [00:00<00:00, 243.09it/s]\n"
     ]
    },
    {
     "name": "stdout",
     "output_type": "stream",
     "text": [
      "Loss: 1.467834, Mean Absolute Error: 0.0812197073568808, Time remaining: 0:12:19.986848\n"
     ]
    },
    {
     "name": "stderr",
     "output_type": "stream",
     "text": [
      "Epoch 153/1000 (Training): 100%|██████████| 179/179 [00:00<00:00, 256.51it/s]\n"
     ]
    },
    {
     "name": "stdout",
     "output_type": "stream",
     "text": [
      "Loss: 1.481928, Mean Absolute Error: 0.0810593210732954, Time remaining: 0:12:18.850805\n"
     ]
    },
    {
     "name": "stderr",
     "output_type": "stream",
     "text": [
      "Epoch 154/1000 (Training): 100%|██████████| 179/179 [00:00<00:00, 262.14it/s]\n"
     ]
    },
    {
     "name": "stdout",
     "output_type": "stream",
     "text": [
      "Loss: 1.476394, Mean Absolute Error: 0.08093970222606225, Time remaining: 0:12:17.660394\n"
     ]
    },
    {
     "name": "stderr",
     "output_type": "stream",
     "text": [
      "Epoch 155/1000 (Training): 100%|██████████| 179/179 [00:00<00:00, 265.60it/s]\n"
     ]
    },
    {
     "name": "stdout",
     "output_type": "stream",
     "text": [
      "Loss: 1.494494, Mean Absolute Error: 0.08108623348412308, Time remaining: 0:12:16.395530\n"
     ]
    },
    {
     "name": "stderr",
     "output_type": "stream",
     "text": [
      "Epoch 156/1000 (Training): 100%|██████████| 179/179 [00:00<00:00, 259.79it/s]\n"
     ]
    },
    {
     "name": "stdout",
     "output_type": "stream",
     "text": [
      "Loss: 1.493911, Mean Absolute Error: 0.08139245681030403, Time remaining: 0:12:15.233720\n"
     ]
    },
    {
     "name": "stderr",
     "output_type": "stream",
     "text": [
      "Epoch 157/1000 (Training): 100%|██████████| 179/179 [00:00<00:00, 260.36it/s]\n"
     ]
    },
    {
     "name": "stdout",
     "output_type": "stream",
     "text": [
      "Loss: 1.447737, Mean Absolute Error: 0.08042021351197935, Time remaining: 0:12:14.054895\n"
     ]
    },
    {
     "name": "stderr",
     "output_type": "stream",
     "text": [
      "Epoch 158/1000 (Training): 100%|██████████| 179/179 [00:00<00:00, 265.27it/s]\n"
     ]
    },
    {
     "name": "stdout",
     "output_type": "stream",
     "text": [
      "Loss: 1.465103, Mean Absolute Error: 0.08043296104508212, Time remaining: 0:12:12.826280\n"
     ]
    },
    {
     "name": "stderr",
     "output_type": "stream",
     "text": [
      "Epoch 159/1000 (Training): 100%|██████████| 179/179 [00:00<00:00, 265.34it/s]\n"
     ]
    },
    {
     "name": "stdout",
     "output_type": "stream",
     "text": [
      "Loss: 1.471633, Mean Absolute Error: 0.08065764912911827, Time remaining: 0:12:11.593469\n"
     ]
    },
    {
     "name": "stderr",
     "output_type": "stream",
     "text": [
      "Epoch 160/1000 (Training): 100%|██████████| 179/179 [00:00<00:00, 268.01it/s]\n"
     ]
    },
    {
     "name": "stdout",
     "output_type": "stream",
     "text": [
      "Loss: 1.453784, Mean Absolute Error: 0.0808046138106954, Time remaining: 0:12:10.317000\n"
     ]
    },
    {
     "name": "stderr",
     "output_type": "stream",
     "text": [
      "Epoch 161/1000 (Training): 100%|██████████| 179/179 [00:00<00:00, 263.50it/s]\n"
     ]
    },
    {
     "name": "stdout",
     "output_type": "stream",
     "text": [
      "Loss: 1.467270, Mean Absolute Error: 0.0804042140173263, Time remaining: 0:12:09.122882\n"
     ]
    },
    {
     "name": "stderr",
     "output_type": "stream",
     "text": [
      "Epoch 162/1000 (Training): 100%|██████████| 179/179 [00:00<00:00, 262.87it/s]\n"
     ]
    },
    {
     "name": "stdout",
     "output_type": "stream",
     "text": [
      "Loss: 1.485928, Mean Absolute Error: 0.08003764889515715, Time remaining: 0:12:07.936242\n"
     ]
    },
    {
     "name": "stderr",
     "output_type": "stream",
     "text": [
      "Epoch 163/1000 (Training): 100%|██████████| 179/179 [00:00<00:00, 264.88it/s]\n"
     ]
    },
    {
     "name": "stdout",
     "output_type": "stream",
     "text": [
      "Loss: 1.420224, Mean Absolute Error: 0.07907925591409548, Time remaining: 0:12:06.726924\n"
     ]
    },
    {
     "name": "stderr",
     "output_type": "stream",
     "text": [
      "Epoch 164/1000 (Training): 100%|██████████| 179/179 [00:00<00:00, 249.63it/s]\n"
     ]
    },
    {
     "name": "stdout",
     "output_type": "stream",
     "text": [
      "Loss: 1.455456, Mean Absolute Error: 0.08109897778168142, Time remaining: 0:12:05.811020\n"
     ]
    },
    {
     "name": "stderr",
     "output_type": "stream",
     "text": [
      "Epoch 165/1000 (Training): 100%|██████████| 179/179 [00:00<00:00, 258.27it/s]\n"
     ]
    },
    {
     "name": "stdout",
     "output_type": "stream",
     "text": [
      "Loss: 1.439682, Mean Absolute Error: 0.08158303383480227, Time remaining: 0:12:04.712365\n"
     ]
    },
    {
     "name": "stderr",
     "output_type": "stream",
     "text": [
      "Epoch 166/1000 (Training): 100%|██████████| 179/179 [00:00<00:00, 263.40it/s]\n"
     ]
    },
    {
     "name": "stdout",
     "output_type": "stream",
     "text": [
      "Loss: 1.454169, Mean Absolute Error: 0.08077512154313936, Time remaining: 0:12:03.528360\n"
     ]
    },
    {
     "name": "stderr",
     "output_type": "stream",
     "text": [
      "Epoch 167/1000 (Training): 100%|██████████| 179/179 [00:00<00:00, 265.33it/s]\n"
     ]
    },
    {
     "name": "stdout",
     "output_type": "stream",
     "text": [
      "Loss: 1.428989, Mean Absolute Error: 0.07972622708253112, Time remaining: 0:12:02.323455\n"
     ]
    },
    {
     "name": "stderr",
     "output_type": "stream",
     "text": [
      "Epoch 168/1000 (Training): 100%|██████████| 179/179 [00:00<00:00, 266.50it/s]\n"
     ]
    },
    {
     "name": "stdout",
     "output_type": "stream",
     "text": [
      "Loss: 1.451889, Mean Absolute Error: 0.08059385678619424, Time remaining: 0:12:01.123520\n"
     ]
    },
    {
     "name": "stderr",
     "output_type": "stream",
     "text": [
      "Epoch 169/1000 (Training): 100%|██████████| 179/179 [00:00<00:00, 252.74it/s]\n"
     ]
    },
    {
     "name": "stdout",
     "output_type": "stream",
     "text": [
      "Loss: 1.470344, Mean Absolute Error: 0.08165241450080021, Time remaining: 0:12:00.098064\n"
     ]
    },
    {
     "name": "stderr",
     "output_type": "stream",
     "text": [
      "Epoch 170/1000 (Training): 100%|██████████| 179/179 [00:00<00:00, 262.91it/s]\n"
     ]
    },
    {
     "name": "stdout",
     "output_type": "stream",
     "text": [
      "Loss: 1.465634, Mean Absolute Error: 0.07995614929745866, Time remaining: 0:11:58.950150\n"
     ]
    },
    {
     "name": "stderr",
     "output_type": "stream",
     "text": [
      "Epoch 171/1000 (Training): 100%|██████████| 179/179 [00:00<00:00, 257.46it/s]\n"
     ]
    },
    {
     "name": "stdout",
     "output_type": "stream",
     "text": [
      "Loss: 1.457421, Mean Absolute Error: 0.0805188870783475, Time remaining: 0:11:57.867576\n"
     ]
    },
    {
     "name": "stderr",
     "output_type": "stream",
     "text": [
      "Epoch 172/1000 (Training): 100%|██████████| 179/179 [00:00<00:00, 264.15it/s]\n"
     ]
    },
    {
     "name": "stdout",
     "output_type": "stream",
     "text": [
      "Loss: 1.420669, Mean Absolute Error: 0.07941003885705195, Time remaining: 0:11:56.702724\n"
     ]
    },
    {
     "name": "stderr",
     "output_type": "stream",
     "text": [
      "Epoch 173/1000 (Training): 100%|██████████| 179/179 [00:00<00:00, 262.81it/s]\n"
     ]
    },
    {
     "name": "stdout",
     "output_type": "stream",
     "text": [
      "Loss: 1.438802, Mean Absolute Error: 0.08114327501072886, Time remaining: 0:11:55.558442\n"
     ]
    },
    {
     "name": "stderr",
     "output_type": "stream",
     "text": [
      "Epoch 174/1000 (Training): 100%|██████████| 179/179 [00:00<00:00, 253.03it/s]\n"
     ]
    },
    {
     "name": "stdout",
     "output_type": "stream",
     "text": [
      "Loss: 1.431691, Mean Absolute Error: 0.0788440428546835, Time remaining: 0:11:54.556906\n"
     ]
    },
    {
     "name": "stderr",
     "output_type": "stream",
     "text": [
      "Epoch 175/1000 (Training): 100%|██████████| 179/179 [00:00<00:00, 260.26it/s]\n"
     ]
    },
    {
     "name": "stdout",
     "output_type": "stream",
     "text": [
      "Loss: 1.471503, Mean Absolute Error: 0.0801600499129296, Time remaining: 0:11:53.446800\n"
     ]
    },
    {
     "name": "stderr",
     "output_type": "stream",
     "text": [
      "Epoch 176/1000 (Training): 100%|██████████| 179/179 [00:00<00:00, 245.52it/s]\n"
     ]
    },
    {
     "name": "stdout",
     "output_type": "stream",
     "text": [
      "Loss: 1.427417, Mean Absolute Error: 0.08126709061856598, Time remaining: 0:11:52.549880\n"
     ]
    },
    {
     "name": "stderr",
     "output_type": "stream",
     "text": [
      "Epoch 177/1000 (Training): 100%|██████████| 179/179 [00:00<00:00, 248.60it/s]\n"
     ]
    },
    {
     "name": "stdout",
     "output_type": "stream",
     "text": [
      "Loss: 1.432202, Mean Absolute Error: 0.07900432712272115, Time remaining: 0:11:51.627525\n"
     ]
    },
    {
     "name": "stderr",
     "output_type": "stream",
     "text": [
      "Epoch 178/1000 (Training): 100%|██████████| 179/179 [00:00<00:00, 249.08it/s]\n"
     ]
    },
    {
     "name": "stdout",
     "output_type": "stream",
     "text": [
      "Loss: 1.436554, Mean Absolute Error: 0.07975761420698176, Time remaining: 0:11:50.715996\n"
     ]
    },
    {
     "name": "stderr",
     "output_type": "stream",
     "text": [
      "Epoch 179/1000 (Training): 100%|██████████| 179/179 [00:00<00:00, 242.77it/s]\n"
     ]
    },
    {
     "name": "stdout",
     "output_type": "stream",
     "text": [
      "Loss: 1.410396, Mean Absolute Error: 0.08139824416619715, Time remaining: 0:11:49.893249\n"
     ]
    },
    {
     "name": "stderr",
     "output_type": "stream",
     "text": [
      "Epoch 180/1000 (Training): 100%|██████████| 179/179 [00:00<00:00, 248.56it/s]\n"
     ]
    },
    {
     "name": "stdout",
     "output_type": "stream",
     "text": [
      "Loss: 1.442929, Mean Absolute Error: 0.08025382830545318, Time remaining: 0:11:48.967080\n"
     ]
    },
    {
     "name": "stderr",
     "output_type": "stream",
     "text": [
      "Epoch 181/1000 (Training): 100%|██████████| 179/179 [00:00<00:00, 248.28it/s]\n"
     ]
    },
    {
     "name": "stdout",
     "output_type": "stream",
     "text": [
      "Loss: 1.406877, Mean Absolute Error: 0.07919209138476561, Time remaining: 0:11:48.036966\n"
     ]
    },
    {
     "name": "stderr",
     "output_type": "stream",
     "text": [
      "Epoch 182/1000 (Training): 100%|██████████| 179/179 [00:00<00:00, 262.92it/s]\n"
     ]
    },
    {
     "name": "stdout",
     "output_type": "stream",
     "text": [
      "Loss: 1.434864, Mean Absolute Error: 0.07981321019298232, Time remaining: 0:11:46.927870\n"
     ]
    },
    {
     "name": "stderr",
     "output_type": "stream",
     "text": [
      "Epoch 183/1000 (Training): 100%|██████████| 179/179 [00:00<00:00, 256.60it/s]\n"
     ]
    },
    {
     "name": "stdout",
     "output_type": "stream",
     "text": [
      "Loss: 1.417037, Mean Absolute Error: 0.080351635032898, Time remaining: 0:11:45.885549\n"
     ]
    },
    {
     "name": "stderr",
     "output_type": "stream",
     "text": [
      "Epoch 184/1000 (Training): 100%|██████████| 179/179 [00:00<00:00, 256.05it/s]\n"
     ]
    },
    {
     "name": "stdout",
     "output_type": "stream",
     "text": [
      "Loss: 1.423322, Mean Absolute Error: 0.07984125519141873, Time remaining: 0:11:44.856720\n"
     ]
    },
    {
     "name": "stderr",
     "output_type": "stream",
     "text": [
      "Epoch 185/1000 (Training): 100%|██████████| 179/179 [00:00<00:00, 263.57it/s]\n"
     ]
    },
    {
     "name": "stdout",
     "output_type": "stream",
     "text": [
      "Loss: 1.399777, Mean Absolute Error: 0.08060056331452954, Time remaining: 0:11:43.730495\n"
     ]
    },
    {
     "name": "stderr",
     "output_type": "stream",
     "text": [
      "Epoch 186/1000 (Training): 100%|██████████| 179/179 [00:00<00:00, 259.96it/s]\n"
     ]
    },
    {
     "name": "stdout",
     "output_type": "stream",
     "text": [
      "Loss: 1.415901, Mean Absolute Error: 0.07938819167295416, Time remaining: 0:11:42.657010\n"
     ]
    },
    {
     "name": "stderr",
     "output_type": "stream",
     "text": [
      "Epoch 187/1000 (Training): 100%|██████████| 179/179 [00:00<00:00, 261.74it/s]\n"
     ]
    },
    {
     "name": "stdout",
     "output_type": "stream",
     "text": [
      "Loss: 1.405108, Mean Absolute Error: 0.0795840210723486, Time remaining: 0:11:41.561277\n"
     ]
    },
    {
     "name": "stderr",
     "output_type": "stream",
     "text": [
      "Epoch 188/1000 (Training): 100%|██████████| 179/179 [00:00<00:00, 261.96it/s]\n"
     ]
    },
    {
     "name": "stdout",
     "output_type": "stream",
     "text": [
      "Loss: 1.416083, Mean Absolute Error: 0.07864288273137475, Time remaining: 0:11:40.462056\n"
     ]
    },
    {
     "name": "stderr",
     "output_type": "stream",
     "text": [
      "Epoch 189/1000 (Training): 100%|██████████| 179/179 [00:00<00:00, 253.72it/s]\n"
     ]
    },
    {
     "name": "stdout",
     "output_type": "stream",
     "text": [
      "Loss: 1.419565, Mean Absolute Error: 0.0806153348223144, Time remaining: 0:11:39.462359\n"
     ]
    },
    {
     "name": "stderr",
     "output_type": "stream",
     "text": [
      "Epoch 190/1000 (Training): 100%|██████████| 179/179 [00:00<00:00, 264.41it/s]\n"
     ]
    },
    {
     "name": "stdout",
     "output_type": "stream",
     "text": [
      "Loss: 1.398193, Mean Absolute Error: 0.07965827933818308, Time remaining: 0:11:38.354460\n"
     ]
    },
    {
     "name": "stderr",
     "output_type": "stream",
     "text": [
      "Epoch 191/1000 (Training): 100%|██████████| 179/179 [00:00<00:00, 257.15it/s]\n"
     ]
    },
    {
     "name": "stdout",
     "output_type": "stream",
     "text": [
      "Loss: 1.400811, Mean Absolute Error: 0.07903934659678032, Time remaining: 0:11:37.320786\n"
     ]
    },
    {
     "name": "stderr",
     "output_type": "stream",
     "text": [
      "Epoch 192/1000 (Training): 100%|██████████| 179/179 [00:00<00:00, 260.65it/s]\n"
     ]
    },
    {
     "name": "stdout",
     "output_type": "stream",
     "text": [
      "Loss: 1.381822, Mean Absolute Error: 0.07905916771012644, Time remaining: 0:11:36.241480\n"
     ]
    },
    {
     "name": "stderr",
     "output_type": "stream",
     "text": [
      "Epoch 193/1000 (Training): 100%|██████████| 179/179 [00:00<00:00, 258.36it/s]\n"
     ]
    },
    {
     "name": "stdout",
     "output_type": "stream",
     "text": [
      "Loss: 1.416248, Mean Absolute Error: 0.08049281147335281, Time remaining: 0:11:35.210325\n"
     ]
    },
    {
     "name": "stderr",
     "output_type": "stream",
     "text": [
      "Epoch 194/1000 (Training): 100%|██████████| 179/179 [00:00<00:00, 260.15it/s]\n"
     ]
    },
    {
     "name": "stdout",
     "output_type": "stream",
     "text": [
      "Loss: 1.409594, Mean Absolute Error: 0.07942754362682247, Time remaining: 0:11:34.157828\n"
     ]
    },
    {
     "name": "stderr",
     "output_type": "stream",
     "text": [
      "Epoch 195/1000 (Training): 100%|██████████| 179/179 [00:00<00:00, 261.15it/s]\n"
     ]
    },
    {
     "name": "stdout",
     "output_type": "stream",
     "text": [
      "Loss: 1.397490, Mean Absolute Error: 0.07963615409032361, Time remaining: 0:11:33.107415\n"
     ]
    },
    {
     "name": "stderr",
     "output_type": "stream",
     "text": [
      "Epoch 196/1000 (Training): 100%|██████████| 179/179 [00:00<00:00, 262.87it/s]\n"
     ]
    },
    {
     "name": "stdout",
     "output_type": "stream",
     "text": [
      "Loss: 1.410448, Mean Absolute Error: 0.07922360284352266, Time remaining: 0:11:32.031744\n"
     ]
    },
    {
     "name": "stderr",
     "output_type": "stream",
     "text": [
      "Epoch 197/1000 (Training): 100%|██████████| 179/179 [00:00<00:00, 264.60it/s]\n"
     ]
    },
    {
     "name": "stdout",
     "output_type": "stream",
     "text": [
      "Loss: 1.408605, Mean Absolute Error: 0.0810876469851089, Time remaining: 0:11:30.926093\n"
     ]
    },
    {
     "name": "stderr",
     "output_type": "stream",
     "text": [
      "Epoch 198/1000 (Training): 100%|██████████| 179/179 [00:00<00:00, 261.85it/s]\n"
     ]
    },
    {
     "name": "stdout",
     "output_type": "stream",
     "text": [
      "Loss: 1.418979, Mean Absolute Error: 0.07939543855001226, Time remaining: 0:11:29.873984\n"
     ]
    },
    {
     "name": "stderr",
     "output_type": "stream",
     "text": [
      "Epoch 199/1000 (Training): 100%|██████████| 179/179 [00:00<00:00, 263.43it/s]\n"
     ]
    },
    {
     "name": "stdout",
     "output_type": "stream",
     "text": [
      "Loss: 1.442760, Mean Absolute Error: 0.07992013981727887, Time remaining: 0:11:28.810338\n"
     ]
    },
    {
     "name": "stderr",
     "output_type": "stream",
     "text": [
      "Epoch 200/1000 (Training): 100%|██████████| 179/179 [00:00<00:00, 264.18it/s]\n"
     ]
    },
    {
     "name": "stdout",
     "output_type": "stream",
     "text": [
      "Loss: 1.409033, Mean Absolute Error: 0.07890048082180687, Time remaining: 0:11:27.719200\n"
     ]
    },
    {
     "name": "stderr",
     "output_type": "stream",
     "text": [
      "Epoch 201/1000 (Training): 100%|██████████| 179/179 [00:00<00:00, 258.08it/s]\n"
     ]
    },
    {
     "name": "stdout",
     "output_type": "stream",
     "text": [
      "Loss: 1.420112, Mean Absolute Error: 0.07899922717223953, Time remaining: 0:11:26.734907\n"
     ]
    },
    {
     "name": "stderr",
     "output_type": "stream",
     "text": [
      "Epoch 202/1000 (Training): 100%|██████████| 179/179 [00:00<00:00, 260.20it/s]\n"
     ]
    },
    {
     "name": "stdout",
     "output_type": "stream",
     "text": [
      "Loss: 1.391267, Mean Absolute Error: 0.080317453104899, Time remaining: 0:11:25.712622\n"
     ]
    },
    {
     "name": "stderr",
     "output_type": "stream",
     "text": [
      "Epoch 203/1000 (Training): 100%|██████████| 179/179 [00:00<00:00, 260.13it/s]\n"
     ]
    },
    {
     "name": "stdout",
     "output_type": "stream",
     "text": [
      "Loss: 1.402425, Mean Absolute Error: 0.07937634521752603, Time remaining: 0:11:24.670023\n"
     ]
    },
    {
     "name": "stderr",
     "output_type": "stream",
     "text": [
      "Epoch 204/1000 (Training): 100%|██████████| 179/179 [00:00<00:00, 260.83it/s]\n"
     ]
    },
    {
     "name": "stdout",
     "output_type": "stream",
     "text": [
      "Loss: 1.361141, Mean Absolute Error: 0.07916153692835623, Time remaining: 0:11:23.627884\n"
     ]
    },
    {
     "name": "stderr",
     "output_type": "stream",
     "text": [
      "Epoch 205/1000 (Training): 100%|██████████| 179/179 [00:00<00:00, 265.47it/s]\n"
     ]
    },
    {
     "name": "stdout",
     "output_type": "stream",
     "text": [
      "Loss: 1.381541, Mean Absolute Error: 0.07906628985466922, Time remaining: 0:11:22.557585\n"
     ]
    },
    {
     "name": "stderr",
     "output_type": "stream",
     "text": [
      "Epoch 206/1000 (Training): 100%|██████████| 179/179 [00:00<00:00, 258.53it/s]\n"
     ]
    },
    {
     "name": "stdout",
     "output_type": "stream",
     "text": [
      "Loss: 1.365428, Mean Absolute Error: 0.07883830441374258, Time remaining: 0:11:21.541016\n"
     ]
    },
    {
     "name": "stderr",
     "output_type": "stream",
     "text": [
      "Epoch 207/1000 (Training): 100%|██████████| 179/179 [00:00<00:00, 259.15it/s]\n"
     ]
    },
    {
     "name": "stdout",
     "output_type": "stream",
     "text": [
      "Loss: 1.376947, Mean Absolute Error: 0.07888915806304554, Time remaining: 0:11:20.518501\n"
     ]
    },
    {
     "name": "stderr",
     "output_type": "stream",
     "text": [
      "Epoch 208/1000 (Training): 100%|██████████| 179/179 [00:00<00:00, 260.82it/s]\n"
     ]
    },
    {
     "name": "stdout",
     "output_type": "stream",
     "text": [
      "Loss: 1.396635, Mean Absolute Error: 0.07905017785401207, Time remaining: 0:11:19.492440\n"
     ]
    },
    {
     "name": "stderr",
     "output_type": "stream",
     "text": [
      "Epoch 209/1000 (Training): 100%|██████████| 179/179 [00:00<00:00, 256.34it/s]\n"
     ]
    },
    {
     "name": "stdout",
     "output_type": "stream",
     "text": [
      "Loss: 1.382505, Mean Absolute Error: 0.07878755848660582, Time remaining: 0:11:18.516636\n"
     ]
    },
    {
     "name": "stderr",
     "output_type": "stream",
     "text": [
      "Epoch 210/1000 (Training): 100%|██████████| 179/179 [00:00<00:00, 259.59it/s]\n"
     ]
    },
    {
     "name": "stdout",
     "output_type": "stream",
     "text": [
      "Loss: 1.372345, Mean Absolute Error: 0.07836275088394576, Time remaining: 0:11:17.513480\n"
     ]
    },
    {
     "name": "stderr",
     "output_type": "stream",
     "text": [
      "Epoch 211/1000 (Training): 100%|██████████| 179/179 [00:00<00:00, 257.14it/s]\n"
     ]
    },
    {
     "name": "stdout",
     "output_type": "stream",
     "text": [
      "Loss: 1.363163, Mean Absolute Error: 0.07823528560291142, Time remaining: 0:11:16.526472\n"
     ]
    },
    {
     "name": "stderr",
     "output_type": "stream",
     "text": [
      "Epoch 212/1000 (Training): 100%|██████████| 179/179 [00:00<00:00, 263.60it/s]\n"
     ]
    },
    {
     "name": "stdout",
     "output_type": "stream",
     "text": [
      "Loss: 1.362059, Mean Absolute Error: 0.07932629357258363, Time remaining: 0:11:15.471236\n"
     ]
    },
    {
     "name": "stderr",
     "output_type": "stream",
     "text": [
      "Epoch 213/1000 (Training): 100%|██████████| 179/179 [00:00<00:00, 260.59it/s]\n"
     ]
    },
    {
     "name": "stdout",
     "output_type": "stream",
     "text": [
      "Loss: 1.387332, Mean Absolute Error: 0.0802928802955158, Time remaining: 0:11:14.448769\n"
     ]
    },
    {
     "name": "stderr",
     "output_type": "stream",
     "text": [
      "Epoch 214/1000 (Training): 100%|██████████| 179/179 [00:00<00:00, 256.74it/s]\n"
     ]
    },
    {
     "name": "stdout",
     "output_type": "stream",
     "text": [
      "Loss: 1.372332, Mean Absolute Error: 0.07918403090415123, Time remaining: 0:11:13.477026\n"
     ]
    },
    {
     "name": "stderr",
     "output_type": "stream",
     "text": [
      "Epoch 215/1000 (Training): 100%|██████████| 179/179 [00:00<00:00, 263.45it/s]\n"
     ]
    },
    {
     "name": "stdout",
     "output_type": "stream",
     "text": [
      "Loss: 1.358886, Mean Absolute Error: 0.07800956771843674, Time remaining: 0:11:12.430215\n"
     ]
    },
    {
     "name": "stderr",
     "output_type": "stream",
     "text": [
      "Epoch 216/1000 (Training): 100%|██████████| 179/179 [00:00<00:00, 263.14it/s]\n"
     ]
    },
    {
     "name": "stdout",
     "output_type": "stream",
     "text": [
      "Loss: 1.387991, Mean Absolute Error: 0.07869933793698859, Time remaining: 0:11:11.394864\n"
     ]
    },
    {
     "name": "stderr",
     "output_type": "stream",
     "text": [
      "Epoch 217/1000 (Training): 100%|██████████| 179/179 [00:00<00:00, 258.37it/s]\n"
     ]
    },
    {
     "name": "stdout",
     "output_type": "stream",
     "text": [
      "Loss: 1.388578, Mean Absolute Error: 0.07778975108880495, Time remaining: 0:11:10.402251\n"
     ]
    },
    {
     "name": "stderr",
     "output_type": "stream",
     "text": [
      "Epoch 218/1000 (Training): 100%|██████████| 179/179 [00:00<00:00, 263.45it/s]\n"
     ]
    },
    {
     "name": "stdout",
     "output_type": "stream",
     "text": [
      "Loss: 1.365688, Mean Absolute Error: 0.0797326368522186, Time remaining: 0:11:09.370886\n"
     ]
    },
    {
     "name": "stderr",
     "output_type": "stream",
     "text": [
      "Epoch 219/1000 (Training): 100%|██████████| 179/179 [00:00<00:00, 257.42it/s]\n"
     ]
    },
    {
     "name": "stdout",
     "output_type": "stream",
     "text": [
      "Loss: 1.338963, Mean Absolute Error: 0.0773703712931908, Time remaining: 0:11:08.399325\n"
     ]
    },
    {
     "name": "stderr",
     "output_type": "stream",
     "text": [
      "Epoch 220/1000 (Training): 100%|██████████| 179/179 [00:00<00:00, 259.98it/s]\n"
     ]
    },
    {
     "name": "stdout",
     "output_type": "stream",
     "text": [
      "Loss: 1.354073, Mean Absolute Error: 0.0781022982168194, Time remaining: 0:11:07.415580\n"
     ]
    },
    {
     "name": "stderr",
     "output_type": "stream",
     "text": [
      "Epoch 221/1000 (Training): 100%|██████████| 179/179 [00:00<00:00, 265.16it/s]\n"
     ]
    },
    {
     "name": "stdout",
     "output_type": "stream",
     "text": [
      "Loss: 1.355749, Mean Absolute Error: 0.07871289211301954, Time remaining: 0:11:06.369843\n"
     ]
    },
    {
     "name": "stderr",
     "output_type": "stream",
     "text": [
      "Epoch 222/1000 (Training): 100%|██████████| 179/179 [00:00<00:00, 261.57it/s]\n"
     ]
    },
    {
     "name": "stdout",
     "output_type": "stream",
     "text": [
      "Loss: 1.354256, Mean Absolute Error: 0.07904765102073653, Time remaining: 0:11:05.361938\n"
     ]
    },
    {
     "name": "stderr",
     "output_type": "stream",
     "text": [
      "Epoch 223/1000 (Training): 100%|██████████| 179/179 [00:00<00:00, 260.64it/s]\n"
     ]
    },
    {
     "name": "stdout",
     "output_type": "stream",
     "text": [
      "Loss: 1.343584, Mean Absolute Error: 0.07869148171823581, Time remaining: 0:11:04.355979\n"
     ]
    },
    {
     "name": "stderr",
     "output_type": "stream",
     "text": [
      "Epoch 224/1000 (Training): 100%|██████████| 179/179 [00:00<00:00, 261.36it/s]\n"
     ]
    },
    {
     "name": "stdout",
     "output_type": "stream",
     "text": [
      "Loss: 1.360915, Mean Absolute Error: 0.0775584433598252, Time remaining: 0:11:03.418696\n"
     ]
    },
    {
     "name": "stderr",
     "output_type": "stream",
     "text": [
      "Epoch 225/1000 (Training): 100%|██████████| 179/179 [00:00<00:00, 264.62it/s]\n"
     ]
    },
    {
     "name": "stdout",
     "output_type": "stream",
     "text": [
      "Loss: 1.355385, Mean Absolute Error: 0.07941211941216195, Time remaining: 0:11:02.394825\n"
     ]
    },
    {
     "name": "stderr",
     "output_type": "stream",
     "text": [
      "Epoch 226/1000 (Training): 100%|██████████| 179/179 [00:00<00:00, 261.86it/s]\n"
     ]
    },
    {
     "name": "stdout",
     "output_type": "stream",
     "text": [
      "Loss: 1.347442, Mean Absolute Error: 0.07801781787716003, Time remaining: 0:11:01.398480\n"
     ]
    },
    {
     "name": "stderr",
     "output_type": "stream",
     "text": [
      "Epoch 227/1000 (Training): 100%|██████████| 179/179 [00:00<00:00, 261.22it/s]\n"
     ]
    },
    {
     "name": "stdout",
     "output_type": "stream",
     "text": [
      "Loss: 1.372559, Mean Absolute Error: 0.07963418159309674, Time remaining: 0:11:00.399409\n"
     ]
    },
    {
     "name": "stderr",
     "output_type": "stream",
     "text": [
      "Epoch 228/1000 (Training): 100%|██████████| 179/179 [00:00<00:00, 263.20it/s]\n"
     ]
    },
    {
     "name": "stdout",
     "output_type": "stream",
     "text": [
      "Loss: 1.380194, Mean Absolute Error: 0.07933132632415829, Time remaining: 0:10:59.411520\n"
     ]
    },
    {
     "name": "stderr",
     "output_type": "stream",
     "text": [
      "Epoch 229/1000 (Training): 100%|██████████| 179/179 [00:00<00:00, 266.07it/s]\n"
     ]
    },
    {
     "name": "stdout",
     "output_type": "stream",
     "text": [
      "Loss: 1.357587, Mean Absolute Error: 0.07867687421627613, Time remaining: 0:10:58.372320\n"
     ]
    },
    {
     "name": "stderr",
     "output_type": "stream",
     "text": [
      "Epoch 230/1000 (Training): 100%|██████████| 179/179 [00:00<00:00, 255.61it/s]\n"
     ]
    },
    {
     "name": "stdout",
     "output_type": "stream",
     "text": [
      "Loss: 1.345067, Mean Absolute Error: 0.07827597990639253, Time remaining: 0:10:57.429080\n"
     ]
    },
    {
     "name": "stderr",
     "output_type": "stream",
     "text": [
      "Epoch 231/1000 (Training): 100%|██████████| 179/179 [00:00<00:00, 262.80it/s]\n"
     ]
    },
    {
     "name": "stdout",
     "output_type": "stream",
     "text": [
      "Loss: 1.339261, Mean Absolute Error: 0.07908935598149214, Time remaining: 0:10:56.410710\n"
     ]
    },
    {
     "name": "stderr",
     "output_type": "stream",
     "text": [
      "Epoch 232/1000 (Training): 100%|██████████| 179/179 [00:00<00:00, 258.12it/s]\n"
     ]
    },
    {
     "name": "stdout",
     "output_type": "stream",
     "text": [
      "Loss: 1.337337, Mean Absolute Error: 0.07861777209509922, Time remaining: 0:10:55.455744\n"
     ]
    },
    {
     "name": "stderr",
     "output_type": "stream",
     "text": [
      "Epoch 233/1000 (Training): 100%|██████████| 179/179 [00:00<00:00, 263.67it/s]\n"
     ]
    },
    {
     "name": "stdout",
     "output_type": "stream",
     "text": [
      "Loss: 1.332972, Mean Absolute Error: 0.07764736818797455, Time remaining: 0:10:54.447352\n"
     ]
    },
    {
     "name": "stderr",
     "output_type": "stream",
     "text": [
      "Epoch 234/1000 (Training): 100%|██████████| 179/179 [00:00<00:00, 259.20it/s]\n"
     ]
    },
    {
     "name": "stdout",
     "output_type": "stream",
     "text": [
      "Loss: 1.328932, Mean Absolute Error: 0.07854170789584196, Time remaining: 0:10:53.476898\n"
     ]
    },
    {
     "name": "stderr",
     "output_type": "stream",
     "text": [
      "Epoch 235/1000 (Training): 100%|██████████| 179/179 [00:00<00:00, 255.80it/s]\n"
     ]
    },
    {
     "name": "stdout",
     "output_type": "stream",
     "text": [
      "Loss: 1.347084, Mean Absolute Error: 0.07810702716632449, Time remaining: 0:10:52.552650\n"
     ]
    },
    {
     "name": "stderr",
     "output_type": "stream",
     "text": [
      "Epoch 236/1000 (Training): 100%|██████████| 179/179 [00:00<00:00, 263.82it/s]\n"
     ]
    },
    {
     "name": "stdout",
     "output_type": "stream",
     "text": [
      "Loss: 1.352258, Mean Absolute Error: 0.0780205127106876, Time remaining: 0:10:51.548368\n"
     ]
    },
    {
     "name": "stderr",
     "output_type": "stream",
     "text": [
      "Epoch 237/1000 (Training): 100%|██████████| 179/179 [00:00<00:00, 258.08it/s]\n"
     ]
    },
    {
     "name": "stdout",
     "output_type": "stream",
     "text": [
      "Loss: 1.327869, Mean Absolute Error: 0.07764498106263247, Time remaining: 0:10:50.597129\n"
     ]
    },
    {
     "name": "stderr",
     "output_type": "stream",
     "text": [
      "Epoch 238/1000 (Training): 100%|██████████| 179/179 [00:00<00:00, 261.94it/s]\n"
     ]
    },
    {
     "name": "stdout",
     "output_type": "stream",
     "text": [
      "Loss: 1.316595, Mean Absolute Error: 0.07852448069747868, Time remaining: 0:10:49.612620\n"
     ]
    },
    {
     "name": "stderr",
     "output_type": "stream",
     "text": [
      "Epoch 239/1000 (Training): 100%|██████████| 179/179 [00:00<00:00, 258.95it/s]\n"
     ]
    },
    {
     "name": "stdout",
     "output_type": "stream",
     "text": [
      "Loss: 1.299381, Mean Absolute Error: 0.07833365142475897, Time remaining: 0:10:48.642155\n"
     ]
    },
    {
     "name": "stderr",
     "output_type": "stream",
     "text": [
      "Epoch 240/1000 (Training): 100%|██████████| 179/179 [00:00<00:00, 258.92it/s]\n"
     ]
    },
    {
     "name": "stdout",
     "output_type": "stream",
     "text": [
      "Loss: 1.321337, Mean Absolute Error: 0.07838823087507801, Time remaining: 0:10:47.688720\n"
     ]
    },
    {
     "name": "stderr",
     "output_type": "stream",
     "text": [
      "Epoch 241/1000 (Training): 100%|██████████| 179/179 [00:00<00:00, 266.76it/s]\n"
     ]
    },
    {
     "name": "stdout",
     "output_type": "stream",
     "text": [
      "Loss: 1.323007, Mean Absolute Error: 0.0782952826613909, Time remaining: 0:10:46.673313\n"
     ]
    },
    {
     "name": "stderr",
     "output_type": "stream",
     "text": [
      "Epoch 242/1000 (Training): 100%|██████████| 179/179 [00:00<00:00, 261.53it/s]\n"
     ]
    },
    {
     "name": "stdout",
     "output_type": "stream",
     "text": [
      "Loss: 1.321163, Mean Absolute Error: 0.07783005990758639, Time remaining: 0:10:45.696236\n"
     ]
    },
    {
     "name": "stderr",
     "output_type": "stream",
     "text": [
      "Epoch 243/1000 (Training): 100%|██████████| 179/179 [00:00<00:00, 260.07it/s]\n"
     ]
    },
    {
     "name": "stdout",
     "output_type": "stream",
     "text": [
      "Loss: 1.310306, Mean Absolute Error: 0.07793009462754266, Time remaining: 0:10:44.730087\n"
     ]
    },
    {
     "name": "stderr",
     "output_type": "stream",
     "text": [
      "Epoch 244/1000 (Training): 100%|██████████| 179/179 [00:00<00:00, 257.70it/s]\n"
     ]
    },
    {
     "name": "stdout",
     "output_type": "stream",
     "text": [
      "Loss: 1.312475, Mean Absolute Error: 0.07782096203818134, Time remaining: 0:10:43.785408\n"
     ]
    },
    {
     "name": "stderr",
     "output_type": "stream",
     "text": [
      "Epoch 245/1000 (Training): 100%|██████████| 179/179 [00:00<00:00, 258.39it/s]\n"
     ]
    },
    {
     "name": "stdout",
     "output_type": "stream",
     "text": [
      "Loss: 1.319400, Mean Absolute Error: 0.07884519867551316, Time remaining: 0:10:42.845505\n"
     ]
    },
    {
     "name": "stderr",
     "output_type": "stream",
     "text": [
      "Epoch 246/1000 (Training): 100%|██████████| 179/179 [00:00<00:00, 257.73it/s]\n"
     ]
    },
    {
     "name": "stdout",
     "output_type": "stream",
     "text": [
      "Loss: 1.312932, Mean Absolute Error: 0.07848342730985486, Time remaining: 0:10:41.892264\n"
     ]
    },
    {
     "name": "stderr",
     "output_type": "stream",
     "text": [
      "Epoch 247/1000 (Training): 100%|██████████| 179/179 [00:00<00:00, 263.84it/s]\n"
     ]
    },
    {
     "name": "stdout",
     "output_type": "stream",
     "text": [
      "Loss: 1.314740, Mean Absolute Error: 0.07791065141156553, Time remaining: 0:10:40.915950\n"
     ]
    },
    {
     "name": "stderr",
     "output_type": "stream",
     "text": [
      "Epoch 248/1000 (Training): 100%|██████████| 179/179 [00:00<00:00, 263.53it/s]\n"
     ]
    },
    {
     "name": "stdout",
     "output_type": "stream",
     "text": [
      "Loss: 1.320871, Mean Absolute Error: 0.07788726235908638, Time remaining: 0:10:39.930192\n"
     ]
    },
    {
     "name": "stderr",
     "output_type": "stream",
     "text": [
      "Epoch 249/1000 (Training): 100%|██████████| 179/179 [00:00<00:00, 264.19it/s]\n"
     ]
    },
    {
     "name": "stdout",
     "output_type": "stream",
     "text": [
      "Loss: 1.330089, Mean Absolute Error: 0.07831654835509334, Time remaining: 0:10:38.938033\n"
     ]
    },
    {
     "name": "stderr",
     "output_type": "stream",
     "text": [
      "Epoch 250/1000 (Training): 100%|██████████| 179/179 [00:00<00:00, 257.06it/s]\n"
     ]
    },
    {
     "name": "stdout",
     "output_type": "stream",
     "text": [
      "Loss: 1.322131, Mean Absolute Error: 0.0790785468831389, Time remaining: 0:10:38.026500\n"
     ]
    },
    {
     "name": "stderr",
     "output_type": "stream",
     "text": [
      "Epoch 251/1000 (Training): 100%|██████████| 179/179 [00:00<00:00, 266.02it/s]\n"
     ]
    },
    {
     "name": "stdout",
     "output_type": "stream",
     "text": [
      "Loss: 1.316233, Mean Absolute Error: 0.07874750004858348, Time remaining: 0:10:37.017010\n"
     ]
    },
    {
     "name": "stderr",
     "output_type": "stream",
     "text": [
      "Epoch 252/1000 (Training): 100%|██████████| 179/179 [00:00<00:00, 267.03it/s]\n"
     ]
    },
    {
     "name": "stdout",
     "output_type": "stream",
     "text": [
      "Loss: 1.318991, Mean Absolute Error: 0.07779446700065043, Time remaining: 0:10:36.022156\n"
     ]
    },
    {
     "name": "stderr",
     "output_type": "stream",
     "text": [
      "Epoch 253/1000 (Training): 100%|██████████| 179/179 [00:00<00:00, 267.28it/s]\n"
     ]
    },
    {
     "name": "stdout",
     "output_type": "stream",
     "text": [
      "Loss: 1.319544, Mean Absolute Error: 0.077867825161044, Time remaining: 0:10:35.007519\n"
     ]
    },
    {
     "name": "stderr",
     "output_type": "stream",
     "text": [
      "Epoch 254/1000 (Training): 100%|██████████| 179/179 [00:00<00:00, 270.61it/s]\n"
     ]
    },
    {
     "name": "stdout",
     "output_type": "stream",
     "text": [
      "Loss: 1.312242, Mean Absolute Error: 0.07858000840258673, Time remaining: 0:10:33.972434\n"
     ]
    },
    {
     "name": "stderr",
     "output_type": "stream",
     "text": [
      "Epoch 255/1000 (Training): 100%|██████████| 179/179 [00:00<00:00, 266.49it/s]\n"
     ]
    },
    {
     "name": "stdout",
     "output_type": "stream",
     "text": [
      "Loss: 1.297752, Mean Absolute Error: 0.07758147729226812, Time remaining: 0:10:32.969880\n"
     ]
    },
    {
     "name": "stderr",
     "output_type": "stream",
     "text": [
      "Epoch 256/1000 (Training): 100%|██████████| 179/179 [00:00<00:00, 261.88it/s]\n"
     ]
    },
    {
     "name": "stdout",
     "output_type": "stream",
     "text": [
      "Loss: 1.282999, Mean Absolute Error: 0.07680351316429877, Time remaining: 0:10:32.002704\n"
     ]
    },
    {
     "name": "stderr",
     "output_type": "stream",
     "text": [
      "Epoch 257/1000 (Training): 100%|██████████| 179/179 [00:00<00:00, 270.96it/s]\n"
     ]
    },
    {
     "name": "stdout",
     "output_type": "stream",
     "text": [
      "Loss: 1.302771, Mean Absolute Error: 0.07870237973626641, Time remaining: 0:10:30.987549\n"
     ]
    },
    {
     "name": "stderr",
     "output_type": "stream",
     "text": [
      "Epoch 258/1000 (Training): 100%|██████████| 179/179 [00:00<00:00, 267.24it/s]\n"
     ]
    },
    {
     "name": "stdout",
     "output_type": "stream",
     "text": [
      "Loss: 1.292725, Mean Absolute Error: 0.0780219086088777, Time remaining: 0:10:29.991390\n"
     ]
    },
    {
     "name": "stderr",
     "output_type": "stream",
     "text": [
      "Epoch 259/1000 (Training): 100%|██████████| 179/179 [00:00<00:00, 267.52it/s]\n"
     ]
    },
    {
     "name": "stdout",
     "output_type": "stream",
     "text": [
      "Loss: 1.305638, Mean Absolute Error: 0.07788413883750542, Time remaining: 0:10:28.987476\n"
     ]
    },
    {
     "name": "stderr",
     "output_type": "stream",
     "text": [
      "Epoch 260/1000 (Training): 100%|██████████| 179/179 [00:00<00:00, 265.91it/s]\n"
     ]
    },
    {
     "name": "stdout",
     "output_type": "stream",
     "text": [
      "Loss: 1.305525, Mean Absolute Error: 0.07779610918956104, Time remaining: 0:10:27.996560\n"
     ]
    },
    {
     "name": "stderr",
     "output_type": "stream",
     "text": [
      "Epoch 261/1000 (Training): 100%|██████████| 179/179 [00:00<00:00, 268.00it/s]\n"
     ]
    },
    {
     "name": "stdout",
     "output_type": "stream",
     "text": [
      "Loss: 1.292486, Mean Absolute Error: 0.07757519773345466, Time remaining: 0:10:26.991987\n"
     ]
    },
    {
     "name": "stderr",
     "output_type": "stream",
     "text": [
      "Epoch 262/1000 (Training): 100%|██████████| 179/179 [00:00<00:00, 268.56it/s]\n"
     ]
    },
    {
     "name": "stdout",
     "output_type": "stream",
     "text": [
      "Loss: 1.306921, Mean Absolute Error: 0.07818159243017746, Time remaining: 0:10:25.985622\n"
     ]
    },
    {
     "name": "stderr",
     "output_type": "stream",
     "text": [
      "Epoch 263/1000 (Training): 100%|██████████| 179/179 [00:00<00:00, 264.76it/s]\n"
     ]
    },
    {
     "name": "stdout",
     "output_type": "stream",
     "text": [
      "Loss: 1.309462, Mean Absolute Error: 0.07770801788208898, Time remaining: 0:10:25.005480\n"
     ]
    },
    {
     "name": "stderr",
     "output_type": "stream",
     "text": [
      "Epoch 264/1000 (Training): 100%|██████████| 179/179 [00:00<00:00, 269.77it/s]\n"
     ]
    },
    {
     "name": "stdout",
     "output_type": "stream",
     "text": [
      "Loss: 1.295795, Mean Absolute Error: 0.07853361210153728, Time remaining: 0:10:23.989632\n"
     ]
    },
    {
     "name": "stderr",
     "output_type": "stream",
     "text": [
      "Epoch 265/1000 (Training): 100%|██████████| 179/179 [00:00<00:00, 267.06it/s]\n"
     ]
    },
    {
     "name": "stdout",
     "output_type": "stream",
     "text": [
      "Loss: 1.288383, Mean Absolute Error: 0.0772213596522802, Time remaining: 0:10:23.006580\n"
     ]
    },
    {
     "name": "stderr",
     "output_type": "stream",
     "text": [
      "Epoch 266/1000 (Training): 100%|██████████| 179/179 [00:00<00:00, 264.98it/s]\n"
     ]
    },
    {
     "name": "stdout",
     "output_type": "stream",
     "text": [
      "Loss: 1.299927, Mean Absolute Error: 0.07775576415435191, Time remaining: 0:10:22.029034\n"
     ]
    },
    {
     "name": "stderr",
     "output_type": "stream",
     "text": [
      "Epoch 267/1000 (Training): 100%|██████████| 179/179 [00:00<00:00, 268.43it/s]\n"
     ]
    },
    {
     "name": "stdout",
     "output_type": "stream",
     "text": [
      "Loss: 1.304326, Mean Absolute Error: 0.07902392946412734, Time remaining: 0:10:21.034250\n"
     ]
    },
    {
     "name": "stderr",
     "output_type": "stream",
     "text": [
      "Epoch 268/1000 (Training): 100%|██████████| 179/179 [00:00<00:00, 265.53it/s]\n"
     ]
    },
    {
     "name": "stdout",
     "output_type": "stream",
     "text": [
      "Loss: 1.378197, Mean Absolute Error: 0.07743191402753488, Time remaining: 0:10:20.062560\n"
     ]
    },
    {
     "name": "stderr",
     "output_type": "stream",
     "text": [
      "Epoch 269/1000 (Training): 100%|██████████| 179/179 [00:00<00:00, 269.70it/s]\n"
     ]
    },
    {
     "name": "stdout",
     "output_type": "stream",
     "text": [
      "Loss: 1.288625, Mean Absolute Error: 0.07655841399382732, Time remaining: 0:10:19.082438\n"
     ]
    },
    {
     "name": "stderr",
     "output_type": "stream",
     "text": [
      "Epoch 270/1000 (Training): 100%|██████████| 179/179 [00:00<00:00, 270.47it/s]\n"
     ]
    },
    {
     "name": "stdout",
     "output_type": "stream",
     "text": [
      "Loss: 1.274560, Mean Absolute Error: 0.07696275497661251, Time remaining: 0:10:18.082970\n"
     ]
    },
    {
     "name": "stderr",
     "output_type": "stream",
     "text": [
      "Epoch 271/1000 (Training): 100%|██████████| 179/179 [00:00<00:00, 261.65it/s]\n"
     ]
    },
    {
     "name": "stdout",
     "output_type": "stream",
     "text": [
      "Loss: 1.279153, Mean Absolute Error: 0.07684217025956476, Time remaining: 0:10:17.139324\n"
     ]
    },
    {
     "name": "stderr",
     "output_type": "stream",
     "text": [
      "Epoch 272/1000 (Training): 100%|██████████| 179/179 [00:00<00:00, 269.01it/s]\n"
     ]
    },
    {
     "name": "stdout",
     "output_type": "stream",
     "text": [
      "Loss: 1.274374, Mean Absolute Error: 0.07800973711775391, Time remaining: 0:10:16.145712\n"
     ]
    },
    {
     "name": "stderr",
     "output_type": "stream",
     "text": [
      "Epoch 273/1000 (Training): 100%|██████████| 179/179 [00:00<00:00, 267.82it/s]\n"
     ]
    },
    {
     "name": "stdout",
     "output_type": "stream",
     "text": [
      "Loss: 1.294619, Mean Absolute Error: 0.07936369539377433, Time remaining: 0:10:15.163409\n"
     ]
    },
    {
     "name": "stderr",
     "output_type": "stream",
     "text": [
      "Epoch 274/1000 (Training): 100%|██████████| 179/179 [00:00<00:00, 269.27it/s]\n"
     ]
    },
    {
     "name": "stdout",
     "output_type": "stream",
     "text": [
      "Loss: 1.289961, Mean Absolute Error: 0.07717190760503571, Time remaining: 0:10:14.175672\n"
     ]
    },
    {
     "name": "stderr",
     "output_type": "stream",
     "text": [
      "Epoch 275/1000 (Training): 100%|██████████| 179/179 [00:00<00:00, 267.73it/s]\n"
     ]
    },
    {
     "name": "stdout",
     "output_type": "stream",
     "text": [
      "Loss: 1.295229, Mean Absolute Error: 0.07593631384494266, Time remaining: 0:10:13.194850\n"
     ]
    },
    {
     "name": "stderr",
     "output_type": "stream",
     "text": [
      "Epoch 276/1000 (Training): 100%|██████████| 179/179 [00:00<00:00, 264.66it/s]\n"
     ]
    },
    {
     "name": "stdout",
     "output_type": "stream",
     "text": [
      "Loss: 1.292452, Mean Absolute Error: 0.07693329356851165, Time remaining: 0:10:12.272320\n"
     ]
    },
    {
     "name": "stderr",
     "output_type": "stream",
     "text": [
      "Epoch 277/1000 (Training): 100%|██████████| 179/179 [00:00<00:00, 271.41it/s]\n"
     ]
    },
    {
     "name": "stdout",
     "output_type": "stream",
     "text": [
      "Loss: 1.266831, Mean Absolute Error: 0.07752191532124345, Time remaining: 0:10:11.271195\n"
     ]
    },
    {
     "name": "stderr",
     "output_type": "stream",
     "text": [
      "Epoch 278/1000 (Training): 100%|██████████| 179/179 [00:00<00:00, 271.79it/s]\n"
     ]
    },
    {
     "name": "stdout",
     "output_type": "stream",
     "text": [
      "Loss: 1.277805, Mean Absolute Error: 0.07765272568427828, Time remaining: 0:10:10.268334\n"
     ]
    },
    {
     "name": "stderr",
     "output_type": "stream",
     "text": [
      "Epoch 279/1000 (Training): 100%|██████████| 179/179 [00:00<00:00, 269.15it/s]\n"
     ]
    },
    {
     "name": "stdout",
     "output_type": "stream",
     "text": [
      "Loss: 1.274039, Mean Absolute Error: 0.07781871181978565, Time remaining: 0:10:09.287539\n"
     ]
    },
    {
     "name": "stderr",
     "output_type": "stream",
     "text": [
      "Epoch 280/1000 (Training): 100%|██████████| 179/179 [00:00<00:00, 248.90it/s]\n"
     ]
    },
    {
     "name": "stdout",
     "output_type": "stream",
     "text": [
      "Loss: 1.268632, Mean Absolute Error: 0.07863212939656648, Time remaining: 0:10:08.454720\n"
     ]
    },
    {
     "name": "stderr",
     "output_type": "stream",
     "text": [
      "Epoch 281/1000 (Training): 100%|██████████| 179/179 [00:00<00:00, 262.00it/s]\n"
     ]
    },
    {
     "name": "stdout",
     "output_type": "stream",
     "text": [
      "Loss: 1.305603, Mean Absolute Error: 0.0765334251468747, Time remaining: 0:10:07.516174\n"
     ]
    },
    {
     "name": "stderr",
     "output_type": "stream",
     "text": [
      "Epoch 282/1000 (Training): 100%|██████████| 179/179 [00:00<00:00, 270.19it/s]\n"
     ]
    },
    {
     "name": "stdout",
     "output_type": "stream",
     "text": [
      "Loss: 1.288303, Mean Absolute Error: 0.07785510010277608, Time remaining: 0:10:06.528346\n"
     ]
    },
    {
     "name": "stderr",
     "output_type": "stream",
     "text": [
      "Epoch 283/1000 (Training): 100%|██████████| 179/179 [00:00<00:00, 271.27it/s]\n"
     ]
    },
    {
     "name": "stdout",
     "output_type": "stream",
     "text": [
      "Loss: 1.322219, Mean Absolute Error: 0.07641488642042285, Time remaining: 0:10:05.531595\n"
     ]
    },
    {
     "name": "stderr",
     "output_type": "stream",
     "text": [
      "Epoch 284/1000 (Training): 100%|██████████| 179/179 [00:00<00:00, 262.15it/s]\n"
     ]
    },
    {
     "name": "stdout",
     "output_type": "stream",
     "text": [
      "Loss: 1.274527, Mean Absolute Error: 0.07710240030238813, Time remaining: 0:10:04.601856\n"
     ]
    },
    {
     "name": "stderr",
     "output_type": "stream",
     "text": [
      "Epoch 285/1000 (Training): 100%|██████████| 179/179 [00:00<00:00, 272.99it/s]\n"
     ]
    },
    {
     "name": "stdout",
     "output_type": "stream",
     "text": [
      "Loss: 1.272324, Mean Absolute Error: 0.0765814770629982, Time remaining: 0:10:03.611580\n"
     ]
    },
    {
     "name": "stderr",
     "output_type": "stream",
     "text": [
      "Epoch 286/1000 (Training): 100%|██████████| 179/179 [00:00<00:00, 266.93it/s]\n"
     ]
    },
    {
     "name": "stdout",
     "output_type": "stream",
     "text": [
      "Loss: 1.278752, Mean Absolute Error: 0.07693186762979604, Time remaining: 0:10:02.645988\n"
     ]
    },
    {
     "name": "stderr",
     "output_type": "stream",
     "text": [
      "Epoch 287/1000 (Training): 100%|██████████| 179/179 [00:00<00:00, 268.72it/s]\n"
     ]
    },
    {
     "name": "stdout",
     "output_type": "stream",
     "text": [
      "Loss: 1.260332, Mean Absolute Error: 0.07759406344260177, Time remaining: 0:10:01.679310\n"
     ]
    },
    {
     "name": "stderr",
     "output_type": "stream",
     "text": [
      "Epoch 288/1000 (Training): 100%|██████████| 179/179 [00:00<00:00, 270.32it/s]\n"
     ]
    },
    {
     "name": "stdout",
     "output_type": "stream",
     "text": [
      "Loss: 1.269226, Mean Absolute Error: 0.07844938610139193, Time remaining: 0:10:00.707992\n"
     ]
    },
    {
     "name": "stderr",
     "output_type": "stream",
     "text": [
      "Epoch 289/1000 (Training): 100%|██████████| 179/179 [00:00<00:00, 264.14it/s]\n"
     ]
    },
    {
     "name": "stdout",
     "output_type": "stream",
     "text": [
      "Loss: 1.263141, Mean Absolute Error: 0.07664995412982008, Time remaining: 0:09:59.771871\n"
     ]
    },
    {
     "name": "stderr",
     "output_type": "stream",
     "text": [
      "Epoch 290/1000 (Training): 100%|██████████| 179/179 [00:00<00:00, 274.17it/s]\n"
     ]
    },
    {
     "name": "stdout",
     "output_type": "stream",
     "text": [
      "Loss: 1.255511, Mean Absolute Error: 0.07691815032467741, Time remaining: 0:09:58.772110\n"
     ]
    },
    {
     "name": "stderr",
     "output_type": "stream",
     "text": [
      "Epoch 291/1000 (Training): 100%|██████████| 179/179 [00:00<00:00, 271.85it/s]\n"
     ]
    },
    {
     "name": "stdout",
     "output_type": "stream",
     "text": [
      "Loss: 1.272028, Mean Absolute Error: 0.07793603856698038, Time remaining: 0:09:57.789805\n"
     ]
    },
    {
     "name": "stderr",
     "output_type": "stream",
     "text": [
      "Epoch 292/1000 (Training): 100%|██████████| 179/179 [00:00<00:00, 274.09it/s]\n"
     ]
    },
    {
     "name": "stdout",
     "output_type": "stream",
     "text": [
      "Loss: 1.265922, Mean Absolute Error: 0.07800079977581827, Time remaining: 0:09:56.793024\n"
     ]
    },
    {
     "name": "stderr",
     "output_type": "stream",
     "text": [
      "Epoch 293/1000 (Training): 100%|██████████| 179/179 [00:00<00:00, 267.16it/s]\n"
     ]
    },
    {
     "name": "stdout",
     "output_type": "stream",
     "text": [
      "Loss: 1.249563, Mean Absolute Error: 0.0758123416514834, Time remaining: 0:09:55.832734\n"
     ]
    },
    {
     "name": "stderr",
     "output_type": "stream",
     "text": [
      "Epoch 294/1000 (Training): 100%|██████████| 179/179 [00:00<00:00, 266.77it/s]\n"
     ]
    },
    {
     "name": "stdout",
     "output_type": "stream",
     "text": [
      "Loss: 1.255614, Mean Absolute Error: 0.07696682188912397, Time remaining: 0:09:54.879836\n"
     ]
    },
    {
     "name": "stderr",
     "output_type": "stream",
     "text": [
      "Epoch 295/1000 (Training): 100%|██████████| 179/179 [00:00<00:00, 269.11it/s]\n"
     ]
    },
    {
     "name": "stdout",
     "output_type": "stream",
     "text": [
      "Loss: 1.251684, Mean Absolute Error: 0.07717035749086683, Time remaining: 0:09:53.914560\n"
     ]
    },
    {
     "name": "stderr",
     "output_type": "stream",
     "text": [
      "Epoch 296/1000 (Training): 100%|██████████| 179/179 [00:00<00:00, 270.84it/s]\n"
     ]
    },
    {
     "name": "stdout",
     "output_type": "stream",
     "text": [
      "Loss: 1.260491, Mean Absolute Error: 0.07776649807092449, Time remaining: 0:09:52.944704\n"
     ]
    },
    {
     "name": "stderr",
     "output_type": "stream",
     "text": [
      "Epoch 297/1000 (Training): 100%|██████████| 179/179 [00:00<00:00, 267.56it/s]\n"
     ]
    },
    {
     "name": "stdout",
     "output_type": "stream",
     "text": [
      "Loss: 1.279910, Mean Absolute Error: 0.0781925861977089, Time remaining: 0:09:51.995597\n"
     ]
    },
    {
     "name": "stderr",
     "output_type": "stream",
     "text": [
      "Epoch 298/1000 (Training): 100%|██████████| 179/179 [00:00<00:00, 266.26it/s]\n"
     ]
    },
    {
     "name": "stdout",
     "output_type": "stream",
     "text": [
      "Loss: 1.256394, Mean Absolute Error: 0.07698818115192432, Time remaining: 0:09:51.047496\n"
     ]
    },
    {
     "name": "stderr",
     "output_type": "stream",
     "text": [
      "Epoch 299/1000 (Training): 100%|██████████| 179/179 [00:00<00:00, 271.47it/s]\n"
     ]
    },
    {
     "name": "stdout",
     "output_type": "stream",
     "text": [
      "Loss: 1.252826, Mean Absolute Error: 0.07780324530647491, Time remaining: 0:09:50.081471\n"
     ]
    },
    {
     "name": "stderr",
     "output_type": "stream",
     "text": [
      "Epoch 300/1000 (Training): 100%|██████████| 179/179 [00:00<00:00, 269.70it/s]\n"
     ]
    },
    {
     "name": "stdout",
     "output_type": "stream",
     "text": [
      "Loss: 1.267691, Mean Absolute Error: 0.0765995676642396, Time remaining: 0:09:49.113000\n"
     ]
    },
    {
     "name": "stderr",
     "output_type": "stream",
     "text": [
      "Epoch 301/1000 (Training): 100%|██████████| 179/179 [00:00<00:00, 271.24it/s]\n"
     ]
    },
    {
     "name": "stdout",
     "output_type": "stream",
     "text": [
      "Loss: 1.256397, Mean Absolute Error: 0.07762735607927847, Time remaining: 0:09:48.162366\n"
     ]
    },
    {
     "name": "stderr",
     "output_type": "stream",
     "text": [
      "Epoch 302/1000 (Training): 100%|██████████| 179/179 [00:00<00:00, 270.55it/s]\n"
     ]
    },
    {
     "name": "stdout",
     "output_type": "stream",
     "text": [
      "Loss: 1.246276, Mean Absolute Error: 0.0767711062243034, Time remaining: 0:09:47.200876\n"
     ]
    },
    {
     "name": "stderr",
     "output_type": "stream",
     "text": [
      "Epoch 303/1000 (Training): 100%|██████████| 179/179 [00:00<00:00, 272.33it/s]\n"
     ]
    },
    {
     "name": "stdout",
     "output_type": "stream",
     "text": [
      "Loss: 1.239226, Mean Absolute Error: 0.07653372883574981, Time remaining: 0:09:46.237639\n"
     ]
    },
    {
     "name": "stderr",
     "output_type": "stream",
     "text": [
      "Epoch 304/1000 (Training): 100%|██████████| 179/179 [00:00<00:00, 272.78it/s]\n"
     ]
    },
    {
     "name": "stdout",
     "output_type": "stream",
     "text": [
      "Loss: 1.254061, Mean Absolute Error: 0.07769906867180539, Time remaining: 0:09:45.265008\n"
     ]
    },
    {
     "name": "stderr",
     "output_type": "stream",
     "text": [
      "Epoch 305/1000 (Training): 100%|██████████| 179/179 [00:00<00:00, 266.16it/s]\n"
     ]
    },
    {
     "name": "stdout",
     "output_type": "stream",
     "text": [
      "Loss: 1.242823, Mean Absolute Error: 0.07681196813212503, Time remaining: 0:09:44.322640\n"
     ]
    },
    {
     "name": "stderr",
     "output_type": "stream",
     "text": [
      "Epoch 306/1000 (Training): 100%|██████████| 179/179 [00:00<00:00, 270.75it/s]\n"
     ]
    },
    {
     "name": "stdout",
     "output_type": "stream",
     "text": [
      "Loss: 1.243736, Mean Absolute Error: 0.07722562779595718, Time remaining: 0:09:43.370154\n"
     ]
    },
    {
     "name": "stderr",
     "output_type": "stream",
     "text": [
      "Epoch 307/1000 (Training): 100%|██████████| 179/179 [00:00<00:00, 269.03it/s]\n"
     ]
    },
    {
     "name": "stdout",
     "output_type": "stream",
     "text": [
      "Loss: 1.246903, Mean Absolute Error: 0.07682492625211464, Time remaining: 0:09:42.423534\n"
     ]
    },
    {
     "name": "stderr",
     "output_type": "stream",
     "text": [
      "Epoch 308/1000 (Training): 100%|██████████| 179/179 [00:00<00:00, 272.47it/s]\n"
     ]
    },
    {
     "name": "stdout",
     "output_type": "stream",
     "text": [
      "Loss: 1.237276, Mean Absolute Error: 0.07726964377923962, Time remaining: 0:09:41.454384\n"
     ]
    },
    {
     "name": "stderr",
     "output_type": "stream",
     "text": [
      "Epoch 309/1000 (Training): 100%|██████████| 179/179 [00:00<00:00, 267.62it/s]\n"
     ]
    },
    {
     "name": "stdout",
     "output_type": "stream",
     "text": [
      "Loss: 1.245704, Mean Absolute Error: 0.07610001938460993, Time remaining: 0:09:40.511173\n"
     ]
    },
    {
     "name": "stderr",
     "output_type": "stream",
     "text": [
      "Epoch 310/1000 (Training): 100%|██████████| 179/179 [00:00<00:00, 262.75it/s]\n"
     ]
    },
    {
     "name": "stdout",
     "output_type": "stream",
     "text": [
      "Loss: 1.241119, Mean Absolute Error: 0.07645249909661737, Time remaining: 0:09:39.601380\n"
     ]
    },
    {
     "name": "stderr",
     "output_type": "stream",
     "text": [
      "Epoch 311/1000 (Training): 100%|██████████| 179/179 [00:00<00:00, 272.41it/s]\n"
     ]
    },
    {
     "name": "stdout",
     "output_type": "stream",
     "text": [
      "Loss: 1.252093, Mean Absolute Error: 0.07694147756319897, Time remaining: 0:09:38.636669\n"
     ]
    },
    {
     "name": "stderr",
     "output_type": "stream",
     "text": [
      "Epoch 312/1000 (Training): 100%|██████████| 179/179 [00:00<00:00, 272.49it/s]\n"
     ]
    },
    {
     "name": "stdout",
     "output_type": "stream",
     "text": [
      "Loss: 1.256313, Mean Absolute Error: 0.07707458500404721, Time remaining: 0:09:37.684016\n"
     ]
    },
    {
     "name": "stderr",
     "output_type": "stream",
     "text": [
      "Epoch 313/1000 (Training): 100%|██████████| 179/179 [00:00<00:00, 270.57it/s]\n"
     ]
    },
    {
     "name": "stdout",
     "output_type": "stream",
     "text": [
      "Loss: 1.260582, Mean Absolute Error: 0.07659451376039847, Time remaining: 0:09:36.726195\n"
     ]
    },
    {
     "name": "stderr",
     "output_type": "stream",
     "text": [
      "Epoch 314/1000 (Training): 100%|██████████| 179/179 [00:00<00:00, 270.51it/s]\n"
     ]
    },
    {
     "name": "stdout",
     "output_type": "stream",
     "text": [
      "Loss: 1.260432, Mean Absolute Error: 0.07698759861695, Time remaining: 0:09:35.786554\n"
     ]
    },
    {
     "name": "stderr",
     "output_type": "stream",
     "text": [
      "Epoch 315/1000 (Training): 100%|██████████| 179/179 [00:00<00:00, 268.16it/s]\n"
     ]
    },
    {
     "name": "stdout",
     "output_type": "stream",
     "text": [
      "Loss: 1.249242, Mean Absolute Error: 0.07670529324038132, Time remaining: 0:09:34.844465\n"
     ]
    },
    {
     "name": "stderr",
     "output_type": "stream",
     "text": [
      "Epoch 316/1000 (Training): 100%|██████████| 179/179 [00:00<00:00, 271.83it/s]\n"
     ]
    },
    {
     "name": "stdout",
     "output_type": "stream",
     "text": [
      "Loss: 1.231015, Mean Absolute Error: 0.07690605874137814, Time remaining: 0:09:33.898572\n"
     ]
    },
    {
     "name": "stderr",
     "output_type": "stream",
     "text": [
      "Epoch 317/1000 (Training): 100%|██████████| 179/179 [00:00<00:00, 271.36it/s]\n"
     ]
    },
    {
     "name": "stdout",
     "output_type": "stream",
     "text": [
      "Loss: 1.247002, Mean Absolute Error: 0.07693782081031703, Time remaining: 0:09:32.949576\n"
     ]
    },
    {
     "name": "stderr",
     "output_type": "stream",
     "text": [
      "Epoch 318/1000 (Training): 100%|██████████| 179/179 [00:00<00:00, 266.32it/s]\n"
     ]
    },
    {
     "name": "stdout",
     "output_type": "stream",
     "text": [
      "Loss: 1.246256, Mean Absolute Error: 0.07710063599807382, Time remaining: 0:09:32.019316\n"
     ]
    },
    {
     "name": "stderr",
     "output_type": "stream",
     "text": [
      "Epoch 319/1000 (Training): 100%|██████████| 179/179 [00:00<00:00, 262.79it/s]\n"
     ]
    },
    {
     "name": "stdout",
     "output_type": "stream",
     "text": [
      "Loss: 1.227571, Mean Absolute Error: 0.07520504470385547, Time remaining: 0:09:31.124736\n"
     ]
    },
    {
     "name": "stderr",
     "output_type": "stream",
     "text": [
      "Epoch 320/1000 (Training): 100%|██████████| 179/179 [00:00<00:00, 268.68it/s]\n"
     ]
    },
    {
     "name": "stdout",
     "output_type": "stream",
     "text": [
      "Loss: 1.234205, Mean Absolute Error: 0.07874652658740844, Time remaining: 0:09:30.188840\n"
     ]
    },
    {
     "name": "stderr",
     "output_type": "stream",
     "text": [
      "Epoch 321/1000 (Training): 100%|██████████| 179/179 [00:00<00:00, 275.78it/s]\n"
     ]
    },
    {
     "name": "stdout",
     "output_type": "stream",
     "text": [
      "Loss: 1.216829, Mean Absolute Error: 0.07704176015973216, Time remaining: 0:09:29.211811\n"
     ]
    },
    {
     "name": "stderr",
     "output_type": "stream",
     "text": [
      "Epoch 322/1000 (Training): 100%|██████████| 179/179 [00:00<00:00, 267.28it/s]\n"
     ]
    },
    {
     "name": "stdout",
     "output_type": "stream",
     "text": [
      "Loss: 1.213401, Mean Absolute Error: 0.07634767905440121, Time remaining: 0:09:28.285362\n"
     ]
    },
    {
     "name": "stderr",
     "output_type": "stream",
     "text": [
      "Epoch 323/1000 (Training): 100%|██████████| 179/179 [00:00<00:00, 261.75it/s]\n"
     ]
    },
    {
     "name": "stdout",
     "output_type": "stream",
     "text": [
      "Loss: 1.240673, Mean Absolute Error: 0.07640669928232034, Time remaining: 0:09:27.383545\n"
     ]
    },
    {
     "name": "stderr",
     "output_type": "stream",
     "text": [
      "Epoch 324/1000 (Training): 100%|██████████| 179/179 [00:00<00:00, 272.77it/s]\n"
     ]
    },
    {
     "name": "stdout",
     "output_type": "stream",
     "text": [
      "Loss: 1.208248, Mean Absolute Error: 0.07750546088439045, Time remaining: 0:09:26.431216\n"
     ]
    },
    {
     "name": "stderr",
     "output_type": "stream",
     "text": [
      "Epoch 325/1000 (Training): 100%|██████████| 179/179 [00:00<00:00, 269.22it/s]\n"
     ]
    },
    {
     "name": "stdout",
     "output_type": "stream",
     "text": [
      "Loss: 1.225752, Mean Absolute Error: 0.07584690247002544, Time remaining: 0:09:25.501500\n"
     ]
    },
    {
     "name": "stderr",
     "output_type": "stream",
     "text": [
      "Epoch 326/1000 (Training): 100%|██████████| 179/179 [00:00<00:00, 270.43it/s]\n"
     ]
    },
    {
     "name": "stdout",
     "output_type": "stream",
     "text": [
      "Loss: 1.219789, Mean Absolute Error: 0.07645231551372962, Time remaining: 0:09:24.563294\n"
     ]
    },
    {
     "name": "stderr",
     "output_type": "stream",
     "text": [
      "Epoch 327/1000 (Training): 100%|██████████| 179/179 [00:00<00:00, 269.85it/s]\n"
     ]
    },
    {
     "name": "stdout",
     "output_type": "stream",
     "text": [
      "Loss: 1.211344, Mean Absolute Error: 0.0763616077316925, Time remaining: 0:09:23.624040\n"
     ]
    },
    {
     "name": "stderr",
     "output_type": "stream",
     "text": [
      "Epoch 328/1000 (Training): 100%|██████████| 179/179 [00:00<00:00, 264.37it/s]\n"
     ]
    },
    {
     "name": "stdout",
     "output_type": "stream",
     "text": [
      "Loss: 1.237388, Mean Absolute Error: 0.0782594488739281, Time remaining: 0:09:22.717344\n"
     ]
    },
    {
     "name": "stderr",
     "output_type": "stream",
     "text": [
      "Epoch 329/1000 (Training): 100%|██████████| 179/179 [00:00<00:00, 272.07it/s]\n"
     ]
    },
    {
     "name": "stdout",
     "output_type": "stream",
     "text": [
      "Loss: 1.221230, Mean Absolute Error: 0.0769040489781513, Time remaining: 0:09:21.769923\n"
     ]
    },
    {
     "name": "stderr",
     "output_type": "stream",
     "text": [
      "Epoch 330/1000 (Training): 100%|██████████| 179/179 [00:00<00:00, 272.68it/s]\n"
     ]
    },
    {
     "name": "stdout",
     "output_type": "stream",
     "text": [
      "Loss: 1.205291, Mean Absolute Error: 0.07646221694637799, Time remaining: 0:09:20.828860\n"
     ]
    },
    {
     "name": "stderr",
     "output_type": "stream",
     "text": [
      "Epoch 331/1000 (Training): 100%|██████████| 179/179 [00:00<00:00, 264.67it/s]\n"
     ]
    },
    {
     "name": "stdout",
     "output_type": "stream",
     "text": [
      "Loss: 1.231446, Mean Absolute Error: 0.07795560769202803, Time remaining: 0:09:19.919550\n"
     ]
    },
    {
     "name": "stderr",
     "output_type": "stream",
     "text": [
      "Epoch 332/1000 (Training): 100%|██████████| 179/179 [00:00<00:00, 271.15it/s]\n"
     ]
    },
    {
     "name": "stdout",
     "output_type": "stream",
     "text": [
      "Loss: 1.235650, Mean Absolute Error: 0.07626903305839886, Time remaining: 0:09:18.978392\n"
     ]
    },
    {
     "name": "stderr",
     "output_type": "stream",
     "text": [
      "Epoch 333/1000 (Training): 100%|██████████| 179/179 [00:00<00:00, 270.77it/s]\n"
     ]
    },
    {
     "name": "stdout",
     "output_type": "stream",
     "text": [
      "Loss: 1.229514, Mean Absolute Error: 0.07613169886761677, Time remaining: 0:09:18.054221\n"
     ]
    },
    {
     "name": "stderr",
     "output_type": "stream",
     "text": [
      "Epoch 334/1000 (Training): 100%|██████████| 179/179 [00:00<00:00, 272.21it/s]\n"
     ]
    },
    {
     "name": "stdout",
     "output_type": "stream",
     "text": [
      "Loss: 1.215252, Mean Absolute Error: 0.07571656247846728, Time remaining: 0:09:17.110332\n"
     ]
    },
    {
     "name": "stderr",
     "output_type": "stream",
     "text": [
      "Epoch 335/1000 (Training): 100%|██████████| 179/179 [00:00<00:00, 274.74it/s]\n"
     ]
    },
    {
     "name": "stdout",
     "output_type": "stream",
     "text": [
      "Loss: 1.257664, Mean Absolute Error: 0.075586722479102, Time remaining: 0:09:16.162110\n"
     ]
    },
    {
     "name": "stderr",
     "output_type": "stream",
     "text": [
      "Epoch 336/1000 (Training): 100%|██████████| 179/179 [00:00<00:00, 268.13it/s]\n"
     ]
    },
    {
     "name": "stdout",
     "output_type": "stream",
     "text": [
      "Loss: 1.213835, Mean Absolute Error: 0.07620822310298431, Time remaining: 0:09:15.248752\n"
     ]
    },
    {
     "name": "stderr",
     "output_type": "stream",
     "text": [
      "Epoch 337/1000 (Training): 100%|██████████| 179/179 [00:00<00:00, 272.50it/s]\n"
     ]
    },
    {
     "name": "stdout",
     "output_type": "stream",
     "text": [
      "Loss: 1.221846, Mean Absolute Error: 0.0760031085751992, Time remaining: 0:09:14.309769\n"
     ]
    },
    {
     "name": "stderr",
     "output_type": "stream",
     "text": [
      "Epoch 338/1000 (Training): 100%|██████████| 179/179 [00:00<00:00, 263.14it/s]\n"
     ]
    },
    {
     "name": "stdout",
     "output_type": "stream",
     "text": [
      "Loss: 1.211293, Mean Absolute Error: 0.0767843281074291, Time remaining: 0:09:13.420084\n"
     ]
    },
    {
     "name": "stderr",
     "output_type": "stream",
     "text": [
      "Epoch 339/1000 (Training): 100%|██████████| 179/179 [00:00<00:00, 261.22it/s]\n"
     ]
    },
    {
     "name": "stdout",
     "output_type": "stream",
     "text": [
      "Loss: 1.216141, Mean Absolute Error: 0.07650546218433474, Time remaining: 0:09:12.542459\n"
     ]
    },
    {
     "name": "stderr",
     "output_type": "stream",
     "text": [
      "Epoch 340/1000 (Training): 100%|██████████| 179/179 [00:00<00:00, 272.20it/s]\n"
     ]
    },
    {
     "name": "stdout",
     "output_type": "stream",
     "text": [
      "Loss: 1.208108, Mean Absolute Error: 0.07866969488566923, Time remaining: 0:09:11.604240\n"
     ]
    },
    {
     "name": "stderr",
     "output_type": "stream",
     "text": [
      "Epoch 341/1000 (Training): 100%|██████████| 179/179 [00:00<00:00, 263.40it/s]\n"
     ]
    },
    {
     "name": "stdout",
     "output_type": "stream",
     "text": [
      "Loss: 1.253407, Mean Absolute Error: 0.0775188458113075, Time remaining: 0:09:10.711802\n"
     ]
    },
    {
     "name": "stderr",
     "output_type": "stream",
     "text": [
      "Epoch 342/1000 (Training): 100%|██████████| 179/179 [00:00<00:00, 270.00it/s]\n"
     ]
    },
    {
     "name": "stdout",
     "output_type": "stream",
     "text": [
      "Loss: 1.206924, Mean Absolute Error: 0.07629040257786876, Time remaining: 0:09:09.795848\n"
     ]
    },
    {
     "name": "stderr",
     "output_type": "stream",
     "text": [
      "Epoch 343/1000 (Training): 100%|██████████| 179/179 [00:00<00:00, 269.26it/s]\n"
     ]
    },
    {
     "name": "stdout",
     "output_type": "stream",
     "text": [
      "Loss: 1.215800, Mean Absolute Error: 0.07623701169466547, Time remaining: 0:09:08.871597\n"
     ]
    },
    {
     "name": "stderr",
     "output_type": "stream",
     "text": [
      "Epoch 344/1000 (Training): 100%|██████████| 179/179 [00:00<00:00, 227.04it/s]\n"
     ]
    },
    {
     "name": "stdout",
     "output_type": "stream",
     "text": [
      "Loss: 1.227195, Mean Absolute Error: 0.0756912965446089, Time remaining: 0:09:08.204768\n"
     ]
    },
    {
     "name": "stderr",
     "output_type": "stream",
     "text": [
      "Epoch 345/1000 (Training): 100%|██████████| 179/179 [00:00<00:00, 267.56it/s]\n"
     ]
    },
    {
     "name": "stdout",
     "output_type": "stream",
     "text": [
      "Loss: 1.227660, Mean Absolute Error: 0.07733318536793128, Time remaining: 0:09:07.292455\n"
     ]
    },
    {
     "name": "stderr",
     "output_type": "stream",
     "text": [
      "Epoch 346/1000 (Training): 100%|██████████| 179/179 [00:00<00:00, 266.37it/s]\n"
     ]
    },
    {
     "name": "stdout",
     "output_type": "stream",
     "text": [
      "Loss: 1.219074, Mean Absolute Error: 0.07735892333742397, Time remaining: 0:09:06.407844\n"
     ]
    },
    {
     "name": "stderr",
     "output_type": "stream",
     "text": [
      "Epoch 347/1000 (Training): 100%|██████████| 179/179 [00:00<00:00, 263.32it/s]\n"
     ]
    },
    {
     "name": "stdout",
     "output_type": "stream",
     "text": [
      "Loss: 1.223775, Mean Absolute Error: 0.07720724117017227, Time remaining: 0:09:05.518812\n"
     ]
    },
    {
     "name": "stderr",
     "output_type": "stream",
     "text": [
      "Epoch 348/1000 (Training): 100%|██████████| 179/179 [00:00<00:00, 270.71it/s]\n"
     ]
    },
    {
     "name": "stdout",
     "output_type": "stream",
     "text": [
      "Loss: 1.189569, Mean Absolute Error: 0.07572966520766448, Time remaining: 0:09:04.592128\n"
     ]
    },
    {
     "name": "stderr",
     "output_type": "stream",
     "text": [
      "Epoch 349/1000 (Training): 100%|██████████| 179/179 [00:00<00:00, 266.53it/s]\n"
     ]
    },
    {
     "name": "stdout",
     "output_type": "stream",
     "text": [
      "Loss: 1.197944, Mean Absolute Error: 0.07616696322588998, Time remaining: 0:09:03.692415\n"
     ]
    },
    {
     "name": "stderr",
     "output_type": "stream",
     "text": [
      "Epoch 350/1000 (Training): 100%|██████████| 179/179 [00:00<00:00, 271.25it/s]\n"
     ]
    },
    {
     "name": "stdout",
     "output_type": "stream",
     "text": [
      "Loss: 1.195652, Mean Absolute Error: 0.07584136038122552, Time remaining: 0:09:02.766900\n"
     ]
    },
    {
     "name": "stderr",
     "output_type": "stream",
     "text": [
      "Epoch 351/1000 (Training): 100%|██████████| 179/179 [00:00<00:00, 270.69it/s]\n"
     ]
    },
    {
     "name": "stdout",
     "output_type": "stream",
     "text": [
      "Loss: 1.200430, Mean Absolute Error: 0.07818677202369687, Time remaining: 0:09:01.854643\n"
     ]
    },
    {
     "name": "stderr",
     "output_type": "stream",
     "text": [
      "Epoch 352/1000 (Training): 100%|██████████| 179/179 [00:00<00:00, 270.87it/s]\n"
     ]
    },
    {
     "name": "stdout",
     "output_type": "stream",
     "text": [
      "Loss: 1.222291, Mean Absolute Error: 0.07612797529640017, Time remaining: 0:09:00.932904\n"
     ]
    },
    {
     "name": "stderr",
     "output_type": "stream",
     "text": [
      "Epoch 353/1000 (Training): 100%|██████████| 179/179 [00:00<00:00, 272.09it/s]\n"
     ]
    },
    {
     "name": "stdout",
     "output_type": "stream",
     "text": [
      "Loss: 1.190931, Mean Absolute Error: 0.07558032040997649, Time remaining: 0:09:00.007551\n"
     ]
    },
    {
     "name": "stderr",
     "output_type": "stream",
     "text": [
      "Epoch 354/1000 (Training): 100%|██████████| 179/179 [00:00<00:00, 266.85it/s]\n"
     ]
    },
    {
     "name": "stdout",
     "output_type": "stream",
     "text": [
      "Loss: 1.173516, Mean Absolute Error: 0.07615900505290817, Time remaining: 0:08:59.099920\n"
     ]
    },
    {
     "name": "stderr",
     "output_type": "stream",
     "text": [
      "Epoch 355/1000 (Training): 100%|██████████| 179/179 [00:00<00:00, 271.16it/s]\n"
     ]
    },
    {
     "name": "stdout",
     "output_type": "stream",
     "text": [
      "Loss: 1.187104, Mean Absolute Error: 0.07604312283856333, Time remaining: 0:08:58.184130\n"
     ]
    },
    {
     "name": "stderr",
     "output_type": "stream",
     "text": [
      "Epoch 356/1000 (Training): 100%|██████████| 179/179 [00:00<00:00, 265.62it/s]\n"
     ]
    },
    {
     "name": "stdout",
     "output_type": "stream",
     "text": [
      "Loss: 1.221375, Mean Absolute Error: 0.07636995526805064, Time remaining: 0:08:57.292420\n"
     ]
    },
    {
     "name": "stderr",
     "output_type": "stream",
     "text": [
      "Epoch 357/1000 (Training): 100%|██████████| 179/179 [00:00<00:00, 259.37it/s]\n"
     ]
    },
    {
     "name": "stdout",
     "output_type": "stream",
     "text": [
      "Loss: 1.204134, Mean Absolute Error: 0.0769573685383127, Time remaining: 0:08:56.427894\n"
     ]
    },
    {
     "name": "stderr",
     "output_type": "stream",
     "text": [
      "Epoch 358/1000 (Training): 100%|██████████| 179/179 [00:00<00:00, 267.77it/s]\n"
     ]
    },
    {
     "name": "stdout",
     "output_type": "stream",
     "text": [
      "Loss: 1.192821, Mean Absolute Error: 0.07657258410150207, Time remaining: 0:08:55.524300\n"
     ]
    },
    {
     "name": "stderr",
     "output_type": "stream",
     "text": [
      "Epoch 359/1000 (Training): 100%|██████████| 179/179 [00:00<00:00, 266.48it/s]\n"
     ]
    },
    {
     "name": "stdout",
     "output_type": "stream",
     "text": [
      "Loss: 1.201266, Mean Absolute Error: 0.07610703945577114, Time remaining: 0:08:54.631819\n"
     ]
    },
    {
     "name": "stderr",
     "output_type": "stream",
     "text": [
      "Epoch 360/1000 (Training): 100%|██████████| 179/179 [00:00<00:00, 272.79it/s]\n"
     ]
    },
    {
     "name": "stdout",
     "output_type": "stream",
     "text": [
      "Loss: 1.196789, Mean Absolute Error: 0.07679574757361633, Time remaining: 0:08:53.710080\n"
     ]
    },
    {
     "name": "stderr",
     "output_type": "stream",
     "text": [
      "Epoch 361/1000 (Training): 100%|██████████| 179/179 [00:00<00:00, 274.91it/s]\n"
     ]
    },
    {
     "name": "stdout",
     "output_type": "stream",
     "text": [
      "Loss: 1.205295, Mean Absolute Error: 0.07554171728815864, Time remaining: 0:08:52.777113\n"
     ]
    },
    {
     "name": "stderr",
     "output_type": "stream",
     "text": [
      "Epoch 362/1000 (Training): 100%|██████████| 179/179 [00:00<00:00, 264.29it/s]\n"
     ]
    },
    {
     "name": "stdout",
     "output_type": "stream",
     "text": [
      "Loss: 1.186086, Mean Absolute Error: 0.07669363938117434, Time remaining: 0:08:51.888478\n"
     ]
    },
    {
     "name": "stderr",
     "output_type": "stream",
     "text": [
      "Epoch 363/1000 (Training): 100%|██████████| 179/179 [00:00<00:00, 267.74it/s]\n"
     ]
    },
    {
     "name": "stdout",
     "output_type": "stream",
     "text": [
      "Loss: 1.193975, Mean Absolute Error: 0.07480720462452947, Time remaining: 0:08:50.986001\n"
     ]
    },
    {
     "name": "stderr",
     "output_type": "stream",
     "text": [
      "Epoch 364/1000 (Training): 100%|██████████| 179/179 [00:00<00:00, 269.11it/s]\n"
     ]
    },
    {
     "name": "stdout",
     "output_type": "stream",
     "text": [
      "Loss: 1.194026, Mean Absolute Error: 0.0756437087711992, Time remaining: 0:08:50.076108\n"
     ]
    },
    {
     "name": "stderr",
     "output_type": "stream",
     "text": [
      "Epoch 365/1000 (Training): 100%|██████████| 179/179 [00:00<00:00, 258.95it/s]\n"
     ]
    },
    {
     "name": "stdout",
     "output_type": "stream",
     "text": [
      "Loss: 1.186335, Mean Absolute Error: 0.07628872447629137, Time remaining: 0:08:49.221065\n"
     ]
    },
    {
     "name": "stderr",
     "output_type": "stream",
     "text": [
      "Epoch 366/1000 (Training): 100%|██████████| 179/179 [00:00<00:00, 272.10it/s]\n"
     ]
    },
    {
     "name": "stdout",
     "output_type": "stream",
     "text": [
      "Loss: 1.183392, Mean Absolute Error: 0.07526992446276011, Time remaining: 0:08:48.307762\n"
     ]
    },
    {
     "name": "stderr",
     "output_type": "stream",
     "text": [
      "Epoch 367/1000 (Training): 100%|██████████| 179/179 [00:00<00:00, 262.55it/s]\n"
     ]
    },
    {
     "name": "stdout",
     "output_type": "stream",
     "text": [
      "Loss: 1.183280, Mean Absolute Error: 0.07707544538719413, Time remaining: 0:08:47.430159\n"
     ]
    },
    {
     "name": "stderr",
     "output_type": "stream",
     "text": [
      "Epoch 368/1000 (Training): 100%|██████████| 179/179 [00:00<00:00, 267.58it/s]\n"
     ]
    },
    {
     "name": "stdout",
     "output_type": "stream",
     "text": [
      "Loss: 1.199914, Mean Absolute Error: 0.0774043191376257, Time remaining: 0:08:46.534368\n"
     ]
    },
    {
     "name": "stderr",
     "output_type": "stream",
     "text": [
      "Epoch 369/1000 (Training): 100%|██████████| 179/179 [00:00<00:00, 270.11it/s]\n"
     ]
    },
    {
     "name": "stdout",
     "output_type": "stream",
     "text": [
      "Loss: 1.191028, Mean Absolute Error: 0.0781517822906516, Time remaining: 0:08:45.624893\n"
     ]
    },
    {
     "name": "stderr",
     "output_type": "stream",
     "text": [
      "Epoch 370/1000 (Training): 100%|██████████| 179/179 [00:00<00:00, 265.55it/s]\n"
     ]
    },
    {
     "name": "stdout",
     "output_type": "stream",
     "text": [
      "Loss: 1.191149, Mean Absolute Error: 0.07720037976633287, Time remaining: 0:08:44.738340\n"
     ]
    },
    {
     "name": "stderr",
     "output_type": "stream",
     "text": [
      "Epoch 371/1000 (Training): 100%|██████████| 179/179 [00:00<00:00, 271.47it/s]\n"
     ]
    },
    {
     "name": "stdout",
     "output_type": "stream",
     "text": [
      "Loss: 1.279819, Mean Absolute Error: 0.07707699315477434, Time remaining: 0:08:43.826168\n"
     ]
    },
    {
     "name": "stderr",
     "output_type": "stream",
     "text": [
      "Epoch 372/1000 (Training): 100%|██████████| 179/179 [00:00<00:00, 269.28it/s]\n"
     ]
    },
    {
     "name": "stdout",
     "output_type": "stream",
     "text": [
      "Loss: 1.196575, Mean Absolute Error: 0.07599789575692792, Time remaining: 0:08:42.931204\n"
     ]
    },
    {
     "name": "stderr",
     "output_type": "stream",
     "text": [
      "Epoch 373/1000 (Training): 100%|██████████| 179/179 [00:00<00:00, 268.53it/s]\n"
     ]
    },
    {
     "name": "stdout",
     "output_type": "stream",
     "text": [
      "Loss: 1.185200, Mean Absolute Error: 0.07575210320999996, Time remaining: 0:08:42.030168\n"
     ]
    },
    {
     "name": "stderr",
     "output_type": "stream",
     "text": [
      "Epoch 374/1000 (Training): 100%|██████████| 179/179 [00:00<00:00, 264.76it/s]\n"
     ]
    },
    {
     "name": "stdout",
     "output_type": "stream",
     "text": [
      "Loss: 1.191471, Mean Absolute Error: 0.07683427416028754, Time remaining: 0:08:41.147504\n"
     ]
    },
    {
     "name": "stderr",
     "output_type": "stream",
     "text": [
      "Epoch 375/1000 (Training): 100%|██████████| 179/179 [00:00<00:00, 260.74it/s]\n"
     ]
    },
    {
     "name": "stdout",
     "output_type": "stream",
     "text": [
      "Loss: 1.180845, Mean Absolute Error: 0.07624130353027869, Time remaining: 0:08:40.287500\n"
     ]
    },
    {
     "name": "stderr",
     "output_type": "stream",
     "text": [
      "Epoch 376/1000 (Training): 100%|██████████| 179/179 [00:00<00:00, 270.06it/s]\n"
     ]
    },
    {
     "name": "stdout",
     "output_type": "stream",
     "text": [
      "Loss: 1.175375, Mean Absolute Error: 0.07578401186611523, Time remaining: 0:08:39.401376\n"
     ]
    },
    {
     "name": "stderr",
     "output_type": "stream",
     "text": [
      "Epoch 377/1000 (Training): 100%|██████████| 179/179 [00:00<00:00, 261.08it/s]\n"
     ]
    },
    {
     "name": "stdout",
     "output_type": "stream",
     "text": [
      "Loss: 1.201733, Mean Absolute Error: 0.07621519381794396, Time remaining: 0:08:38.532868\n"
     ]
    },
    {
     "name": "stderr",
     "output_type": "stream",
     "text": [
      "Epoch 378/1000 (Training): 100%|██████████| 179/179 [00:00<00:00, 265.73it/s]\n"
     ]
    },
    {
     "name": "stdout",
     "output_type": "stream",
     "text": [
      "Loss: 1.220726, Mean Absolute Error: 0.07579308712611257, Time remaining: 0:08:37.647060\n"
     ]
    },
    {
     "name": "stderr",
     "output_type": "stream",
     "text": [
      "Epoch 379/1000 (Training): 100%|██████████| 179/179 [00:00<00:00, 269.20it/s]\n"
     ]
    },
    {
     "name": "stdout",
     "output_type": "stream",
     "text": [
      "Loss: 1.192052, Mean Absolute Error: 0.0748618722101844, Time remaining: 0:08:36.745278\n",
      "Early stopping at epoch 379 due to no improvement in validation loss.\n",
      "Best Validation Loss: 1.1735 at epoch 354\n"
     ]
    },
    {
     "ename": "AttributeError",
     "evalue": "'dict' object has no attribute 'append'",
     "output_type": "error",
     "traceback": [
      "\u001b[0;31m---------------------------------------------------------------------------\u001b[0m",
      "\u001b[0;31mAttributeError\u001b[0m                            Traceback (most recent call last)",
      "Cell \u001b[0;32mIn[5], line 13\u001b[0m\n\u001b[1;32m     11\u001b[0m saved_models\u001b[38;5;241m.\u001b[39mappend(model)\n\u001b[1;32m     12\u001b[0m \u001b[38;5;66;03m# t_info[\"No Schedule\"] = training_info\u001b[39;00m\n\u001b[0;32m---> 13\u001b[0m \u001b[43mt_info\u001b[49m\u001b[38;5;241;43m.\u001b[39;49m\u001b[43mappend\u001b[49m(training_info)\n",
      "\u001b[0;31mAttributeError\u001b[0m: 'dict' object has no attribute 'append'"
     ]
    }
   ],
   "source": [
    "saved_models = []\n",
    "t_info = []\n",
    "\n",
    "model = models.kp2pose()\n",
    "training_info = model.train_model(\n",
    "    train, test, epochs=1000, early_stopping_patience=25, learning_rate=10**-4\n",
    ")\n",
    "torch.save(\n",
    "    model.state_dict(), f\"models/kp2pose_{datetime.now().strftime('%Y%m%d-%H%M%S')}.pt\"\n",
    ")\n",
    "saved_models.append(model)\n",
    "t_info.append(training_info)\n"
   ]
  },
  {
   "cell_type": "code",
   "execution_count": 7,
   "metadata": {},
   "outputs": [
    {
     "data": {
      "image/png": "[encoded data removed]",
      "text/plain": [
       "<Figure size 640x480 with 1 Axes>"
      ]
     },
     "metadata": {},
     "output_type": "display_data"
    },
    {
     "data": {
      "image/png": "[encoded data removed]",
      "text/plain": [
       "<Figure size 640x480 with 1 Axes>"
      ]
     },
     "metadata": {},
     "output_type": "display_data"
    }
   ],
   "source": [
    "# Plot loss and root mean square error\n",
    "# Plot training loss\n",
    "t_info.append(training_info)\n",
    "for training_info in t_info:\n",
    "\n",
    "    plt.plot(training_info[\"loss\"], label=f\"Training Losss\")\n",
    "    plt.xlabel(\"Epochs\")\n",
    "    plt.ylabel(\"Loss\")\n",
    "plt.legend()\n",
    "plt.show()\n",
    "\n",
    "# Plot validation accuracy\n",
    "for training_info in t_info:\n",
    "    plt.plot(training_info[\"mae\"], label=f\"Mean Absolute Error\")\n",
    "    plt.xlabel(\"Epochs\")\n",
    "    plt.ylabel(\"MAE\")\n",
    "plt.legend()\n",
    "plt.show()"
   ]
  },
  {
   "cell_type": "markdown",
   "metadata": {},
   "source": [
    "# Validation"
   ]
  },
  {
   "cell_type": "code",
   "execution_count": 8,
   "metadata": {},
   "outputs": [
    {
     "name": "stderr",
     "output_type": "stream",
     "text": [
      "No artists with labels found to put in legend.  Note that artists whose label start with an underscore are ignored when legend() is called with no argument.\n"
     ]
    },
    {
     "data": {
      "image/png": "[encoded data removed]",
      "text/plain": [
       "<Figure size 640x480 with 1 Axes>"
      ]
     },
     "metadata": {},
     "output_type": "display_data"
    },
    {
     "name": "stderr",
     "output_type": "stream",
     "text": [
      "No artists with labels found to put in legend.  Note that artists whose label start with an underscore are ignored when legend() is called with no argument.\n"
     ]
    },
    {
     "data": {
      "image/png": "[encoded data removed]",
      "text/plain": [
       "<Figure size 640x480 with 1 Axes>"
      ]
     },
     "metadata": {},
     "output_type": "display_data"
    },
    {
     "data": {
      "image/png": "[encoded data removed]",
      "text/plain": [
       "<Figure size 640x480 with 1 Axes>"
      ]
     },
     "metadata": {},
     "output_type": "display_data"
    }
   ],
   "source": [
    "for idx, model in enumerate(saved_models):\n",
    "    true_labels = []\n",
    "    predicted_labels = []\n",
    "\n",
    "    # Set the model to evaluation mode\n",
    "    model.eval()\n",
    "    device = torch.device(\"cuda\" if torch.cuda.is_available() else \"cpu\")\n",
    "    rmse_list_pose = []\n",
    "    rmse_list_rotation = []\n",
    "    # Loop through the validation dataloader\n",
    "    with torch.no_grad():\n",
    "        for inputs, labels in val:\n",
    "            outputs = model(inputs.to(device))\n",
    "            true_labels.extend(labels.tolist())\n",
    "            predicted_labels.extend(outputs.tolist())\n",
    "            for output, label in zip(outputs, labels.to(device)):\n",
    "                mse = nn.MSELoss()(output[1:], label[1:])\n",
    "                rmse = torch.sqrt(mse)\n",
    "                rmse_list_pose.append(float(rmse))\n",
    "                \n",
    "                mse1 = nn.MSELoss()(output[0], label[0])\n",
    "                rmse1 = torch.sqrt(mse1)\n",
    "                rmse_list_rotation.append(float(rmse1))\n",
    "\n",
    "    sns.histplot(rmse_list_pose, kde=True)\n",
    "    plt.xlabel(\"Error\")\n",
    "    plt.ylabel(\"Frequency\")\n",
    "    plt.legend()\n",
    "    plt.show()\n",
    "    \n",
    "    sns.histplot(rmse_list_rotation, kde=True)\n",
    "    plt.xlabel(\"Error\")\n",
    "    plt.ylabel(\"Frequency\")\n",
    "    plt.legend()\n",
    "    plt.show()\n",
    "\n",
    "    true_array = np.array(true_labels)\n",
    "    pred_array = np.array(predicted_labels)\n",
    "    plt.scatter(true_array[:,0,:], pred_array[:,0,:], alpha=0.5, c=\"b\", label=\"Hand Rotation\")\n",
    "    plt.scatter(true_array[:,1:,], pred_array[:,1:,:], alpha=0.5, c=\"r\", label=\"Pose Features\")\n",
    "\n",
    "    line_x = np.linspace(-np.pi, np.pi, 100)\n",
    "    line_y = line_x  # y = x for the line going through the origin\n",
    "\n",
    "    plt.plot(line_x, line_y, color=\"black\", linestyle=\"--\")\n",
    "    plt.legend()\n",
    "    plt.xlabel(\"True Label\")\n",
    "    plt.ylabel(\"Predicted Label\")\n",
    "    plt.title(\"Scatter Plot of True vs. Predicted Labels\")\n",
    "    plt.show()"
   ]
  }
 ],
 "metadata": {
  "kernelspec": {
   "display_name": "typ",
   "language": "python",
   "name": "python3"
  },
  "language_info": {
   "codemirror_mode": {
    "name": "ipython",
    "version": 3
   },
   "file_extension": ".py",
   "mimetype": "text/x-python",
   "name": "python",
   "nbconvert_exporter": "python",
   "pygments_lexer": "ipython3",
   "version": "3.9.18"
  }
 },
 "nbformat": 4,
 "nbformat_minor": 2
}
